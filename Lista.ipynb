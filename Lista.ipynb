{
  "nbformat": 4,
  "nbformat_minor": 0,
  "metadata": {
    "colab": {
      "provenance": [],
      "authorship_tag": "ABX9TyMfJl3loL7ff4u7uvVlzc5n",
      "include_colab_link": true
    },
    "kernelspec": {
      "name": "python3",
      "display_name": "Python 3"
    },
    "language_info": {
      "name": "python"
    }
  },
  "cells": [
    {
      "cell_type": "markdown",
      "metadata": {
        "id": "view-in-github",
        "colab_type": "text"
      },
      "source": [
        "<a href=\"https://colab.research.google.com/github/daniloMenesesEsme/Projeto01/blob/main/Lista.ipynb\" target=\"_parent\"><img src=\"https://colab.research.google.com/assets/colab-badge.svg\" alt=\"Open In Colab\"/></a>"
      ]
    },
    {
      "cell_type": "markdown",
      "source": [
        "## Criando uma lista"
      ],
      "metadata": {
        "id": "IP5hWKcbuhqP"
      }
    },
    {
      "cell_type": "code",
      "source": [
        "lista = ['Danilo', 'Silvia', 'Caio', 'Samara', 'Diego', 'Diene']"
      ],
      "metadata": {
        "id": "orW6BtE_u1ne"
      },
      "execution_count": 1,
      "outputs": []
    },
    {
      "cell_type": "code",
      "source": [
        "lista"
      ],
      "metadata": {
        "colab": {
          "base_uri": "https://localhost:8080/"
        },
        "id": "t3tLg9NcvFjd",
        "outputId": "e1dbbed4-fab5-449d-c14c-796585938f7f"
      },
      "execution_count": 2,
      "outputs": [
        {
          "output_type": "execute_result",
          "data": {
            "text/plain": [
              "['Danilo', 'Silvia', 'Caio', 'Samara', 'Diego', 'Diene']"
            ]
          },
          "metadata": {},
          "execution_count": 2
        }
      ]
    },
    {
      "cell_type": "code",
      "source": [
        "type(lista)"
      ],
      "metadata": {
        "colab": {
          "base_uri": "https://localhost:8080/"
        },
        "id": "ZS0g1-U0vI0l",
        "outputId": "6151f0f7-63ef-4306-a75c-66015ae3de5c"
      },
      "execution_count": 3,
      "outputs": [
        {
          "output_type": "execute_result",
          "data": {
            "text/plain": [
              "list"
            ]
          },
          "metadata": {},
          "execution_count": 3
        }
      ]
    },
    {
      "cell_type": "code",
      "source": [
        "print(lista)"
      ],
      "metadata": {
        "colab": {
          "base_uri": "https://localhost:8080/"
        },
        "id": "kbUu7GJYvMts",
        "outputId": "e4bd383d-8eeb-47f2-a2c1-7dd5cc8ece57"
      },
      "execution_count": 4,
      "outputs": [
        {
          "output_type": "stream",
          "name": "stdout",
          "text": [
            "['Danilo', 'Silvia', 'Caio', 'Samara', 'Diego', 'Diene']\n"
          ]
        }
      ]
    },
    {
      "cell_type": "markdown",
      "source": [
        "## Lista com tipos de objetos diferentes"
      ],
      "metadata": {
        "id": "gilM6_0EvQd0"
      }
    },
    {
      "cell_type": "code",
      "source": [
        "lista = [10, True, 'Danilo', 123.45, 'Python']"
      ],
      "metadata": {
        "id": "Pc2ozcQcvbEQ"
      },
      "execution_count": 15,
      "outputs": []
    },
    {
      "cell_type": "code",
      "source": [
        "print(lista)"
      ],
      "metadata": {
        "colab": {
          "base_uri": "https://localhost:8080/"
        },
        "id": "AeWspKz8vmZw",
        "outputId": "ba87ce0f-99f0-4044-8ac8-a81143471db2"
      },
      "execution_count": 16,
      "outputs": [
        {
          "output_type": "stream",
          "name": "stdout",
          "text": [
            "[10, True, 'Danilo', 123.45, 'Python']\n"
          ]
        }
      ]
    },
    {
      "cell_type": "code",
      "source": [
        "type(lista)"
      ],
      "metadata": {
        "colab": {
          "base_uri": "https://localhost:8080/"
        },
        "id": "a-zpSVgnvpyc",
        "outputId": "981ce9a0-1e93-4a27-de28-3ff1de5ed7ee"
      },
      "execution_count": 17,
      "outputs": [
        {
          "output_type": "execute_result",
          "data": {
            "text/plain": [
              "list"
            ]
          },
          "metadata": {},
          "execution_count": 17
        }
      ]
    },
    {
      "cell_type": "code",
      "source": [
        "lista2 = [10, 'Danilo', [1, 2, 3]]"
      ],
      "metadata": {
        "id": "FEYYbJE1vr6k"
      },
      "execution_count": 18,
      "outputs": []
    },
    {
      "cell_type": "code",
      "source": [
        "type(lista2)"
      ],
      "metadata": {
        "colab": {
          "base_uri": "https://localhost:8080/"
        },
        "id": "D2hxoGG-v37r",
        "outputId": "b60cd740-bf04-4d16-a81f-f36bef51433c"
      },
      "execution_count": 19,
      "outputs": [
        {
          "output_type": "execute_result",
          "data": {
            "text/plain": [
              "list"
            ]
          },
          "metadata": {},
          "execution_count": 19
        }
      ]
    },
    {
      "cell_type": "markdown",
      "source": [
        "## Acessando elementos de uma lista pelo índice"
      ],
      "metadata": {
        "id": "As48npG1v__D"
      }
    },
    {
      "cell_type": "code",
      "source": [
        "print(lista)"
      ],
      "metadata": {
        "colab": {
          "base_uri": "https://localhost:8080/"
        },
        "id": "6jIEtdr7wI2D",
        "outputId": "327e8031-510f-4dd6-895b-839aa6a76ae2"
      },
      "execution_count": 20,
      "outputs": [
        {
          "output_type": "stream",
          "name": "stdout",
          "text": [
            "[10, True, 'Danilo', 123.45, 'Python']\n"
          ]
        }
      ]
    },
    {
      "cell_type": "code",
      "source": [
        "lista[0]"
      ],
      "metadata": {
        "colab": {
          "base_uri": "https://localhost:8080/"
        },
        "id": "76Qu3eQLwNqy",
        "outputId": "6b412708-059e-4c91-e94d-c867d2aba8ff"
      },
      "execution_count": 21,
      "outputs": [
        {
          "output_type": "execute_result",
          "data": {
            "text/plain": [
              "10"
            ]
          },
          "metadata": {},
          "execution_count": 21
        }
      ]
    },
    {
      "cell_type": "code",
      "source": [
        "lista[3]"
      ],
      "metadata": {
        "colab": {
          "base_uri": "https://localhost:8080/"
        },
        "id": "xKnm_I7BwRsS",
        "outputId": "430a7eeb-03cd-4b78-cd4d-ab878f6b6d48"
      },
      "execution_count": 22,
      "outputs": [
        {
          "output_type": "execute_result",
          "data": {
            "text/plain": [
              "123.45"
            ]
          },
          "metadata": {},
          "execution_count": 22
        }
      ]
    },
    {
      "cell_type": "code",
      "source": [
        "lista[2]"
      ],
      "metadata": {
        "colab": {
          "base_uri": "https://localhost:8080/",
          "height": 36
        },
        "id": "7lrwvubEwUe6",
        "outputId": "21aecdff-0633-4ba3-b1db-3b907ac559ca"
      },
      "execution_count": 23,
      "outputs": [
        {
          "output_type": "execute_result",
          "data": {
            "text/plain": [
              "'Danilo'"
            ],
            "application/vnd.google.colaboratory.intrinsic+json": {
              "type": "string"
            }
          },
          "metadata": {},
          "execution_count": 23
        }
      ]
    },
    {
      "cell_type": "code",
      "source": [
        "lista[4]"
      ],
      "metadata": {
        "colab": {
          "base_uri": "https://localhost:8080/",
          "height": 36
        },
        "id": "KMBX-ArXwlbi",
        "outputId": "e3069202-e2af-489c-e105-b9c597834dfa"
      },
      "execution_count": 24,
      "outputs": [
        {
          "output_type": "execute_result",
          "data": {
            "text/plain": [
              "'Python'"
            ],
            "application/vnd.google.colaboratory.intrinsic+json": {
              "type": "string"
            }
          },
          "metadata": {},
          "execution_count": 24
        }
      ]
    },
    {
      "cell_type": "code",
      "source": [
        "lista[-1]"
      ],
      "metadata": {
        "colab": {
          "base_uri": "https://localhost:8080/",
          "height": 36
        },
        "id": "PbsGXJ6ZwomB",
        "outputId": "3022e672-72f5-4851-83a4-972cca9441a7"
      },
      "execution_count": 25,
      "outputs": [
        {
          "output_type": "execute_result",
          "data": {
            "text/plain": [
              "'Python'"
            ],
            "application/vnd.google.colaboratory.intrinsic+json": {
              "type": "string"
            }
          },
          "metadata": {},
          "execution_count": 25
        }
      ]
    },
    {
      "cell_type": "markdown",
      "source": [
        "## Acessando uma lista dentro de outra lista"
      ],
      "metadata": {
        "id": "sFrMG5WSwr_h"
      }
    },
    {
      "cell_type": "code",
      "source": [
        "lista2"
      ],
      "metadata": {
        "colab": {
          "base_uri": "https://localhost:8080/"
        },
        "id": "azVSoL9Eww8h",
        "outputId": "1dd0667b-8bd9-4c81-d8fd-05843b996045"
      },
      "execution_count": 26,
      "outputs": [
        {
          "output_type": "execute_result",
          "data": {
            "text/plain": [
              "[10, 'Danilo', [1, 2, 3]]"
            ]
          },
          "metadata": {},
          "execution_count": 26
        }
      ]
    },
    {
      "cell_type": "code",
      "source": [
        "lista2[2][1]"
      ],
      "metadata": {
        "colab": {
          "base_uri": "https://localhost:8080/"
        },
        "id": "lj9rw1qcw2dx",
        "outputId": "06bc181c-4192-4547-b7a5-fa2147d79a59"
      },
      "execution_count": 27,
      "outputs": [
        {
          "output_type": "execute_result",
          "data": {
            "text/plain": [
              "2"
            ]
          },
          "metadata": {},
          "execution_count": 27
        }
      ]
    },
    {
      "cell_type": "code",
      "source": [
        "lista2[1][3]"
      ],
      "metadata": {
        "colab": {
          "base_uri": "https://localhost:8080/",
          "height": 36
        },
        "id": "N1i_umpCxAKI",
        "outputId": "d7e2b517-d6d9-43f1-b16e-bf1164ab76ef"
      },
      "execution_count": 28,
      "outputs": [
        {
          "output_type": "execute_result",
          "data": {
            "text/plain": [
              "'i'"
            ],
            "application/vnd.google.colaboratory.intrinsic+json": {
              "type": "string"
            }
          },
          "metadata": {},
          "execution_count": 28
        }
      ]
    },
    {
      "cell_type": "code",
      "source": [
        "lista2[1][-1]"
      ],
      "metadata": {
        "colab": {
          "base_uri": "https://localhost:8080/",
          "height": 36
        },
        "id": "zOUJxiF1xJ1g",
        "outputId": "61ef9431-e2c7-42bb-aaf4-f9a64af42282"
      },
      "execution_count": 29,
      "outputs": [
        {
          "output_type": "execute_result",
          "data": {
            "text/plain": [
              "'o'"
            ],
            "application/vnd.google.colaboratory.intrinsic+json": {
              "type": "string"
            }
          },
          "metadata": {},
          "execution_count": 29
        }
      ]
    },
    {
      "cell_type": "code",
      "source": [
        "lista2[1][4]"
      ],
      "metadata": {
        "colab": {
          "base_uri": "https://localhost:8080/",
          "height": 36
        },
        "id": "4JeBPCPtxPvA",
        "outputId": "d16e220a-cfe4-4384-e91d-d6aa406a961b"
      },
      "execution_count": 31,
      "outputs": [
        {
          "output_type": "execute_result",
          "data": {
            "text/plain": [
              "'l'"
            ],
            "application/vnd.google.colaboratory.intrinsic+json": {
              "type": "string"
            }
          },
          "metadata": {},
          "execution_count": 31
        }
      ]
    },
    {
      "cell_type": "markdown",
      "source": [
        "## Utilizando slicing (fatiamento) em uma lista"
      ],
      "metadata": {
        "id": "7LYlKgUXxUyf"
      }
    },
    {
      "cell_type": "code",
      "source": [
        "lista"
      ],
      "metadata": {
        "colab": {
          "base_uri": "https://localhost:8080/"
        },
        "id": "MgJaFWU-xkmv",
        "outputId": "eced8d7f-3e4f-4aec-ff4a-0d13231f3a85"
      },
      "execution_count": 32,
      "outputs": [
        {
          "output_type": "execute_result",
          "data": {
            "text/plain": [
              "[10, True, 'Danilo', 123.45, 'Python']"
            ]
          },
          "metadata": {},
          "execution_count": 32
        }
      ]
    },
    {
      "cell_type": "code",
      "source": [
        "lista[0:2]"
      ],
      "metadata": {
        "colab": {
          "base_uri": "https://localhost:8080/"
        },
        "id": "zzxSoSH2xngn",
        "outputId": "6792d4f2-1c29-49c1-99a5-42f00ef5e080"
      },
      "execution_count": 33,
      "outputs": [
        {
          "output_type": "execute_result",
          "data": {
            "text/plain": [
              "[10, True]"
            ]
          },
          "metadata": {},
          "execution_count": 33
        }
      ]
    },
    {
      "cell_type": "code",
      "source": [
        "lista[0:3]"
      ],
      "metadata": {
        "colab": {
          "base_uri": "https://localhost:8080/"
        },
        "id": "iH9z8dxoxs6n",
        "outputId": "02292e06-2652-425b-95f2-ae9807bf6fd1"
      },
      "execution_count": 34,
      "outputs": [
        {
          "output_type": "execute_result",
          "data": {
            "text/plain": [
              "[10, True, 'Danilo']"
            ]
          },
          "metadata": {},
          "execution_count": 34
        }
      ]
    },
    {
      "cell_type": "markdown",
      "source": [
        "# Operadoresa **in** e **not in**\n"
      ],
      "metadata": {
        "id": "RjqvjgUmxxwX"
      }
    },
    {
      "cell_type": "code",
      "source": [
        "lista"
      ],
      "metadata": {
        "colab": {
          "base_uri": "https://localhost:8080/"
        },
        "id": "I8Xuy0hZyBH2",
        "outputId": "54e0e412-1c93-4f83-93ba-a6264748fe5c"
      },
      "execution_count": 35,
      "outputs": [
        {
          "output_type": "execute_result",
          "data": {
            "text/plain": [
              "[10, True, 'Danilo', 123.45, 'Python']"
            ]
          },
          "metadata": {},
          "execution_count": 35
        }
      ]
    },
    {
      "cell_type": "code",
      "source": [
        "123.45 in lista"
      ],
      "metadata": {
        "colab": {
          "base_uri": "https://localhost:8080/"
        },
        "id": "3XupukN0yO_-",
        "outputId": "0da7d03b-44f1-4154-e33e-f89f31fcddae"
      },
      "execution_count": 36,
      "outputs": [
        {
          "output_type": "execute_result",
          "data": {
            "text/plain": [
              "True"
            ]
          },
          "metadata": {},
          "execution_count": 36
        }
      ]
    },
    {
      "cell_type": "code",
      "source": [
        "'Vinicius' in lista"
      ],
      "metadata": {
        "colab": {
          "base_uri": "https://localhost:8080/"
        },
        "id": "rVQWRsIayUOm",
        "outputId": "70514645-e3c1-4f59-ef6d-b131e6dc1b82"
      },
      "execution_count": 37,
      "outputs": [
        {
          "output_type": "execute_result",
          "data": {
            "text/plain": [
              "False"
            ]
          },
          "metadata": {},
          "execution_count": 37
        }
      ]
    },
    {
      "cell_type": "code",
      "source": [
        "'Danilo' not in lista"
      ],
      "metadata": {
        "colab": {
          "base_uri": "https://localhost:8080/"
        },
        "id": "4lxKaL8RydSu",
        "outputId": "eace65fd-14aa-48a2-cbf2-6060bcf319f9"
      },
      "execution_count": 38,
      "outputs": [
        {
          "output_type": "execute_result",
          "data": {
            "text/plain": [
              "False"
            ]
          },
          "metadata": {},
          "execution_count": 38
        }
      ]
    },
    {
      "cell_type": "markdown",
      "source": [
        "# Manipulando elementos de uma lista"
      ],
      "metadata": {
        "id": "aA6Hw_ndyiem"
      }
    },
    {
      "cell_type": "markdown",
      "source": [
        "## Adicionando elementos"
      ],
      "metadata": {
        "id": "8VN8Yfuj1CYY"
      }
    },
    {
      "cell_type": "markdown",
      "source": [
        "## Métodos **append( )**"
      ],
      "metadata": {
        "id": "PaWJi93K1KHP"
      }
    },
    {
      "cell_type": "markdown",
      "source": [
        "## O método **append()** insere um elemento sempre no final da lista"
      ],
      "metadata": {
        "id": "Uqh_TQqz1anx"
      }
    },
    {
      "cell_type": "code",
      "source": [
        "lista"
      ],
      "metadata": {
        "colab": {
          "base_uri": "https://localhost:8080/"
        },
        "id": "UFFgHZIN1xgu",
        "outputId": "6b1ee9c4-0aa1-413d-f341-812ce67cbdee"
      },
      "execution_count": 39,
      "outputs": [
        {
          "output_type": "execute_result",
          "data": {
            "text/plain": [
              "[10, True, 'Danilo', 123.45, 'Python']"
            ]
          },
          "metadata": {},
          "execution_count": 39
        }
      ]
    },
    {
      "cell_type": "code",
      "source": [
        "lista.append('Silvia')"
      ],
      "metadata": {
        "id": "SmRgn6Ca10NP"
      },
      "execution_count": 40,
      "outputs": []
    },
    {
      "cell_type": "code",
      "source": [
        "lista"
      ],
      "metadata": {
        "colab": {
          "base_uri": "https://localhost:8080/"
        },
        "id": "RTK2XnyW18Gf",
        "outputId": "26400f3a-f230-4963-d42f-0029e5e55faa"
      },
      "execution_count": 41,
      "outputs": [
        {
          "output_type": "execute_result",
          "data": {
            "text/plain": [
              "[10, True, 'Danilo', 123.45, 'Python', 'Silvia']"
            ]
          },
          "metadata": {},
          "execution_count": 41
        }
      ]
    },
    {
      "cell_type": "markdown",
      "source": [
        "## Método **insert()**"
      ],
      "metadata": {
        "id": "0uYmPasj19Z-"
      }
    },
    {
      "cell_type": "markdown",
      "source": [
        "### O método **insert()** recebe dois argumentos: O índice onde vamos inserir o elemento e o valor do elemento."
      ],
      "metadata": {
        "id": "dfV5ruJa2Qj9"
      }
    },
    {
      "cell_type": "code",
      "source": [
        "lista.insert(1, 'Caio')"
      ],
      "metadata": {
        "id": "6FPc-aq62jMs"
      },
      "execution_count": 42,
      "outputs": []
    },
    {
      "cell_type": "code",
      "source": [
        "lista"
      ],
      "metadata": {
        "colab": {
          "base_uri": "https://localhost:8080/"
        },
        "id": "l6WeL0YE2vfM",
        "outputId": "e88d5744-a183-421f-d135-a7cc3a494a68"
      },
      "execution_count": 43,
      "outputs": [
        {
          "output_type": "execute_result",
          "data": {
            "text/plain": [
              "[10, 'Caio', True, 'Danilo', 123.45, 'Python', 'Silvia']"
            ]
          },
          "metadata": {},
          "execution_count": 43
        }
      ]
    },
    {
      "cell_type": "code",
      "source": [
        "lista.insert(3, 'Diego')"
      ],
      "metadata": {
        "id": "6w6_ZSkV2xXM"
      },
      "execution_count": 44,
      "outputs": []
    },
    {
      "cell_type": "code",
      "source": [
        "lista"
      ],
      "metadata": {
        "colab": {
          "base_uri": "https://localhost:8080/"
        },
        "id": "noDrhvmX248c",
        "outputId": "318d7fb3-7279-4647-cf11-2d7de5f205f2"
      },
      "execution_count": 45,
      "outputs": [
        {
          "output_type": "execute_result",
          "data": {
            "text/plain": [
              "[10, 'Caio', True, 'Diego', 'Danilo', 123.45, 'Python', 'Silvia']"
            ]
          },
          "metadata": {},
          "execution_count": 45
        }
      ]
    },
    {
      "cell_type": "code",
      "source": [
        "lista.insert(5, 'Samara')"
      ],
      "metadata": {
        "id": "nN92oPjg25yc"
      },
      "execution_count": 46,
      "outputs": []
    },
    {
      "cell_type": "code",
      "source": [
        "lista"
      ],
      "metadata": {
        "colab": {
          "base_uri": "https://localhost:8080/"
        },
        "id": "dtDfzJms3FKs",
        "outputId": "1fde92b5-34e2-4715-bb64-8ae9ace33295"
      },
      "execution_count": 47,
      "outputs": [
        {
          "output_type": "execute_result",
          "data": {
            "text/plain": [
              "[10, 'Caio', True, 'Diego', 'Danilo', 'Samara', 123.45, 'Python', 'Silvia']"
            ]
          },
          "metadata": {},
          "execution_count": 47
        }
      ]
    },
    {
      "cell_type": "markdown",
      "source": [
        "## Excluindo elementos da lista"
      ],
      "metadata": {
        "id": "Zlfw7noH3Gwk"
      }
    },
    {
      "cell_type": "markdown",
      "source": [
        "### Método **pop()**"
      ],
      "metadata": {
        "id": "Gb5HIebH3RNz"
      }
    },
    {
      "cell_type": "markdown",
      "source": [
        "### O método **pop()** exclui o último elemento de uma lista."
      ],
      "metadata": {
        "id": "46G2Ggp_3bhL"
      }
    },
    {
      "cell_type": "code",
      "source": [
        "lista"
      ],
      "metadata": {
        "colab": {
          "base_uri": "https://localhost:8080/"
        },
        "id": "DeUq9VVr3qKT",
        "outputId": "708ef6e0-1373-445e-bc2c-05c7afecccd2"
      },
      "execution_count": 48,
      "outputs": [
        {
          "output_type": "execute_result",
          "data": {
            "text/plain": [
              "[10, 'Caio', True, 'Diego', 'Danilo', 'Samara', 123.45, 'Python', 'Silvia']"
            ]
          },
          "metadata": {},
          "execution_count": 48
        }
      ]
    },
    {
      "cell_type": "code",
      "source": [
        "lista.pop()"
      ],
      "metadata": {
        "colab": {
          "base_uri": "https://localhost:8080/",
          "height": 36
        },
        "id": "1Y9c47gD3r5j",
        "outputId": "bb331269-57d9-41a7-fbd9-7157ec7e65ca"
      },
      "execution_count": 50,
      "outputs": [
        {
          "output_type": "execute_result",
          "data": {
            "text/plain": [
              "'Silvia'"
            ],
            "application/vnd.google.colaboratory.intrinsic+json": {
              "type": "string"
            }
          },
          "metadata": {},
          "execution_count": 50
        }
      ]
    },
    {
      "cell_type": "markdown",
      "source": [
        "## O método **remove()**"
      ],
      "metadata": {
        "id": "AROLQYgR3xsS"
      }
    },
    {
      "cell_type": "markdown",
      "source": [
        "## O método **remove()** permite especificar qual elemento deverá ser removido."
      ],
      "metadata": {
        "id": "Y2N9e_y-4B3C"
      }
    },
    {
      "cell_type": "code",
      "source": [
        "lista"
      ],
      "metadata": {
        "colab": {
          "base_uri": "https://localhost:8080/"
        },
        "id": "Z8QWVm7B4NRa",
        "outputId": "dbb04013-dceb-4d2b-db4d-83d56209291b"
      },
      "execution_count": 51,
      "outputs": [
        {
          "output_type": "execute_result",
          "data": {
            "text/plain": [
              "[10, 'Caio', True, 'Diego', 'Danilo', 'Samara', 123.45, 'Python']"
            ]
          },
          "metadata": {},
          "execution_count": 51
        }
      ]
    },
    {
      "cell_type": "code",
      "source": [
        "lista.remove(123.45)"
      ],
      "metadata": {
        "id": "xzHzcaCa4PjK"
      },
      "execution_count": 52,
      "outputs": []
    },
    {
      "cell_type": "code",
      "source": [
        "lista"
      ],
      "metadata": {
        "colab": {
          "base_uri": "https://localhost:8080/"
        },
        "id": "DmJMqgJQ4UVY",
        "outputId": "bda0574a-ae04-42b0-c5ba-99f075d03831"
      },
      "execution_count": 53,
      "outputs": [
        {
          "output_type": "execute_result",
          "data": {
            "text/plain": [
              "[10, 'Caio', True, 'Diego', 'Danilo', 'Samara', 'Python']"
            ]
          },
          "metadata": {},
          "execution_count": 53
        }
      ]
    },
    {
      "cell_type": "code",
      "source": [
        "lista.remove(10)"
      ],
      "metadata": {
        "id": "AdU1IsDR4V7R"
      },
      "execution_count": 54,
      "outputs": []
    },
    {
      "cell_type": "code",
      "source": [
        "lista"
      ],
      "metadata": {
        "colab": {
          "base_uri": "https://localhost:8080/"
        },
        "id": "nzglP1af4bGx",
        "outputId": "059ee1c0-96ba-4f99-a043-2463b19023ed"
      },
      "execution_count": 55,
      "outputs": [
        {
          "output_type": "execute_result",
          "data": {
            "text/plain": [
              "['Caio', True, 'Diego', 'Danilo', 'Samara', 'Python']"
            ]
          },
          "metadata": {},
          "execution_count": 55
        }
      ]
    },
    {
      "cell_type": "markdown",
      "source": [
        "## COmando **del**"
      ],
      "metadata": {
        "id": "t4MJaHpG4b8R"
      }
    },
    {
      "cell_type": "markdown",
      "source": [
        "### Podemos excluir um lemento de uma lista utilizando o comando **del** seguido do nome da lista e o índice do elemento que deverá ser excluído."
      ],
      "metadata": {
        "id": "ITdBKQ7P4kYB"
      }
    },
    {
      "cell_type": "code",
      "source": [
        "lista"
      ],
      "metadata": {
        "colab": {
          "base_uri": "https://localhost:8080/"
        },
        "id": "LoepaRSP49bQ",
        "outputId": "2b591aa2-4c0e-464f-cc90-992a3daab143"
      },
      "execution_count": 56,
      "outputs": [
        {
          "output_type": "execute_result",
          "data": {
            "text/plain": [
              "['Caio', True, 'Diego', 'Danilo', 'Samara', 'Python']"
            ]
          },
          "metadata": {},
          "execution_count": 56
        }
      ]
    },
    {
      "cell_type": "code",
      "source": [
        "del lista[1]"
      ],
      "metadata": {
        "id": "wYfFUVrb48o0"
      },
      "execution_count": 57,
      "outputs": []
    },
    {
      "cell_type": "code",
      "source": [
        "lista"
      ],
      "metadata": {
        "colab": {
          "base_uri": "https://localhost:8080/"
        },
        "id": "-kXDuV6O47JA",
        "outputId": "cad5f5f3-6af4-47d0-beed-1488b41d86ab"
      },
      "execution_count": 58,
      "outputs": [
        {
          "output_type": "execute_result",
          "data": {
            "text/plain": [
              "['Caio', 'Diego', 'Danilo', 'Samara', 'Python']"
            ]
          },
          "metadata": {},
          "execution_count": 58
        }
      ]
    },
    {
      "cell_type": "code",
      "source": [
        "del lista[4]"
      ],
      "metadata": {
        "id": "z0Tcf86O5IIo"
      },
      "execution_count": 59,
      "outputs": []
    },
    {
      "cell_type": "code",
      "source": [
        "lista"
      ],
      "metadata": {
        "colab": {
          "base_uri": "https://localhost:8080/"
        },
        "id": "etd7A4Yj5N3Q",
        "outputId": "8561fb01-1433-4d6d-dc1d-34a7884d17c8"
      },
      "execution_count": 60,
      "outputs": [
        {
          "output_type": "execute_result",
          "data": {
            "text/plain": [
              "['Caio', 'Diego', 'Danilo', 'Samara']"
            ]
          },
          "metadata": {},
          "execution_count": 60
        }
      ]
    },
    {
      "cell_type": "markdown",
      "source": [
        "## Alterando elementos"
      ],
      "metadata": {
        "id": "hQkv3Vql5Ojo"
      }
    },
    {
      "cell_type": "code",
      "source": [
        "lista"
      ],
      "metadata": {
        "colab": {
          "base_uri": "https://localhost:8080/"
        },
        "id": "htcTjNyr5TK_",
        "outputId": "3f2eab13-45aa-4d23-815d-c4f84e88fecb"
      },
      "execution_count": 61,
      "outputs": [
        {
          "output_type": "execute_result",
          "data": {
            "text/plain": [
              "['Caio', 'Diego', 'Danilo', 'Samara']"
            ]
          },
          "metadata": {},
          "execution_count": 61
        }
      ]
    },
    {
      "cell_type": "code",
      "source": [
        "lista[0]= 'Silvia'"
      ],
      "metadata": {
        "id": "iSoSIeVp5UZ3"
      },
      "execution_count": 63,
      "outputs": []
    },
    {
      "cell_type": "code",
      "source": [
        "lista"
      ],
      "metadata": {
        "colab": {
          "base_uri": "https://localhost:8080/"
        },
        "id": "Hq-oft3e5Z1H",
        "outputId": "5374784a-e10e-4b6c-befc-2ead1cd11eff"
      },
      "execution_count": 64,
      "outputs": [
        {
          "output_type": "execute_result",
          "data": {
            "text/plain": [
              "['Silvia', 'Diego', 'Danilo', 'Samara']"
            ]
          },
          "metadata": {},
          "execution_count": 64
        }
      ]
    },
    {
      "cell_type": "code",
      "source": [
        "lista[2] = 100"
      ],
      "metadata": {
        "id": "zjbryGlV5gmG"
      },
      "execution_count": 65,
      "outputs": []
    },
    {
      "cell_type": "code",
      "source": [
        "lista"
      ],
      "metadata": {
        "colab": {
          "base_uri": "https://localhost:8080/"
        },
        "id": "onDqY7ad5ug3",
        "outputId": "e8defedd-88a3-4675-bf68-ea147e3afc35"
      },
      "execution_count": 66,
      "outputs": [
        {
          "output_type": "execute_result",
          "data": {
            "text/plain": [
              "['Silvia', 'Diego', 100, 'Samara']"
            ]
          },
          "metadata": {},
          "execution_count": 66
        }
      ]
    },
    {
      "cell_type": "code",
      "source": [],
      "metadata": {
        "id": "0BJxViq75wDW"
      },
      "execution_count": null,
      "outputs": []
    }
  ]
}