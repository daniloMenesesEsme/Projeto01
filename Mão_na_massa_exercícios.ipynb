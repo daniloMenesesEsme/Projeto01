{
  "nbformat": 4,
  "nbformat_minor": 0,
  "metadata": {
    "colab": {
      "provenance": [],
      "include_colab_link": true
    },
    "kernelspec": {
      "name": "python3",
      "display_name": "Python 3"
    },
    "language_info": {
      "name": "python"
    }
  },
  "cells": [
    {
      "cell_type": "markdown",
      "metadata": {
        "id": "view-in-github",
        "colab_type": "text"
      },
      "source": [
        "<a href=\"https://colab.research.google.com/github/daniloMenesesEsme/Projeto01/blob/main/M%C3%A3o_na_massa_exerc%C3%ADcios.ipynb\" target=\"_parent\"><img src=\"https://colab.research.google.com/assets/colab-badge.svg\" alt=\"Open In Colab\"/></a>"
      ]
    },
    {
      "cell_type": "markdown",
      "source": [
        "# 1-Utilizando as funções `print()` e `input()`\n",
        "\n",
        "Aulas:\n",
        "\n",
        "[A função print()](https://alunos.empowerdata.com.br/52145-primeiros-passos-com-a-linguagem-python/1150631-a-funcao-print)\n",
        "\n",
        "[A função input()](https://alunos.empowerdata.com.br/52145-primeiros-passos-com-a-linguagem-python/1150634-a-funcao-input)"
      ],
      "metadata": {
        "id": "J0WOBxWxUz1b"
      }
    },
    {
      "cell_type": "markdown",
      "source": [
        "1.1 - Crie um script que solicite ao usuário o seu nome e em seguida imprima a frase: **\"`nome do usuário`, seja muito bem vindo(a)!\"**"
      ],
      "metadata": {
        "id": "3syMgo2DVOJi"
      }
    },
    {
      "cell_type": "code",
      "source": [
        "nome = 'Danilo'"
      ],
      "metadata": {
        "id": "vLoggIrlVkIx"
      },
      "execution_count": 1,
      "outputs": []
    },
    {
      "cell_type": "code",
      "source": [
        "print(nome)"
      ],
      "metadata": {
        "colab": {
          "base_uri": "https://localhost:8080/"
        },
        "id": "AAlpN9In65Tw",
        "outputId": "2af278c4-1e26-452a-9075-fb1fa3f48bb4"
      },
      "execution_count": 2,
      "outputs": [
        {
          "output_type": "stream",
          "name": "stdout",
          "text": [
            "Danilo\n"
          ]
        }
      ]
    },
    {
      "cell_type": "code",
      "source": [
        "print( input('seja muito bem vindo(a) '))"
      ],
      "metadata": {
        "colab": {
          "base_uri": "https://localhost:8080/"
        },
        "id": "hTn6jNKr8T4A",
        "outputId": "9af51b7f-79b0-4c92-ad53-f4fb9813a72d"
      },
      "execution_count": 14,
      "outputs": [
        {
          "output_type": "stream",
          "name": "stdout",
          "text": [
            "seja muito bem vindo(a) Danilo\n",
            "Danilo\n"
          ]
        }
      ]
    },
    {
      "cell_type": "code",
      "source": [
        "nome = input('Nome do Usuário: ')\n",
        "print(f'{nome}, Seja muito bem vindo(a)!')"
      ],
      "metadata": {
        "colab": {
          "base_uri": "https://localhost:8080/"
        },
        "id": "tUuGA6eJ95u7",
        "outputId": "f937669c-ab8a-41ec-e7ab-1808b228155d"
      },
      "execution_count": 29,
      "outputs": [
        {
          "output_type": "stream",
          "name": "stdout",
          "text": [
            "Nome do Usuário: Danilo\n",
            "Danilo, Seja muito bem vindo(a)!\n"
          ]
        }
      ]
    },
    {
      "cell_type": "code",
      "source": [
        "nome = input('Qual é o seu nome? ')\n",
        "print(f'{nome}, seja muito bem vindo(a)!')"
      ],
      "metadata": {
        "colab": {
          "base_uri": "https://localhost:8080/"
        },
        "id": "OjjYy6HD_vP_",
        "outputId": "c47d2bd7-ad63-49ed-fcf5-1ad70f5921cf"
      },
      "execution_count": 25,
      "outputs": [
        {
          "output_type": "stream",
          "name": "stdout",
          "text": [
            "Qual é o seu nome? Danilo\n",
            "Danilo, seja muito bem vindo(a)!\n"
          ]
        }
      ]
    },
    {
      "cell_type": "markdown",
      "source": [
        "# 2-Operadores aritméticos\n",
        "\n",
        "Aula:\n",
        "\n",
        "[Operadores aritméticos](https://alunos.empowerdata.com.br/52145-primeiros-passos-com-a-linguagem-python/1150653-operadores-aritmeticos)"
      ],
      "metadata": {
        "id": "NL8RIN2KXQPY"
      }
    },
    {
      "cell_type": "markdown",
      "source": [
        "2.1 - Utilize o Python para calcular a média das notas de uma prova de matemática.\n",
        "\n",
        "- **Nota 1:** 7.8\n",
        "- **Nota 2:** 8.9\n",
        "- **Nota 3:** 8.3"
      ],
      "metadata": {
        "id": "4RdK6FZbXuBD"
      }
    },
    {
      "cell_type": "code",
      "source": [
        "# solicita ao usuário as notas da prova\n",
        "nota1 = float(input(\"Digite a primeira nota: \"))\n",
        "nota2 = float(input(\"Digite a segunda nota: \"))\n",
        "nota3 = float(input(\"Digite a terceira nota: \"))\n",
        "\n",
        "# calcula a média das notas\n",
        "media = (nota1 + nota2 + nota3) / 3\n",
        "\n",
        "# imprime a média das notas\n",
        "print(\"A média das notas é:\", media)\n"
      ],
      "metadata": {
        "id": "LX_XlIXKYJms",
        "colab": {
          "base_uri": "https://localhost:8080/"
        },
        "outputId": "a18c4ce2-7339-401b-b59f-9b5e024dd62a"
      },
      "execution_count": 32,
      "outputs": [
        {
          "output_type": "stream",
          "name": "stdout",
          "text": [
            "Digite a primeira nota: 7.8\n",
            "Digite a segunda nota: 8.9\n",
            "Digite a terceira nota: 8.3\n",
            "A média das notas é: 8.333333333333334\n"
          ]
        }
      ]
    },
    {
      "cell_type": "markdown",
      "source": [
        "2.2 - Sabemos que a fórmula para calcular a área de um retângulo é **A = b.h**, onde:\n",
        "\n",
        "- **A** é a área a ser calculada\n",
        "- **b** é o comprimento da base\n",
        "- **h** o comprimento da altura.\n",
        "\n",
        "Dado o retângulo abaixo, utilize o Python para calcular a sua área.\n",
        "\n",
        "![image.png](data:image/png;base64,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)"
      ],
      "metadata": {
        "id": "lgc_HjuQYKPX"
      }
    },
    {
      "cell_type": "code",
      "source": [
        "# define as variáveis\n",
        "base = 12\n",
        "altura = 10\n",
        "\n",
        "# calcula a área\n",
        "area = base * altura\n",
        "\n",
        "# imprime a área\n",
        "print(\"A área do retângulo é:\", area)"
      ],
      "metadata": {
        "colab": {
          "base_uri": "https://localhost:8080/"
        },
        "id": "-To7LIULBzKc",
        "outputId": "75f1d052-07e3-41fa-caa8-bc165ca77240"
      },
      "execution_count": 33,
      "outputs": [
        {
          "output_type": "stream",
          "name": "stdout",
          "text": [
            "A área do retângulo é: 120\n"
          ]
        }
      ]
    },
    {
      "cell_type": "markdown",
      "source": [
        "2.3 - Utilize a linguagem Python para calcular a seguinte expressão matemática:\n",
        "\n",
        "$$\n",
        "\\begin{aligned}\n",
        "x & = 20 * 7 +  4^2  / 4 \\\\\n",
        "\\end{aligned}\n",
        "$$"
      ],
      "metadata": {
        "id": "q2AXqlQuY-3j"
      }
    },
    {
      "cell_type": "code",
      "source": [
        "x = 20 * 7 + 4**2 / 4\n",
        "\n",
        "if x == 140:\n",
        "    print(\"x é igual a 140.\")\n",
        "else:\n",
        "    print(\"x não é igual a 140.\")"
      ],
      "metadata": {
        "colab": {
          "base_uri": "https://localhost:8080/"
        },
        "id": "v9uIX2ENB6cK",
        "outputId": "10fc8c4d-de85-4920-8835-374fc7cb6da9"
      },
      "execution_count": 35,
      "outputs": [
        {
          "output_type": "stream",
          "name": "stdout",
          "text": [
            "x não é igual a 140.\n"
          ]
        }
      ]
    },
    {
      "cell_type": "code",
      "source": [
        "x = (20 * 7) + (4**2 / 4)"
      ],
      "metadata": {
        "id": "CHDFH2jaCiQZ"
      },
      "execution_count": 38,
      "outputs": []
    },
    {
      "cell_type": "code",
      "source": [
        "print('O resultado da expressão aritimética acima é: ', x)"
      ],
      "metadata": {
        "colab": {
          "base_uri": "https://localhost:8080/"
        },
        "id": "6V7EQ0uhGs4O",
        "outputId": "633d3d70-b7c5-4e44-bd55-62973bb5a67a"
      },
      "execution_count": 39,
      "outputs": [
        {
          "output_type": "stream",
          "name": "stdout",
          "text": [
            "O resultado da expressão aritimética acima é:  144.0\n"
          ]
        }
      ]
    },
    {
      "cell_type": "markdown",
      "source": [
        "# 3-Operadores relacionais e lógicos\n",
        "\n",
        "Aula:\n",
        "\n",
        "[Operadores relacionais e lógicos](https://alunos.empowerdata.com.br/52145-primeiros-passos-com-a-linguagem-python/1150678-operadores-relacionais-e-logicos)"
      ],
      "metadata": {
        "id": "C6kDFnLdZYvh"
      }
    },
    {
      "cell_type": "markdown",
      "source": [
        "3.1 - Verifique se 10 é maior ou igual a 15"
      ],
      "metadata": {
        "id": "YzthSS14aQfN"
      }
    },
    {
      "cell_type": "code",
      "source": [
        "10 >= 15"
      ],
      "metadata": {
        "id": "OesUrCLEanrU",
        "colab": {
          "base_uri": "https://localhost:8080/"
        },
        "outputId": "5eb07ea1-51c1-498b-e359-94310b5620d2"
      },
      "execution_count": 46,
      "outputs": [
        {
          "output_type": "execute_result",
          "data": {
            "text/plain": [
              "False"
            ]
          },
          "metadata": {},
          "execution_count": 46
        }
      ]
    },
    {
      "cell_type": "markdown",
      "source": [
        "3.2 - Verifique se a string **Python** é igual à string **python**"
      ],
      "metadata": {
        "id": "U-_EGuFRaqIt"
      }
    },
    {
      "cell_type": "code",
      "source": [
        "'Python' == 'python'"
      ],
      "metadata": {
        "id": "ci4YHjqNaybe",
        "colab": {
          "base_uri": "https://localhost:8080/"
        },
        "outputId": "8b582f91-074c-49aa-9f88-12c31183ad8d"
      },
      "execution_count": 42,
      "outputs": [
        {
          "output_type": "execute_result",
          "data": {
            "text/plain": [
              "False"
            ]
          },
          "metadata": {},
          "execution_count": 42
        }
      ]
    },
    {
      "cell_type": "markdown",
      "source": [
        "3.3 - Verifique se 100 é menor que 59 **E** se 200 é maior ou igual a 159"
      ],
      "metadata": {
        "id": "ZPeYhDm4ay7y"
      }
    },
    {
      "cell_type": "code",
      "source": [
        "100 < 59 and 200 >= 159"
      ],
      "metadata": {
        "id": "Kg0jGvZcbVyn",
        "colab": {
          "base_uri": "https://localhost:8080/"
        },
        "outputId": "af282308-09ca-48c4-b275-7d73eff4aaac"
      },
      "execution_count": 47,
      "outputs": [
        {
          "output_type": "execute_result",
          "data": {
            "text/plain": [
              "False"
            ]
          },
          "metadata": {},
          "execution_count": 47
        }
      ]
    },
    {
      "cell_type": "markdown",
      "source": [
        "3.4 - Verifique se 100 é maior que 48 **OU** a string **Python** é igual à string **python**"
      ],
      "metadata": {
        "id": "c6EP_2UMbW0f"
      }
    },
    {
      "cell_type": "code",
      "source": [
        "100 > 48 or 'Python' == 'python'"
      ],
      "metadata": {
        "id": "JJq4faC4bujK",
        "colab": {
          "base_uri": "https://localhost:8080/"
        },
        "outputId": "0730bd67-a281-4cb2-f3c3-0411cd0a17c9"
      },
      "execution_count": 45,
      "outputs": [
        {
          "output_type": "execute_result",
          "data": {
            "text/plain": [
              "True"
            ]
          },
          "metadata": {},
          "execution_count": 45
        }
      ]
    },
    {
      "cell_type": "markdown",
      "source": [
        "3.5 - Faça a negação da expressão `10 > 3`"
      ],
      "metadata": {
        "id": "YxYevyaabvOX"
      }
    },
    {
      "cell_type": "code",
      "source": [
        "not 10 > 3"
      ],
      "metadata": {
        "id": "Rd8QL7ezb2HY",
        "colab": {
          "base_uri": "https://localhost:8080/"
        },
        "outputId": "50e8091a-78a2-43c5-f629-a24804c76546"
      },
      "execution_count": 49,
      "outputs": [
        {
          "output_type": "execute_result",
          "data": {
            "text/plain": [
              "False"
            ]
          },
          "metadata": {},
          "execution_count": 49
        }
      ]
    },
    {
      "cell_type": "markdown",
      "source": [
        "# 4 - Trabalhando com strings\n",
        "\n",
        "Aulas:\n",
        "\n",
        "[Utilizando f-strings](https://alunos.empowerdata.com.br/52145-primeiros-passos-com-a-linguagem-python/1151004-utilizando-f-strings)\n",
        "\n",
        "[Métodos para manipulação de strings](https://alunos.empowerdata.com.br/52145-primeiros-passos-com-a-linguagem-python/1151012-metodos-para-manipulacao-de-strings)\n",
        "\n",
        "[Utilizando a técnica de fatiamento](https://alunos.empowerdata.com.br/52145-primeiros-passos-com-a-linguagem-python/1151025-utilizando-a-tecnica-de-slicing-fatiamento)"
      ],
      "metadata": {
        "id": "j1ZS20wdb2h2"
      }
    },
    {
      "cell_type": "markdown",
      "source": [
        "4.1 - Dada a frase **Eu amo programar na linguagem Python!**, utilize um método que retorne **EU AMO PROGRAMAR NA LINGUAGEM PYTHON!**"
      ],
      "metadata": {
        "id": "hbYR3j71b_Rm"
      }
    },
    {
      "cell_type": "code",
      "source": [
        "frase = 'Eu amo programar na linguagem Python!'"
      ],
      "metadata": {
        "id": "TEv1Nqzuct2t"
      },
      "execution_count": 51,
      "outputs": []
    },
    {
      "cell_type": "code",
      "source": [
        "type(frase)"
      ],
      "metadata": {
        "colab": {
          "base_uri": "https://localhost:8080/"
        },
        "id": "9Fsb6XVpJO3B",
        "outputId": "8c85f26a-5682-4ff3-ec6f-30fe5a136d8d"
      },
      "execution_count": 52,
      "outputs": [
        {
          "output_type": "execute_result",
          "data": {
            "text/plain": [
              "str"
            ]
          },
          "metadata": {},
          "execution_count": 52
        }
      ]
    },
    {
      "cell_type": "code",
      "source": [
        "frase.upper()"
      ],
      "metadata": {
        "colab": {
          "base_uri": "https://localhost:8080/",
          "height": 36
        },
        "id": "H4524n2cJWKb",
        "outputId": "b3fd9bce-9e92-424a-b7b4-868cb6c14a30"
      },
      "execution_count": 53,
      "outputs": [
        {
          "output_type": "execute_result",
          "data": {
            "text/plain": [
              "'EU AMO PROGRAMAR NA LINGUAGEM PYTHON!'"
            ],
            "application/vnd.google.colaboratory.intrinsic+json": {
              "type": "string"
            }
          },
          "metadata": {},
          "execution_count": 53
        }
      ]
    },
    {
      "cell_type": "code",
      "source": [],
      "metadata": {
        "id": "R0CIiDT8JT0W"
      },
      "execution_count": null,
      "outputs": []
    },
    {
      "cell_type": "markdown",
      "source": [
        "4.2 - Dada a frase **Eu amo programar na linguagem Python!**, utilize f-strings e a técnica de slicing para retornar a frase **Amo Python!**\n",
        "\n",
        "**Atenção:** a letra **A** da palavra **amo** deve ser maiúscula!"
      ],
      "metadata": {
        "id": "qQwDk-qZczji"
      }
    },
    {
      "cell_type": "code",
      "source": [
        "frase = 'Eu amo programar na linguagem Python!'"
      ],
      "metadata": {
        "id": "pz0n5VJ2dVVF"
      },
      "execution_count": 55,
      "outputs": []
    },
    {
      "cell_type": "code",
      "source": [
        "palavra_amo = frase[3:6].title()"
      ],
      "metadata": {
        "id": "phGmoz2WMf-k"
      },
      "execution_count": 57,
      "outputs": []
    },
    {
      "cell_type": "code",
      "source": [
        "print(palavra_amo)"
      ],
      "metadata": {
        "colab": {
          "base_uri": "https://localhost:8080/"
        },
        "id": "kxCQNh8UMovs",
        "outputId": "da41aebb-dfce-4ead-c649-9413bdd5ade6"
      },
      "execution_count": 58,
      "outputs": [
        {
          "output_type": "stream",
          "name": "stdout",
          "text": [
            "Amo\n"
          ]
        }
      ]
    },
    {
      "cell_type": "code",
      "source": [
        "palavra_python = frase[-7:]"
      ],
      "metadata": {
        "id": "B9qa6uH-M0tU"
      },
      "execution_count": 61,
      "outputs": []
    },
    {
      "cell_type": "code",
      "source": [
        "print(f'{palavra_amo} {palavra_python}')"
      ],
      "metadata": {
        "colab": {
          "base_uri": "https://localhost:8080/"
        },
        "id": "GKQXBI2NKIZS",
        "outputId": "6793c9a0-8352-4b02-ff0b-d089bb97aefb"
      },
      "execution_count": 63,
      "outputs": [
        {
          "output_type": "stream",
          "name": "stdout",
          "text": [
            "Amo Python!\n"
          ]
        }
      ]
    },
    {
      "cell_type": "markdown",
      "source": [
        "# 5 - Estruturas de dados"
      ],
      "metadata": {
        "id": "ne3RJXG3dXCb"
      }
    },
    {
      "cell_type": "markdown",
      "source": [
        "## 5.1 - Listas\n",
        "\n",
        "Aulas:\n",
        "\n",
        "[Listas - parte 1](https://alunos.empowerdata.com.br/52145-primeiros-passos-com-a-linguagem-python/1151060-listas-parte-1)\n",
        "\n",
        "[Listas - parte 2](https://alunos.empowerdata.com.br/52145-primeiros-passos-com-a-linguagem-python/1151062-listas-parte-2)"
      ],
      "metadata": {
        "id": "_WoT67vzeMw2"
      }
    },
    {
      "cell_type": "markdown",
      "source": [
        "5.1.1 - Dada a lista abaixo, aplique as seguintes operações:"
      ],
      "metadata": {
        "id": "UvOoLrAMebiU"
      }
    },
    {
      "cell_type": "code",
      "source": [
        "lista = [1, 100, 'Instagram', 'Python', 100, True, 0, False]"
      ],
      "metadata": {
        "id": "Hw5DT1bgeiZG"
      },
      "execution_count": 65,
      "outputs": []
    },
    {
      "cell_type": "markdown",
      "source": [
        "- adicione o elemento `Empowerdata` no final da lista"
      ],
      "metadata": {
        "id": "HfSm-nzoevmr"
      }
    },
    {
      "cell_type": "code",
      "source": [
        "lista.append('Empowerdata')"
      ],
      "metadata": {
        "id": "0XH-_N5De9rK"
      },
      "execution_count": 66,
      "outputs": []
    },
    {
      "cell_type": "code",
      "source": [
        "lista"
      ],
      "metadata": {
        "colab": {
          "base_uri": "https://localhost:8080/"
        },
        "id": "ErxqcwDEN03i",
        "outputId": "7bc7a781-1e39-4a91-f205-d05c8f9509a2"
      },
      "execution_count": 67,
      "outputs": [
        {
          "output_type": "execute_result",
          "data": {
            "text/plain": [
              "[1, 100, 'Instagram', 'Python', 100, True, 0, False, 'Empowerdata']"
            ]
          },
          "metadata": {},
          "execution_count": 67
        }
      ]
    },
    {
      "cell_type": "markdown",
      "source": [
        "- adicione o elemento `149.50` na segunda posição da lista"
      ],
      "metadata": {
        "id": "e9WwwhGee-Ej"
      }
    },
    {
      "cell_type": "code",
      "source": [
        "lista.insert(1, 149.50)"
      ],
      "metadata": {
        "id": "CFMD7ElMfGvj"
      },
      "execution_count": 68,
      "outputs": []
    },
    {
      "cell_type": "code",
      "source": [
        "lista"
      ],
      "metadata": {
        "colab": {
          "base_uri": "https://localhost:8080/"
        },
        "id": "qDk_N9-OOO5g",
        "outputId": "e8ebbbbe-81c7-47ae-f1d9-fd4385a204a0"
      },
      "execution_count": 69,
      "outputs": [
        {
          "output_type": "execute_result",
          "data": {
            "text/plain": [
              "[1, 149.5, 100, 'Instagram', 'Python', 100, True, 0, False, 'Empowerdata']"
            ]
          },
          "metadata": {},
          "execution_count": 69
        }
      ]
    },
    {
      "cell_type": "markdown",
      "source": [
        "- remova o elemento `Instagram` da lista"
      ],
      "metadata": {
        "id": "myPy5mw-fHHt"
      }
    },
    {
      "cell_type": "code",
      "source": [
        "lista.remove('Instagram')"
      ],
      "metadata": {
        "id": "nnt6MBXbfQ_Y"
      },
      "execution_count": 70,
      "outputs": []
    },
    {
      "cell_type": "code",
      "source": [
        "lista"
      ],
      "metadata": {
        "colab": {
          "base_uri": "https://localhost:8080/"
        },
        "id": "96cMN-l1OjTf",
        "outputId": "6c1dfca3-28c0-46b1-f07a-00f28623528b"
      },
      "execution_count": 71,
      "outputs": [
        {
          "output_type": "execute_result",
          "data": {
            "text/plain": [
              "[1, 149.5, 100, 'Python', 100, True, 0, False, 'Empowerdata']"
            ]
          },
          "metadata": {},
          "execution_count": 71
        }
      ]
    },
    {
      "cell_type": "markdown",
      "source": [
        "- modifique o elemento `False` para `True`"
      ],
      "metadata": {
        "id": "AGHQvhUnfX6j"
      }
    },
    {
      "cell_type": "code",
      "source": [
        "lista[7] = True"
      ],
      "metadata": {
        "id": "tomz7M70ffZV"
      },
      "execution_count": 77,
      "outputs": []
    },
    {
      "cell_type": "code",
      "source": [
        "lista"
      ],
      "metadata": {
        "colab": {
          "base_uri": "https://localhost:8080/"
        },
        "id": "E5kRG7bMO9Mm",
        "outputId": "5a4cc76f-b257-4144-ad5b-e8c9626ffdb6"
      },
      "execution_count": 88,
      "outputs": [
        {
          "output_type": "execute_result",
          "data": {
            "text/plain": [
              "[1, 149.5, 100, 'Python', 100, True, 0, True, 'Empowerdata']"
            ]
          },
          "metadata": {},
          "execution_count": 88
        }
      ]
    },
    {
      "cell_type": "markdown",
      "source": [
        "- verifique se o elemento de índice 5 é igual ao elemento de índice 7"
      ],
      "metadata": {
        "id": "Q01bBXYVfk1P"
      }
    },
    {
      "cell_type": "code",
      "source": [
        "# if lista[5] == lista[7]:\n",
        "   # print(\"Os elementos de índice 5 e 7 são iguais.\")\n",
        "# else:\n",
        "  #  print(\"Os elementos de índice 5 e 7 não são iguais.\")"
      ],
      "metadata": {
        "id": "1UYiV5qxgNnr",
        "colab": {
          "base_uri": "https://localhost:8080/"
        },
        "outputId": "f7304a32-3c75-4b08-909c-9e69ca1ea64c"
      },
      "execution_count": 79,
      "outputs": [
        {
          "output_type": "stream",
          "name": "stdout",
          "text": [
            "Os elementos de índice 5 e 7 são iguais.\n"
          ]
        }
      ]
    },
    {
      "cell_type": "code",
      "source": [
        "lista"
      ],
      "metadata": {
        "colab": {
          "base_uri": "https://localhost:8080/"
        },
        "id": "KcxhWGCuQyY0",
        "outputId": "d0f8ba1c-ff68-4277-c096-e9edbf4c2488"
      },
      "execution_count": 89,
      "outputs": [
        {
          "output_type": "execute_result",
          "data": {
            "text/plain": [
              "[1, 149.5, 100, 'Python', 100, True, 0, True, 'Empowerdata']"
            ]
          },
          "metadata": {},
          "execution_count": 89
        }
      ]
    },
    {
      "cell_type": "code",
      "source": [
        "lista[5] == lista[7]"
      ],
      "metadata": {
        "colab": {
          "base_uri": "https://localhost:8080/"
        },
        "id": "n_kqUv4qRKEj",
        "outputId": "ce0121da-19b2-4328-86a7-b505e1f3ef64"
      },
      "execution_count": 92,
      "outputs": [
        {
          "output_type": "execute_result",
          "data": {
            "text/plain": [
              "True"
            ]
          },
          "metadata": {},
          "execution_count": 92
        }
      ]
    },
    {
      "cell_type": "markdown",
      "source": [
        "## 5.2 - Dicionários\n",
        "\n",
        "Aulas:\n",
        "\n",
        "[Dicionários - parte 1](https://alunos.empowerdata.com.br/52145-primeiros-passos-com-a-linguagem-python/1151066-dicionarios-parte-1)\n",
        "\n",
        "[Dicionários - parte 2](https://alunos.empowerdata.com.br/52145-primeiros-passos-com-a-linguagem-python/1151067-dicionarios-parte-2)\n",
        "\n",
        "[Dicionários - parte 3](https://alunos.empowerdata.com.br/52145-primeiros-passos-com-a-linguagem-python/1151071-dicionarios-parte-3)"
      ],
      "metadata": {
        "id": "pNBjkmKZgXos"
      }
    },
    {
      "cell_type": "markdown",
      "source": [
        "5.2.1 - Dado o dicionário abaixo, aplique as seguintes operações:"
      ],
      "metadata": {
        "id": "R3Z98tscgcf_"
      }
    },
    {
      "cell_type": "code",
      "source": [
        "dados = {\n",
        "    'nome': 'Empowerdata',\n",
        "    'curso': 'Primeiros passos na linguagem Python',\n",
        "    'modulo': 'Exercícios de fixação',\n",
        "    'nota obtida': 9.2\n",
        "}"
      ],
      "metadata": {
        "id": "6vp3CybSgknp"
      },
      "execution_count": 93,
      "outputs": []
    },
    {
      "cell_type": "code",
      "source": [],
      "metadata": {
        "id": "ZGgwsLv2SR7m"
      },
      "execution_count": null,
      "outputs": []
    },
    {
      "cell_type": "markdown",
      "source": [
        "- imprima qual é o nome do curso"
      ],
      "metadata": {
        "id": "nPdZBOFrhVnT"
      }
    },
    {
      "cell_type": "code",
      "source": [
        "dados['curso']"
      ],
      "metadata": {
        "id": "5keoeALRhblr",
        "colab": {
          "base_uri": "https://localhost:8080/",
          "height": 36
        },
        "outputId": "03c8ca08-852f-499f-9da2-264a8f697fb7"
      },
      "execution_count": 94,
      "outputs": [
        {
          "output_type": "execute_result",
          "data": {
            "text/plain": [
              "'Primeiros passos na linguagem Python'"
            ],
            "application/vnd.google.colaboratory.intrinsic+json": {
              "type": "string"
            }
          },
          "metadata": {},
          "execution_count": 94
        }
      ]
    },
    {
      "cell_type": "markdown",
      "source": [
        "- altere a nota obtida para **10.0**"
      ],
      "metadata": {
        "id": "ANV3fUCNhcaN"
      }
    },
    {
      "cell_type": "code",
      "source": [
        "dados['nota obtida']=10"
      ],
      "metadata": {
        "id": "kKob9MQuh3cG"
      },
      "execution_count": 95,
      "outputs": []
    },
    {
      "cell_type": "code",
      "source": [
        "dados"
      ],
      "metadata": {
        "colab": {
          "base_uri": "https://localhost:8080/"
        },
        "id": "2apAM6_xSsyM",
        "outputId": "66e09d2f-21e5-4326-bf29-1d3e4de7487c"
      },
      "execution_count": 96,
      "outputs": [
        {
          "output_type": "execute_result",
          "data": {
            "text/plain": [
              "{'nome': 'Empowerdata',\n",
              " 'curso': 'Primeiros passos na linguagem Python',\n",
              " 'modulo': 'Exercícios de fixação',\n",
              " 'nota obtida': 10}"
            ]
          },
          "metadata": {},
          "execution_count": 96
        }
      ]
    },
    {
      "cell_type": "markdown",
      "source": [
        "- apague o elemento `modulo`"
      ],
      "metadata": {
        "id": "vdIvHcr6iEJx"
      }
    },
    {
      "cell_type": "code",
      "source": [
        "dados.pop('modulo')"
      ],
      "metadata": {
        "id": "bGRX9WyiiI67",
        "colab": {
          "base_uri": "https://localhost:8080/",
          "height": 36
        },
        "outputId": "016c2aaf-14e9-4c47-f764-b51387344071"
      },
      "execution_count": 97,
      "outputs": [
        {
          "output_type": "execute_result",
          "data": {
            "text/plain": [
              "'Exercícios de fixação'"
            ],
            "application/vnd.google.colaboratory.intrinsic+json": {
              "type": "string"
            }
          },
          "metadata": {},
          "execution_count": 97
        }
      ]
    },
    {
      "cell_type": "code",
      "source": [
        "dados"
      ],
      "metadata": {
        "colab": {
          "base_uri": "https://localhost:8080/"
        },
        "id": "jlvVdQ7cS3iG",
        "outputId": "0ee6095e-1f52-4be4-dad8-51dc6fbf88d4"
      },
      "execution_count": 98,
      "outputs": [
        {
          "output_type": "execute_result",
          "data": {
            "text/plain": [
              "{'nome': 'Empowerdata',\n",
              " 'curso': 'Primeiros passos na linguagem Python',\n",
              " 'nota obtida': 10}"
            ]
          },
          "metadata": {},
          "execution_count": 98
        }
      ]
    },
    {
      "cell_type": "markdown",
      "source": [
        "- imprima o nome do curso, com a **primeira letra de cada palavra** em **maiúsculo**"
      ],
      "metadata": {
        "id": "QV7RemJAiMmT"
      }
    },
    {
      "cell_type": "code",
      "source": [
        "dados['curso'].title()"
      ],
      "metadata": {
        "id": "WPBGOUCpiXeX",
        "colab": {
          "base_uri": "https://localhost:8080/",
          "height": 36
        },
        "outputId": "f900dc24-3d0f-4ce4-c808-3272b5885066"
      },
      "execution_count": 101,
      "outputs": [
        {
          "output_type": "execute_result",
          "data": {
            "text/plain": [
              "'Primeiros Passos Na Linguagem Python'"
            ],
            "application/vnd.google.colaboratory.intrinsic+json": {
              "type": "string"
            }
          },
          "metadata": {},
          "execution_count": 101
        }
      ]
    },
    {
      "cell_type": "code",
      "source": [],
      "metadata": {
        "id": "_AqHHAaxTA4w"
      },
      "execution_count": null,
      "outputs": []
    },
    {
      "cell_type": "markdown",
      "source": [
        "## 5.3 - Tuplas\n",
        "\n",
        "Aula:\n",
        "\n",
        "[Tuplas](https://alunos.empowerdata.com.br/52145-primeiros-passos-com-a-linguagem-python/1151082-tu-plas)"
      ],
      "metadata": {
        "id": "rOK_aHONjHZ_"
      }
    },
    {
      "cell_type": "markdown",
      "source": [
        "5.3.1 - Dada a tupla abaixo, imprima:"
      ],
      "metadata": {
        "id": "pF_1lozMjK4x"
      }
    },
    {
      "cell_type": "code",
      "source": [
        "tupla = (1, 2, 3, (4, 5), (6, 7))"
      ],
      "metadata": {
        "id": "7Kn69zhEjUqD"
      },
      "execution_count": 102,
      "outputs": []
    },
    {
      "cell_type": "markdown",
      "source": [
        "- o elemento **1**"
      ],
      "metadata": {
        "id": "JUYB_yXujYkv"
      }
    },
    {
      "cell_type": "code",
      "source": [
        "tupla[0]"
      ],
      "metadata": {
        "id": "RGtzTc0JjeRS",
        "colab": {
          "base_uri": "https://localhost:8080/"
        },
        "outputId": "042f1cb9-31ff-4828-d49a-a818dd190f96"
      },
      "execution_count": 103,
      "outputs": [
        {
          "output_type": "execute_result",
          "data": {
            "text/plain": [
              "1"
            ]
          },
          "metadata": {},
          "execution_count": 103
        }
      ]
    },
    {
      "cell_type": "markdown",
      "source": [
        "- o elemento **4**"
      ],
      "metadata": {
        "id": "HJzRLhmHjfNI"
      }
    },
    {
      "cell_type": "code",
      "source": [
        "tupla[3][0]"
      ],
      "metadata": {
        "id": "gmwnAUqLjjOg",
        "colab": {
          "base_uri": "https://localhost:8080/"
        },
        "outputId": "53c087c7-4731-4455-ebfa-0ee42583e760"
      },
      "execution_count": 105,
      "outputs": [
        {
          "output_type": "execute_result",
          "data": {
            "text/plain": [
              "4"
            ]
          },
          "metadata": {},
          "execution_count": 105
        }
      ]
    },
    {
      "cell_type": "markdown",
      "source": [
        "- o elemento **(6, 7)**"
      ],
      "metadata": {
        "id": "Rgt8QUM4jkdz"
      }
    },
    {
      "cell_type": "code",
      "source": [
        "tupla[-1]"
      ],
      "metadata": {
        "id": "aN4yUcpBjpNd",
        "colab": {
          "base_uri": "https://localhost:8080/"
        },
        "outputId": "9f37530b-2e7f-49bf-d729-746bc48fd2ca"
      },
      "execution_count": 106,
      "outputs": [
        {
          "output_type": "execute_result",
          "data": {
            "text/plain": [
              "(6, 7)"
            ]
          },
          "metadata": {},
          "execution_count": 106
        }
      ]
    },
    {
      "cell_type": "markdown",
      "source": [
        "## 5.4 - Conjuntos (set)\n",
        "\n",
        "Aula:\n",
        "\n",
        "[Conjuntos](https://alunos.empowerdata.com.br/52145-primeiros-passos-com-a-linguagem-python/1151088-conjuntos-sets)"
      ],
      "metadata": {
        "id": "c8bWuxtpjprd"
      }
    },
    {
      "cell_type": "markdown",
      "source": [
        "5.4.1 - Dados os conjuntos abaixo, aplique as seguintes operações:"
      ],
      "metadata": {
        "id": "gh0RB2CDj3n-"
      }
    },
    {
      "cell_type": "code",
      "source": [
        "conj_a = {1, 2, 3, 4, 5}\n",
        "conj_b = {6, 7, 3, 8, 9}"
      ],
      "metadata": {
        "id": "PEYG5KI8kE1c"
      },
      "execution_count": 107,
      "outputs": []
    },
    {
      "cell_type": "code",
      "source": [
        "conj_a"
      ],
      "metadata": {
        "colab": {
          "base_uri": "https://localhost:8080/"
        },
        "id": "ZCNJCdB5TmJI",
        "outputId": "6fdfc629-ea5c-4b9b-f1a9-f24deacd3057"
      },
      "execution_count": 108,
      "outputs": [
        {
          "output_type": "execute_result",
          "data": {
            "text/plain": [
              "{1, 2, 3, 4, 5}"
            ]
          },
          "metadata": {},
          "execution_count": 108
        }
      ]
    },
    {
      "cell_type": "code",
      "source": [
        "conj_b"
      ],
      "metadata": {
        "colab": {
          "base_uri": "https://localhost:8080/"
        },
        "id": "V2lGL77GTo3O",
        "outputId": "84319d5b-9024-4238-98ed-6dd396944209"
      },
      "execution_count": 109,
      "outputs": [
        {
          "output_type": "execute_result",
          "data": {
            "text/plain": [
              "{3, 6, 7, 8, 9}"
            ]
          },
          "metadata": {},
          "execution_count": 109
        }
      ]
    },
    {
      "cell_type": "code",
      "source": [],
      "metadata": {
        "id": "KNfI8eLxTrhE"
      },
      "execution_count": null,
      "outputs": []
    },
    {
      "cell_type": "markdown",
      "source": [
        "- a **união** dos conjuntos"
      ],
      "metadata": {
        "id": "7AkF9OoAkMyC"
      }
    },
    {
      "cell_type": "code",
      "source": [
        "conj_a.union(conj_b)"
      ],
      "metadata": {
        "id": "PNYWbYNCkR5_",
        "colab": {
          "base_uri": "https://localhost:8080/"
        },
        "outputId": "bcc22433-9966-49ac-9547-bd155c30c01f"
      },
      "execution_count": 110,
      "outputs": [
        {
          "output_type": "execute_result",
          "data": {
            "text/plain": [
              "{1, 2, 3, 4, 5, 6, 7, 8, 9}"
            ]
          },
          "metadata": {},
          "execution_count": 110
        }
      ]
    },
    {
      "cell_type": "markdown",
      "source": [
        "- a **interseção** dos conjuntos"
      ],
      "metadata": {
        "id": "9QdOZOcPkSUo"
      }
    },
    {
      "cell_type": "code",
      "source": [
        "conj_a.intersection(conj_b)"
      ],
      "metadata": {
        "id": "i2pkuoeOkY0C",
        "colab": {
          "base_uri": "https://localhost:8080/"
        },
        "outputId": "233efba0-b8aa-4088-b0b8-1d28a7250b13"
      },
      "execution_count": 111,
      "outputs": [
        {
          "output_type": "execute_result",
          "data": {
            "text/plain": [
              "{3}"
            ]
          },
          "metadata": {},
          "execution_count": 111
        }
      ]
    },
    {
      "cell_type": "markdown",
      "source": [
        "# 6-Estruturas de repetição & condicionais\n",
        "\n",
        "Aulas:\n",
        "\n",
        "[Estrutura de repetição - for](https://alunos.empowerdata.com.br/52145-primeiros-passos-com-a-linguagem-python/1152448-estrutura-de-repeticao-for)\n",
        "\n",
        "[Estrutura de repetição - while](https://alunos.empowerdata.com.br/52145-primeiros-passos-com-a-linguagem-python/1152450-estrutura-de-repeticao-while)\n",
        "\n",
        "[Estrutura condicional - if](https://alunos.empowerdata.com.br/52145-primeiros-passos-com-a-linguagem-python/1152499-estrutura-condicional-if)"
      ],
      "metadata": {
        "id": "XH22c6THkeJK"
      }
    },
    {
      "cell_type": "markdown",
      "source": [
        "6.1 - Desafio 🔥🔥🔥\n",
        "\n",
        "Neste desafio, vamos aumentar um pouquinho o nível de complexidade do exercício. Vamos utilizar os conceitos que praticamos acima, junto com as estruturas de repetição e condicionais para resolver o problema.\n",
        "\n",
        "**Problema**\n",
        "\n",
        "A lista abaixo contém as seguintes informações de pessoas que pretendem dirigir:\n",
        "\n",
        "- `nome`: nome da pessoa\n",
        "- `carteira`: **`True`** para as que possuem, **`False`** para as que não possuem\n",
        "- `idade`:a idade da pessoa\n",
        "\n",
        "Precisamos percorrer toda a lista e verificar se a pessoa pode ou não dirigir. Só podem dirigir as que possuem carteira **E** que a idade é maior ou igual a 18 anos.\n",
        "\n",
        "- para as pessoas que podem dirigir, imprima a frase: **`nome pode dirigir.`**\n",
        "- para as que não podem, imprima: **`nome não pode dirigir!`**"
      ],
      "metadata": {
        "id": "ti9XbHbeknnG"
      }
    },
    {
      "cell_type": "code",
      "source": [
        "pessoas = [ ('Vinicius', True, 21), ('Gabriel', False, 25), ('Ana', True, 20), ('Victor', True, 30), ('Lucas', False, 15) ]"
      ],
      "metadata": {
        "id": "aes_vaSWlBhN"
      },
      "execution_count": 118,
      "outputs": []
    },
    {
      "cell_type": "code",
      "source": [
        "for pessoa in pessoas:\n",
        "  if pessoa[1] == True and pessoa[2] >= 18:\n",
        "    print(f'{pessoa[0]} pode dirigir.')\n",
        "  else:\n",
        "    print(f'{pessoa[0]} não pode dirigir.')"
      ],
      "metadata": {
        "colab": {
          "base_uri": "https://localhost:8080/"
        },
        "id": "LjHqUWjMUe5b",
        "outputId": "473352ac-0d46-435c-a013-05724ab45062"
      },
      "execution_count": 125,
      "outputs": [
        {
          "output_type": "stream",
          "name": "stdout",
          "text": [
            "Vinicius pode dirigir.\n",
            "Gabriel não pode dirigir.\n",
            "Ana pode dirigir.\n",
            "Victor pode dirigir.\n",
            "Lucas não pode dirigir.\n"
          ]
        }
      ]
    },
    {
      "cell_type": "markdown",
      "source": [
        "# 7-Funções\n",
        "\n",
        "Aulas:\n",
        "\n",
        "[O que são funções](https://alunos.empowerdata.com.br/52145-primeiros-passos-com-a-linguagem-python/1152594-o-que-sao-funcoes)\n",
        "\n",
        "[Criando funções](https://alunos.empowerdata.com.br/52145-primeiros-passos-com-a-linguagem-python/1152597-criando-funcoes)\n",
        "\n",
        "[Escopo de variáveis](https://alunos.empowerdata.com.br/52145-primeiros-passos-com-a-linguagem-python/1152598-escopo-de-variaveis)\n",
        "\n",
        "[Retorno de funções](https://alunos.empowerdata.com.br/52145-primeiros-passos-com-a-linguagem-python/1152599-retorno-de-funcoes)\n"
      ],
      "metadata": {
        "id": "3YqgEmY1pRrK"
      }
    },
    {
      "cell_type": "markdown",
      "source": [
        "7.1 - Desafio 🔥🔥🔥\n",
        "\n",
        "a) Crie uma função que receba 3 argumentos:\n",
        "\n",
        "- nome\n",
        "- carteira (True ou False)\n",
        "- idade\n",
        "\n",
        "e verifique se a pessoa pode ou não dirigir.\n",
        "- caso possa dirigir, a função deve imprimir a frase **`nome pode dirigir.`**\n",
        "- caso negativo, deve imprimir **`nome não pode dirigir!`**\n",
        "\n",
        "b) **reescreva a solução do último desafio utilizando a função que você criou!**"
      ],
      "metadata": {
        "id": "ZDSVcy7zpnfj"
      }
    },
    {
      "cell_type": "code",
      "source": [
        "def verifica_se_pode_dirigir(nome, carteira, idade):\n",
        "  if carteira == True and idade >= 18:\n",
        "    print(f'{nome} pode dirigir.')\n",
        "  else:\n",
        "    print(f'{nome} não pode dirigir.')"
      ],
      "metadata": {
        "id": "O85c7Qt-qqGf"
      },
      "execution_count": 126,
      "outputs": []
    },
    {
      "cell_type": "code",
      "source": [
        "verifica_se_pode_dirigir('lucas', False, 21)"
      ],
      "metadata": {
        "colab": {
          "base_uri": "https://localhost:8080/"
        },
        "id": "qcFO-P5rYbhp",
        "outputId": "e7456b60-e98f-4a43-f14d-07eee6982fe4"
      },
      "execution_count": 127,
      "outputs": [
        {
          "output_type": "stream",
          "name": "stdout",
          "text": [
            "lucas não pode dirigir.\n"
          ]
        }
      ]
    },
    {
      "cell_type": "code",
      "source": [
        "verifica_se_pode_dirigir('Gabriel', True, 34)"
      ],
      "metadata": {
        "colab": {
          "base_uri": "https://localhost:8080/"
        },
        "id": "Q0HW9a1sYh0d",
        "outputId": "b54f3ed4-b74e-4bde-9146-d437d7ea95af"
      },
      "execution_count": 128,
      "outputs": [
        {
          "output_type": "stream",
          "name": "stdout",
          "text": [
            "Gabriel pode dirigir.\n"
          ]
        }
      ]
    },
    {
      "cell_type": "code",
      "source": [
        "pessoas = [ ('Vinicius', True, 21), ('Gabriel', False, 25), ('Ana', True, 20), ('Victor', True, 30), ('Lucas', False, 15) ]"
      ],
      "metadata": {
        "id": "siPRsX6HYpDx"
      },
      "execution_count": 129,
      "outputs": []
    },
    {
      "cell_type": "code",
      "source": [
        "for pessoa in pessoas:\n",
        "  verifica_se_pode_dirigir(pessoa[0], pessoa[1], pessoa[2])"
      ],
      "metadata": {
        "colab": {
          "base_uri": "https://localhost:8080/"
        },
        "id": "kjeIKKqKY0lD",
        "outputId": "cf360621-ff91-4d84-854c-3fe9886a39af"
      },
      "execution_count": 132,
      "outputs": [
        {
          "output_type": "stream",
          "name": "stdout",
          "text": [
            "Vinicius pode dirigir.\n",
            "Gabriel não pode dirigir.\n",
            "Ana pode dirigir.\n",
            "Victor pode dirigir.\n",
            "Lucas não pode dirigir.\n"
          ]
        }
      ]
    },
    {
      "cell_type": "code",
      "source": [],
      "metadata": {
        "id": "3WUYzJ56ZHE7"
      },
      "execution_count": null,
      "outputs": []
    }
  ]
}