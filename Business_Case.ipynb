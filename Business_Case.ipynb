{
  "nbformat": 4,
  "nbformat_minor": 0,
  "metadata": {
    "colab": {
      "provenance": [],
      "authorship_tag": "ABX9TyO1SlDojQxZunna+gS1mA7p",
      "include_colab_link": true
    },
    "kernelspec": {
      "name": "python3",
      "display_name": "Python 3"
    },
    "language_info": {
      "name": "python"
    }
  },
  "cells": [
    {
      "cell_type": "markdown",
      "metadata": {
        "id": "view-in-github",
        "colab_type": "text"
      },
      "source": [
        "<a href=\"https://colab.research.google.com/github/daniloMenesesEsme/Projeto01/blob/main/Business_Case.ipynb\" target=\"_parent\"><img src=\"https://colab.research.google.com/assets/colab-badge.svg\" alt=\"Open In Colab\"/></a>"
      ]
    },
    {
      "cell_type": "markdown",
      "source": [
        "## Entrada de Dados"
      ],
      "metadata": {
        "id": "mV5X84qIZHj-"
      }
    },
    {
      "cell_type": "code",
      "source": [
        "nome = input('Digite o nome do aluno(a): ')\n",
        "idade = input('Digite a idade do aluno(a): ')\n",
        "peso = input('Digite o peso do aluno(a) (Kg): ')\n",
        "altura = input('Digite a altura do aluno(a) (m): ')"
      ],
      "metadata": {
        "colab": {
          "base_uri": "https://localhost:8080/"
        },
        "id": "fCXZE9KqZPns",
        "outputId": "dfa35af8-2822-4854-99e7-f7d2cd353e42"
      },
      "execution_count": 34,
      "outputs": [
        {
          "name": "stdout",
          "output_type": "stream",
          "text": [
            "Digite o nome do aluno(a): Silvia\n",
            "Digite a idade do aluno(a): 49\n",
            "Digite o peso do aluno(a) (Kg): 64\n",
            "Digite a altura do aluno(a) (m): 1.49\n"
          ]
        }
      ]
    },
    {
      "cell_type": "markdown",
      "source": [
        "## Calculando IMC"
      ],
      "metadata": {
        "id": "LvRAM5n0Zy7H"
      }
    },
    {
      "cell_type": "code",
      "source": [
        "imc = float(peso) / (float(altura) ** 2)"
      ],
      "metadata": {
        "id": "fKA9hAkCaDFW"
      },
      "execution_count": 35,
      "outputs": []
    },
    {
      "cell_type": "code",
      "source": [
        "print(imc)"
      ],
      "metadata": {
        "colab": {
          "base_uri": "https://localhost:8080/"
        },
        "id": "ylCAv9Tuacm5",
        "outputId": "640dd0fd-30ce-4ab3-ce1b-3d0c903ec550"
      },
      "execution_count": 24,
      "outputs": [
        {
          "output_type": "stream",
          "name": "stdout",
          "text": [
            "27.915518824609737\n"
          ]
        }
      ]
    },
    {
      "cell_type": "markdown",
      "source": [
        "## Criando o status\n"
      ],
      "metadata": {
        "id": "r66Dj8x5bGmb"
      }
    },
    {
      "cell_type": "code",
      "source": [
        "status = \"dentro do peso\"\n",
        "if imc > 25:\n",
        "  status = \"sobre peso\""
      ],
      "metadata": {
        "id": "A9dBK3AXbXHh"
      },
      "execution_count": 36,
      "outputs": []
    },
    {
      "cell_type": "code",
      "source": [
        "print(status)"
      ],
      "metadata": {
        "colab": {
          "base_uri": "https://localhost:8080/"
        },
        "id": "TJV50M6Zbu7t",
        "outputId": "70ee3392-9cc7-461d-84d8-4cee5b0c21c6"
      },
      "execution_count": 37,
      "outputs": [
        {
          "output_type": "stream",
          "name": "stdout",
          "text": [
            "sobre peso\n"
          ]
        }
      ]
    },
    {
      "cell_type": "code",
      "source": [],
      "metadata": {
        "id": "XcBN35swb0BE"
      },
      "execution_count": 26,
      "outputs": []
    },
    {
      "cell_type": "markdown",
      "source": [
        "## Gerando o PDF"
      ],
      "metadata": {
        "id": "XPTE_rP-bwjT"
      }
    },
    {
      "cell_type": "code",
      "source": [
        "!pip install pdf_reports"
      ],
      "metadata": {
        "id": "zwVbhIEfb4zb"
      },
      "execution_count": null,
      "outputs": []
    },
    {
      "cell_type": "code",
      "source": [
        "import pdf_reports"
      ],
      "metadata": {
        "id": "kAPpmT5McJGS"
      },
      "execution_count": 38,
      "outputs": []
    },
    {
      "cell_type": "code",
      "source": [
        "dados_aluno = {\n",
        "    \"nome\": nome,\n",
        "    \"idade\": idade,\n",
        "    \"peso\": peso,\n",
        "    \"altura\": altura,\n",
        "    \"imc\": round(imc,2),\n",
        "    \"status\": status\n",
        "}"
      ],
      "metadata": {
        "id": "I0_kTEONdJye"
      },
      "execution_count": 39,
      "outputs": []
    },
    {
      "cell_type": "code",
      "source": [
        "template = pdf_reports.pug_to_html(\"template.pug\", dados=dados_aluno)"
      ],
      "metadata": {
        "id": "2-raAT_-cZFE"
      },
      "execution_count": 40,
      "outputs": []
    },
    {
      "cell_type": "code",
      "source": [
        "pdf_reports.write_report(template, \"ficha_aluno.pdf\", use_default_styling=False)"
      ],
      "metadata": {
        "id": "W5Fh2EZJeFZf"
      },
      "execution_count": 41,
      "outputs": []
    },
    {
      "cell_type": "code",
      "source": [],
      "metadata": {
        "id": "kKOOMz8qejkA"
      },
      "execution_count": null,
      "outputs": []
    }
  ]
}