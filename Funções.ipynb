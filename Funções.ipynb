{
  "nbformat": 4,
  "nbformat_minor": 0,
  "metadata": {
    "colab": {
      "provenance": [],
      "include_colab_link": true
    },
    "kernelspec": {
      "name": "python3",
      "display_name": "Python 3"
    },
    "language_info": {
      "name": "python"
    }
  },
  "cells": [
    {
      "cell_type": "markdown",
      "metadata": {
        "id": "view-in-github",
        "colab_type": "text"
      },
      "source": [
        "<a href=\"https://colab.research.google.com/github/daniloMenesesEsme/Projeto01/blob/main/Fun%C3%A7%C3%B5es.ipynb\" target=\"_parent\"><img src=\"https://colab.research.google.com/assets/colab-badge.svg\" alt=\"Open In Colab\"/></a>"
      ]
    },
    {
      "cell_type": "markdown",
      "source": [
        "# Funções\n",
        "\n",
        "São bloco de códigos reutilizáveis que executam uma determinada tarefa.\n",
        "\n",
        "- podem ser definidas pelo programador\n",
        "- podem ser built-in (internas do Python)\n",
        "- podem ser de terceiros (pacotes)\n",
        "- são criadas com a palavra reservada **def** (definition)"
      ],
      "metadata": {
        "id": "y7teLF5495MJ"
      }
    },
    {
      "cell_type": "markdown",
      "source": [
        "# Criando uma função simples"
      ],
      "metadata": {
        "id": "M2MWd-GS-gGB"
      }
    },
    {
      "cell_type": "code",
      "source": [
        "print('Seja bem vindo(a) à Empowerdata!')\n",
        "print('Você está logado(a) no sistema!')\n",
        "print('Não se esqueça de fazer o logout!')"
      ],
      "metadata": {
        "colab": {
          "base_uri": "https://localhost:8080/"
        },
        "id": "WpdVc5Bu-iOx",
        "outputId": "7d196dda-9802-4666-dc69-4d257dcbaf68"
      },
      "execution_count": null,
      "outputs": [
        {
          "output_type": "stream",
          "name": "stdout",
          "text": [
            "Seja bem vindo(a) à Empowerdata!\n",
            "Você está logado(a) no sistema!\n",
            "Não se esqueça de fazer o logout!\n"
          ]
        }
      ]
    },
    {
      "cell_type": "code",
      "source": [
        "def imprimir_frases():\n",
        "  print('Seja bem vindo(a) à Empowerpython!')\n",
        "  print('Você está logado(a) no sistema!')\n",
        "  print('Não se esqueça de fazer o logout!')"
      ],
      "metadata": {
        "id": "78hzMUbMAc0P"
      },
      "execution_count": null,
      "outputs": []
    },
    {
      "cell_type": "code",
      "source": [
        "imprimir_frases()"
      ],
      "metadata": {
        "colab": {
          "base_uri": "https://localhost:8080/"
        },
        "id": "nqfT6qZsAz0F",
        "outputId": "48d16603-efd4-48ed-eafb-e5cb7db248f3"
      },
      "execution_count": null,
      "outputs": [
        {
          "output_type": "stream",
          "name": "stdout",
          "text": [
            "Seja bem vindo(a) à Empowerpython!\n",
            "Você está logado(a) no sistema!\n",
            "Não se esqueça de fazer o logout!\n"
          ]
        }
      ]
    },
    {
      "cell_type": "code",
      "source": [
        "imprimir_frases()"
      ],
      "metadata": {
        "colab": {
          "base_uri": "https://localhost:8080/"
        },
        "id": "Vu9gbLPOA7UL",
        "outputId": "2498b411-1cee-4a8e-fc33-f4aab0d64f3e"
      },
      "execution_count": null,
      "outputs": [
        {
          "output_type": "stream",
          "name": "stdout",
          "text": [
            "Seja bem vindo(a) à Empowerpython!\n",
            "Você está logado(a) no sistema!\n",
            "Não se esqueça de fazer o logout!\n"
          ]
        }
      ]
    },
    {
      "cell_type": "markdown",
      "source": [
        "# Criando uma função com parâmetros\n",
        "\n",
        "Parâmetros são valores que podemos passar para uma função."
      ],
      "metadata": {
        "id": "oUA8DeZn-ieJ"
      }
    },
    {
      "cell_type": "code",
      "source": [
        "print('Seja bem vindo(a) à Empowerdata, Vinicius!')\n",
        "print('Você está logado(a) no sistema Vinicius!')\n",
        "print('Não se esqueça de fazer o logout Vinicius!')"
      ],
      "metadata": {
        "colab": {
          "base_uri": "https://localhost:8080/"
        },
        "id": "eBK54AlG-ui8",
        "outputId": "eac4dbb5-8037-42c4-883b-12c5ea846613"
      },
      "execution_count": null,
      "outputs": [
        {
          "output_type": "stream",
          "name": "stdout",
          "text": [
            "Seja bem vindo(a) à Empowerdata, Vinicius!\n",
            "Você está logado(a) no sistema Vinicius!\n",
            "Não se esqueça de fazer o logout Vinicius!\n"
          ]
        }
      ]
    },
    {
      "cell_type": "code",
      "source": [
        "def imprimir_frases_usuario(nome):\n",
        "  print(f'Seja bem vindo(a) à Empowerdata, {nome}!')\n",
        "  print(f'Você está logado(a) no sistema {nome}!')\n",
        "  print(f'Não se esqueça de fazer o logout {nome}!')"
      ],
      "metadata": {
        "id": "p_bQUfGbBb5a"
      },
      "execution_count": null,
      "outputs": []
    },
    {
      "cell_type": "code",
      "source": [
        "imprimir_frases_usuario('Vinicius')"
      ],
      "metadata": {
        "colab": {
          "base_uri": "https://localhost:8080/"
        },
        "id": "iIdjtKddCD4X",
        "outputId": "e8ce7e98-ea84-449c-9d19-1bfdd44a9005"
      },
      "execution_count": null,
      "outputs": [
        {
          "output_type": "stream",
          "name": "stdout",
          "text": [
            "Seja bem vindo(a) à Empowerdata, Vinicius!\n",
            "Você está logado(a) no sistema Vinicius!\n",
            "Não se esqueça de fazer o logout Vinicius!\n"
          ]
        }
      ]
    },
    {
      "cell_type": "code",
      "source": [
        "imprimir_frases_usuario('Ana')"
      ],
      "metadata": {
        "colab": {
          "base_uri": "https://localhost:8080/"
        },
        "id": "f0aibUU6CPsZ",
        "outputId": "64ffed7b-2982-44df-9d2b-140c6a5b0324"
      },
      "execution_count": null,
      "outputs": [
        {
          "output_type": "stream",
          "name": "stdout",
          "text": [
            "Seja bem vindo(a) à Empowerdata, Ana!\n",
            "Você está logado(a) no sistema Ana!\n",
            "Não se esqueça de fazer o logout Ana!\n"
          ]
        }
      ]
    },
    {
      "cell_type": "code",
      "source": [
        "def somar_numeros(numero1, numero2):\n",
        "  print(numero1 + numero2)"
      ],
      "metadata": {
        "id": "ppB_yqUfCY4x"
      },
      "execution_count": null,
      "outputs": []
    },
    {
      "cell_type": "code",
      "source": [
        "somar_numeros(10, 15)"
      ],
      "metadata": {
        "colab": {
          "base_uri": "https://localhost:8080/"
        },
        "id": "dWdeL5NHCmvm",
        "outputId": "64525cf0-c6a3-4ede-cd2b-65d383f66d46"
      },
      "execution_count": null,
      "outputs": [
        {
          "output_type": "stream",
          "name": "stdout",
          "text": [
            "150\n"
          ]
        }
      ]
    },
    {
      "cell_type": "code",
      "source": [
        "somar_numeros(1000, 50)"
      ],
      "metadata": {
        "colab": {
          "base_uri": "https://localhost:8080/"
        },
        "id": "qmXPzijUCo7X",
        "outputId": "2d51eb41-8c23-4853-86ef-a4245896c640"
      },
      "execution_count": null,
      "outputs": [
        {
          "output_type": "stream",
          "name": "stdout",
          "text": [
            "50000\n"
          ]
        }
      ]
    },
    {
      "cell_type": "markdown",
      "source": [
        "# Escopo de variáveis em funções\n",
        "\n",
        "====>>>> **Variáveis declaradas dentro de uma função só são visíveis dentro do bloco da função!**"
      ],
      "metadata": {
        "id": "5yjjQGMR-u7s"
      }
    },
    {
      "cell_type": "code",
      "source": [
        "nome_teste = 'Python'\n",
        "\n",
        "def imprimir_frases_usuario(nome):\n",
        "\n",
        "  nome_usuario = nome + '!'\n",
        "\n",
        "  print(f'Seja bem vindo(a) à Empowerdata, {nome_usuario}')\n",
        "  print(f'Você está logado(a) no sistema {nome_usuario}')\n",
        "  print(f'Não se esqueça de fazer o logout {nome_usuario}')\n",
        "\n",
        "imprimir_frases_usuario('Vinicius')"
      ],
      "metadata": {
        "colab": {
          "base_uri": "https://localhost:8080/"
        },
        "id": "nmr0uBMq-9h6",
        "outputId": "98c58f6e-01e1-4137-a7d2-76e4c74abdf3"
      },
      "execution_count": null,
      "outputs": [
        {
          "output_type": "stream",
          "name": "stdout",
          "text": [
            "Seja bem vindo(a) à Empowerdata, Vinicius!\n",
            "Você está logado(a) no sistema Vinicius!\n",
            "Não se esqueça de fazer o logout Vinicius!\n"
          ]
        }
      ]
    },
    {
      "cell_type": "code",
      "source": [
        "print(nome_usuario)"
      ],
      "metadata": {
        "colab": {
          "base_uri": "https://localhost:8080/",
          "height": 170
        },
        "id": "09JG8NU4Fz-x",
        "outputId": "999d54fe-3f45-41b8-b914-59a655af8f0a"
      },
      "execution_count": null,
      "outputs": [
        {
          "output_type": "error",
          "ename": "NameError",
          "evalue": "ignored",
          "traceback": [
            "\u001b[0;31m---------------------------------------------------------------------------\u001b[0m",
            "\u001b[0;31mNameError\u001b[0m                                 Traceback (most recent call last)",
            "\u001b[0;32m<ipython-input-25-40230fb236bf>\u001b[0m in \u001b[0;36m<module>\u001b[0;34m()\u001b[0m\n\u001b[0;32m----> 1\u001b[0;31m \u001b[0mprint\u001b[0m\u001b[0;34m(\u001b[0m\u001b[0mnome_usuario\u001b[0m\u001b[0;34m)\u001b[0m\u001b[0;34m\u001b[0m\u001b[0;34m\u001b[0m\u001b[0m\n\u001b[0m",
            "\u001b[0;31mNameError\u001b[0m: name 'nome_usuario' is not defined"
          ]
        }
      ]
    },
    {
      "cell_type": "code",
      "source": [
        "print(nome_teste)"
      ],
      "metadata": {
        "colab": {
          "base_uri": "https://localhost:8080/"
        },
        "id": "N9BfAS9cGLFt",
        "outputId": "5945773c-f7e2-41fa-c164-f5e7623e189a"
      },
      "execution_count": null,
      "outputs": [
        {
          "output_type": "stream",
          "name": "stdout",
          "text": [
            "Python\n"
          ]
        }
      ]
    },
    {
      "cell_type": "markdown",
      "source": [
        "# Retornos\n",
        "\n",
        "Funções podem retornar um valor. Para isso utilizamos a palavra reservada **return**."
      ],
      "metadata": {
        "id": "e7mwlp27Eyfl"
      }
    },
    {
      "cell_type": "code",
      "source": [
        "def somar_numeros(numero1, numero2):\n",
        "  return numero1 + numero2"
      ],
      "metadata": {
        "id": "bWJTe8kNE-Fz"
      },
      "execution_count": null,
      "outputs": []
    },
    {
      "cell_type": "code",
      "source": [
        "somar_numeros(10, 20)"
      ],
      "metadata": {
        "colab": {
          "base_uri": "https://localhost:8080/"
        },
        "id": "7BqszPTBJfZR",
        "outputId": "14621226-f89c-4128-a8a9-067fe147b177"
      },
      "execution_count": null,
      "outputs": [
        {
          "output_type": "execute_result",
          "data": {
            "text/plain": [
              "30"
            ]
          },
          "metadata": {},
          "execution_count": 30
        }
      ]
    },
    {
      "cell_type": "code",
      "source": [
        "resultado = somar_numeros(100, 300)"
      ],
      "metadata": {
        "id": "HtBEfpEZJzPc"
      },
      "execution_count": null,
      "outputs": []
    },
    {
      "cell_type": "code",
      "source": [
        "print(resultado)"
      ],
      "metadata": {
        "colab": {
          "base_uri": "https://localhost:8080/"
        },
        "id": "uzyopwrwJ-O4",
        "outputId": "fc746287-67a1-4888-90f5-e0acc8ebccb4"
      },
      "execution_count": null,
      "outputs": [
        {
          "output_type": "stream",
          "name": "stdout",
          "text": [
            "400\n"
          ]
        }
      ]
    },
    {
      "cell_type": "code",
      "source": [
        "def somar_numeros(numero1, numero2):\n",
        "  resultado = numero1 + numero2\n",
        "  return resultado"
      ],
      "metadata": {
        "id": "TE4K54AbKDrN"
      },
      "execution_count": null,
      "outputs": []
    },
    {
      "cell_type": "code",
      "source": [
        "resultado2 = somar_numeros(1000, 100)"
      ],
      "metadata": {
        "id": "dIGpt3utKKiq"
      },
      "execution_count": null,
      "outputs": []
    },
    {
      "cell_type": "code",
      "source": [
        "def calculos(numero1, numero2):\n",
        "  soma = numero1 + numero2\n",
        "  multiplicacao = numero1 * numero1\n",
        "  exponenciacao = numero1 ** numero2\n",
        "\n",
        "  return soma, multiplicacao, exponenciacao"
      ],
      "metadata": {
        "id": "zWexFxqCKO8L"
      },
      "execution_count": null,
      "outputs": []
    },
    {
      "cell_type": "code",
      "source": [
        "calculos(10, 2)"
      ],
      "metadata": {
        "colab": {
          "base_uri": "https://localhost:8080/"
        },
        "id": "ygLKWXhCKwsU",
        "outputId": "81d82de7-e5f5-49d8-e48f-153d8a521a41"
      },
      "execution_count": null,
      "outputs": [
        {
          "output_type": "execute_result",
          "data": {
            "text/plain": [
              "(12, 100, 100)"
            ]
          },
          "metadata": {},
          "execution_count": 38
        }
      ]
    },
    {
      "cell_type": "code",
      "source": [
        "resultados = calculos(10, 3)"
      ],
      "metadata": {
        "id": "eliWJQJ6Kzap"
      },
      "execution_count": null,
      "outputs": []
    },
    {
      "cell_type": "code",
      "source": [
        "print(resultados)"
      ],
      "metadata": {
        "colab": {
          "base_uri": "https://localhost:8080/"
        },
        "id": "oPE-yt_5K7k0",
        "outputId": "b088fdbf-0216-4211-9f2a-1ce269193c1b"
      },
      "execution_count": null,
      "outputs": [
        {
          "output_type": "stream",
          "name": "stdout",
          "text": [
            "(13, 100, 1000)\n"
          ]
        }
      ]
    },
    {
      "cell_type": "code",
      "source": [
        "type(resultados)"
      ],
      "metadata": {
        "colab": {
          "base_uri": "https://localhost:8080/"
        },
        "id": "huJFGy3IK9PE",
        "outputId": "3095a4c1-fd96-4440-e23d-5b0060bc09b0"
      },
      "execution_count": null,
      "outputs": [
        {
          "output_type": "execute_result",
          "data": {
            "text/plain": [
              "tuple"
            ]
          },
          "metadata": {},
          "execution_count": 41
        }
      ]
    },
    {
      "cell_type": "markdown",
      "source": [
        "# Funções built-in (internas)"
      ],
      "metadata": {
        "id": "v_8enu3YK_gJ"
      }
    },
    {
      "cell_type": "code",
      "source": [
        "print('Vinicius')"
      ],
      "metadata": {
        "colab": {
          "base_uri": "https://localhost:8080/"
        },
        "id": "IouyNYcxMFSM",
        "outputId": "780dbbb9-f041-4f97-9453-5067a2e0aa50"
      },
      "execution_count": null,
      "outputs": [
        {
          "output_type": "stream",
          "name": "stdout",
          "text": [
            "Vinicius\n"
          ]
        }
      ]
    },
    {
      "cell_type": "code",
      "source": [
        "type('Vinicius')"
      ],
      "metadata": {
        "colab": {
          "base_uri": "https://localhost:8080/"
        },
        "id": "hb1ErDHzNBx5",
        "outputId": "67eadb63-db7d-4f20-a0ca-9284b128f28e"
      },
      "execution_count": null,
      "outputs": [
        {
          "output_type": "execute_result",
          "data": {
            "text/plain": [
              "str"
            ]
          },
          "metadata": {},
          "execution_count": 47
        }
      ]
    },
    {
      "cell_type": "code",
      "source": [
        "abs(-10)"
      ],
      "metadata": {
        "colab": {
          "base_uri": "https://localhost:8080/"
        },
        "id": "aPutFs4oNGEH",
        "outputId": "379c2e34-3120-4a52-8ccd-77c252f723c3"
      },
      "execution_count": null,
      "outputs": [
        {
          "output_type": "execute_result",
          "data": {
            "text/plain": [
              "10"
            ]
          },
          "metadata": {},
          "execution_count": 48
        }
      ]
    },
    {
      "cell_type": "code",
      "source": [
        "bin(13)"
      ],
      "metadata": {
        "colab": {
          "base_uri": "https://localhost:8080/",
          "height": 35
        },
        "id": "_H6pjaaHNJUa",
        "outputId": "35426682-7245-4bf5-b9ca-0e33a7eb0be6"
      },
      "execution_count": null,
      "outputs": [
        {
          "output_type": "execute_result",
          "data": {
            "application/vnd.google.colaboratory.intrinsic+json": {
              "type": "string"
            },
            "text/plain": [
              "'0b1101'"
            ]
          },
          "metadata": {},
          "execution_count": 49
        }
      ]
    },
    {
      "cell_type": "code",
      "source": [
        "lista = [1, 2, 3, 4, 5, 6, 7]"
      ],
      "metadata": {
        "id": "0XCABhPwNOoX"
      },
      "execution_count": null,
      "outputs": []
    },
    {
      "cell_type": "code",
      "source": [
        "len(lista)"
      ],
      "metadata": {
        "colab": {
          "base_uri": "https://localhost:8080/"
        },
        "id": "cCW1bFpZNSml",
        "outputId": "2aadc46f-f9c3-4c65-cf02-9ef2daa4abc2"
      },
      "execution_count": null,
      "outputs": [
        {
          "output_type": "execute_result",
          "data": {
            "text/plain": [
              "7"
            ]
          },
          "metadata": {},
          "execution_count": 51
        }
      ]
    },
    {
      "cell_type": "markdown",
      "source": [
        "# Funções de terceiros"
      ],
      "metadata": {
        "id": "n8i9mmU8MGcS"
      }
    },
    {
      "cell_type": "code",
      "source": [
        "import pandas as pd"
      ],
      "metadata": {
        "id": "avU75f6vMYWU"
      },
      "execution_count": null,
      "outputs": []
    },
    {
      "cell_type": "code",
      "source": [
        "dados = {\n",
        "    'nome': ['Vinicius', 'Python', 'Empowerdata']\n",
        "}"
      ],
      "metadata": {
        "id": "b3k75I5lMZbO"
      },
      "execution_count": null,
      "outputs": []
    },
    {
      "cell_type": "code",
      "source": [
        "type(dados)"
      ],
      "metadata": {
        "colab": {
          "base_uri": "https://localhost:8080/"
        },
        "id": "lsdeAr_FNe8B",
        "outputId": "3f819d19-564e-4eea-eb7c-bc04661587c6"
      },
      "execution_count": null,
      "outputs": [
        {
          "output_type": "execute_result",
          "data": {
            "text/plain": [
              "dict"
            ]
          },
          "metadata": {},
          "execution_count": 54
        }
      ]
    },
    {
      "cell_type": "code",
      "source": [
        "df = pd.DataFrame(dados)"
      ],
      "metadata": {
        "id": "6tOxvuSnNf1m"
      },
      "execution_count": null,
      "outputs": []
    },
    {
      "cell_type": "code",
      "source": [
        "df"
      ],
      "metadata": {
        "id": "5f-Jb4VLNtRS",
        "outputId": "82cbc346-fc78-4d86-c637-231def280ae0",
        "colab": {
          "base_uri": "https://localhost:8080/",
          "height": 143
        }
      },
      "execution_count": null,
      "outputs": [
        {
          "output_type": "execute_result",
          "data": {
            "text/html": [
              "\n",
              "  <div id=\"df-c72f1ca1-f564-4fcd-bcf1-e6efe78690b9\">\n",
              "    <div class=\"colab-df-container\">\n",
              "      <div>\n",
              "<style scoped>\n",
              "    .dataframe tbody tr th:only-of-type {\n",
              "        vertical-align: middle;\n",
              "    }\n",
              "\n",
              "    .dataframe tbody tr th {\n",
              "        vertical-align: top;\n",
              "    }\n",
              "\n",
              "    .dataframe thead th {\n",
              "        text-align: right;\n",
              "    }\n",
              "</style>\n",
              "<table border=\"1\" class=\"dataframe\">\n",
              "  <thead>\n",
              "    <tr style=\"text-align: right;\">\n",
              "      <th></th>\n",
              "      <th>nome</th>\n",
              "    </tr>\n",
              "  </thead>\n",
              "  <tbody>\n",
              "    <tr>\n",
              "      <th>0</th>\n",
              "      <td>Vinicius</td>\n",
              "    </tr>\n",
              "    <tr>\n",
              "      <th>1</th>\n",
              "      <td>Python</td>\n",
              "    </tr>\n",
              "    <tr>\n",
              "      <th>2</th>\n",
              "      <td>Empowerdata</td>\n",
              "    </tr>\n",
              "  </tbody>\n",
              "</table>\n",
              "</div>\n",
              "      <button class=\"colab-df-convert\" onclick=\"convertToInteractive('df-c72f1ca1-f564-4fcd-bcf1-e6efe78690b9')\"\n",
              "              title=\"Convert this dataframe to an interactive table.\"\n",
              "              style=\"display:none;\">\n",
              "        \n",
              "  <svg xmlns=\"http://www.w3.org/2000/svg\" height=\"24px\"viewBox=\"0 0 24 24\"\n",
              "       width=\"24px\">\n",
              "    <path d=\"M0 0h24v24H0V0z\" fill=\"none\"/>\n",
              "    <path d=\"M18.56 5.44l.94 2.06.94-2.06 2.06-.94-2.06-.94-.94-2.06-.94 2.06-2.06.94zm-11 1L8.5 8.5l.94-2.06 2.06-.94-2.06-.94L8.5 2.5l-.94 2.06-2.06.94zm10 10l.94 2.06.94-2.06 2.06-.94-2.06-.94-.94-2.06-.94 2.06-2.06.94z\"/><path d=\"M17.41 7.96l-1.37-1.37c-.4-.4-.92-.59-1.43-.59-.52 0-1.04.2-1.43.59L10.3 9.45l-7.72 7.72c-.78.78-.78 2.05 0 2.83L4 21.41c.39.39.9.59 1.41.59.51 0 1.02-.2 1.41-.59l7.78-7.78 2.81-2.81c.8-.78.8-2.07 0-2.86zM5.41 20L4 18.59l7.72-7.72 1.47 1.35L5.41 20z\"/>\n",
              "  </svg>\n",
              "      </button>\n",
              "      \n",
              "  <style>\n",
              "    .colab-df-container {\n",
              "      display:flex;\n",
              "      flex-wrap:wrap;\n",
              "      gap: 12px;\n",
              "    }\n",
              "\n",
              "    .colab-df-convert {\n",
              "      background-color: #E8F0FE;\n",
              "      border: none;\n",
              "      border-radius: 50%;\n",
              "      cursor: pointer;\n",
              "      display: none;\n",
              "      fill: #1967D2;\n",
              "      height: 32px;\n",
              "      padding: 0 0 0 0;\n",
              "      width: 32px;\n",
              "    }\n",
              "\n",
              "    .colab-df-convert:hover {\n",
              "      background-color: #E2EBFA;\n",
              "      box-shadow: 0px 1px 2px rgba(60, 64, 67, 0.3), 0px 1px 3px 1px rgba(60, 64, 67, 0.15);\n",
              "      fill: #174EA6;\n",
              "    }\n",
              "\n",
              "    [theme=dark] .colab-df-convert {\n",
              "      background-color: #3B4455;\n",
              "      fill: #D2E3FC;\n",
              "    }\n",
              "\n",
              "    [theme=dark] .colab-df-convert:hover {\n",
              "      background-color: #434B5C;\n",
              "      box-shadow: 0px 1px 3px 1px rgba(0, 0, 0, 0.15);\n",
              "      filter: drop-shadow(0px 1px 2px rgba(0, 0, 0, 0.3));\n",
              "      fill: #FFFFFF;\n",
              "    }\n",
              "  </style>\n",
              "\n",
              "      <script>\n",
              "        const buttonEl =\n",
              "          document.querySelector('#df-c72f1ca1-f564-4fcd-bcf1-e6efe78690b9 button.colab-df-convert');\n",
              "        buttonEl.style.display =\n",
              "          google.colab.kernel.accessAllowed ? 'block' : 'none';\n",
              "\n",
              "        async function convertToInteractive(key) {\n",
              "          const element = document.querySelector('#df-c72f1ca1-f564-4fcd-bcf1-e6efe78690b9');\n",
              "          const dataTable =\n",
              "            await google.colab.kernel.invokeFunction('convertToInteractive',\n",
              "                                                     [key], {});\n",
              "          if (!dataTable) return;\n",
              "\n",
              "          const docLinkHtml = 'Like what you see? Visit the ' +\n",
              "            '<a target=\"_blank\" href=https://colab.research.google.com/notebooks/data_table.ipynb>data table notebook</a>'\n",
              "            + ' to learn more about interactive tables.';\n",
              "          element.innerHTML = '';\n",
              "          dataTable['output_type'] = 'display_data';\n",
              "          await google.colab.output.renderOutput(dataTable, element);\n",
              "          const docLink = document.createElement('div');\n",
              "          docLink.innerHTML = docLinkHtml;\n",
              "          element.appendChild(docLink);\n",
              "        }\n",
              "      </script>\n",
              "    </div>\n",
              "  </div>\n",
              "  "
            ],
            "text/plain": [
              "          nome\n",
              "0     Vinicius\n",
              "1       Python\n",
              "2  Empowerdata"
            ]
          },
          "metadata": {},
          "execution_count": 56
        }
      ]
    },
    {
      "cell_type": "code",
      "source": [],
      "metadata": {
        "id": "zlzw_twmNu-t"
      },
      "execution_count": null,
      "outputs": []
    }
  ]
}