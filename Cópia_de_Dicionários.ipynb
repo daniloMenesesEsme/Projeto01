{
  "nbformat": 4,
  "nbformat_minor": 0,
  "metadata": {
    "colab": {
      "provenance": [],
      "include_colab_link": true
    },
    "kernelspec": {
      "name": "python3",
      "display_name": "Python 3"
    },
    "language_info": {
      "name": "python"
    }
  },
  "cells": [
    {
      "cell_type": "markdown",
      "metadata": {
        "id": "view-in-github",
        "colab_type": "text"
      },
      "source": [
        "<a href=\"https://colab.research.google.com/github/daniloMenesesEsme/Projeto01/blob/main/C%C3%B3pia_de_Dicion%C3%A1rios.ipynb\" target=\"_parent\"><img src=\"https://colab.research.google.com/assets/colab-badge.svg\" alt=\"Open In Colab\"/></a>"
      ]
    },
    {
      "cell_type": "markdown",
      "source": [
        "# Dicionários\n",
        "\n",
        "O dicionário é uma estrutura de dados do Python utilizada para armazenar várias informações. Os dicionários são organizados em pares de chaves e valores.\n",
        "\n",
        "- Notação: {chave: valor}\n",
        "- são mutáveis\n",
        "- chaves precisam ser únicas."
      ],
      "metadata": {
        "id": "bflhvhjrCQeL"
      }
    },
    {
      "cell_type": "markdown",
      "source": [
        "# Criando um dicionário"
      ],
      "metadata": {
        "id": "8CbKkxEwDBne"
      }
    },
    {
      "cell_type": "code",
      "source": [
        "dados = {\n",
        "    'nome': 'Vinicius',\n",
        "    'estado': 'Rio de Janeiro',\n",
        "    'linguagem': 'Python'\n",
        "}"
      ],
      "metadata": {
        "id": "BT9FHk1-DE5m"
      },
      "execution_count": null,
      "outputs": []
    },
    {
      "cell_type": "code",
      "source": [
        "print(dados)"
      ],
      "metadata": {
        "colab": {
          "base_uri": "https://localhost:8080/"
        },
        "id": "RUFAtbt6HAKM",
        "outputId": "97421b2d-5529-4d9b-c145-79c36da09eb1"
      },
      "execution_count": null,
      "outputs": [
        {
          "output_type": "stream",
          "name": "stdout",
          "text": [
            "{'nome': 'Vinicius', 'estado': 'Rio de Janeiro', 'linguagem': 'Python'}\n"
          ]
        }
      ]
    },
    {
      "cell_type": "code",
      "source": [
        "dados = {\n",
        "    'nome': 'Vinicius',\n",
        "    'nome': 'Gabriel',\n",
        "    'estado': 'Rio de Janeiro',\n",
        "    'linguagem': 'Python'\n",
        "}"
      ],
      "metadata": {
        "id": "phjdamcsHD64"
      },
      "execution_count": null,
      "outputs": []
    },
    {
      "cell_type": "code",
      "source": [
        "print(dados)"
      ],
      "metadata": {
        "colab": {
          "base_uri": "https://localhost:8080/"
        },
        "id": "HcM15tS1HJ_B",
        "outputId": "3eb69072-221e-45ea-9c0a-996f3b12b5c7"
      },
      "execution_count": null,
      "outputs": [
        {
          "output_type": "stream",
          "name": "stdout",
          "text": [
            "{'nome': 'Gabriel', 'estado': 'Rio de Janeiro', 'linguagem': 'Python'}\n"
          ]
        }
      ]
    },
    {
      "cell_type": "code",
      "source": [
        "dados = {\n",
        "    'nome': 'Mariana',\n",
        "    'idade': 27,\n",
        "    'estado': 'Minas Gerais',\n",
        "    'cidade': 'Belo Horizonte'\n",
        "}"
      ],
      "metadata": {
        "id": "yHmmxh9jHRc3"
      },
      "execution_count": null,
      "outputs": []
    },
    {
      "cell_type": "code",
      "source": [
        "print(dados)"
      ],
      "metadata": {
        "colab": {
          "base_uri": "https://localhost:8080/"
        },
        "id": "eOM2UjSOHbos",
        "outputId": "5f77d23a-037d-4165-eba5-a0300f4edd80"
      },
      "execution_count": null,
      "outputs": [
        {
          "output_type": "stream",
          "name": "stdout",
          "text": [
            "{'nome': 'Mariana', 'idade': 27, 'estado': 'Minas Gerais', 'cidade': 'Belo Horizonte'}\n"
          ]
        }
      ]
    },
    {
      "cell_type": "code",
      "source": [
        "dados_numericos = {\n",
        "    1: 'número um',\n",
        "    2: 'número dois',\n",
        "    3: 'número três'\n",
        "}"
      ],
      "metadata": {
        "id": "HAatGsFVHipt"
      },
      "execution_count": null,
      "outputs": []
    },
    {
      "cell_type": "code",
      "source": [
        "print(dados_numericos)"
      ],
      "metadata": {
        "colab": {
          "base_uri": "https://localhost:8080/"
        },
        "id": "MYQKolvmHyd7",
        "outputId": "b34f2732-bda4-4a5c-a8ff-361153e06d70"
      },
      "execution_count": null,
      "outputs": [
        {
          "output_type": "stream",
          "name": "stdout",
          "text": [
            "{1: 'número um', 2: 'número dois', 3: 'número três'}\n"
          ]
        }
      ]
    },
    {
      "cell_type": "code",
      "source": [
        "type(dados)"
      ],
      "metadata": {
        "colab": {
          "base_uri": "https://localhost:8080/"
        },
        "id": "hdEJ2engH1Ei",
        "outputId": "a86c72d9-7f71-465d-e240-fcb71a85a0d4"
      },
      "execution_count": null,
      "outputs": [
        {
          "output_type": "execute_result",
          "data": {
            "text/plain": [
              "dict"
            ]
          },
          "metadata": {},
          "execution_count": 83
        }
      ]
    },
    {
      "cell_type": "code",
      "source": [
        "type(dados_numericos)"
      ],
      "metadata": {
        "colab": {
          "base_uri": "https://localhost:8080/"
        },
        "id": "2w785enUH4mO",
        "outputId": "b909c81f-d8e1-4e97-ac88-9de755c191c1"
      },
      "execution_count": null,
      "outputs": [
        {
          "output_type": "execute_result",
          "data": {
            "text/plain": [
              "dict"
            ]
          },
          "metadata": {},
          "execution_count": 84
        }
      ]
    },
    {
      "cell_type": "markdown",
      "source": [
        "# Listando chaves, valores e elementos"
      ],
      "metadata": {
        "id": "E7AKub3iDrWw"
      }
    },
    {
      "cell_type": "markdown",
      "source": [
        "## Método `keys()`"
      ],
      "metadata": {
        "id": "cExb7nw5FEiU"
      }
    },
    {
      "cell_type": "code",
      "source": [
        "dados"
      ],
      "metadata": {
        "colab": {
          "base_uri": "https://localhost:8080/"
        },
        "id": "0blS9_YgIDff",
        "outputId": "b3c50919-aa22-43cf-cfd8-869b1f1b4f85"
      },
      "execution_count": null,
      "outputs": [
        {
          "output_type": "execute_result",
          "data": {
            "text/plain": [
              "{'cidade': 'Belo Horizonte',\n",
              " 'estado': 'Minas Gerais',\n",
              " 'idade': 27,\n",
              " 'nome': 'Mariana'}"
            ]
          },
          "metadata": {},
          "execution_count": 85
        }
      ]
    },
    {
      "cell_type": "code",
      "source": [
        "dados.keys()"
      ],
      "metadata": {
        "colab": {
          "base_uri": "https://localhost:8080/"
        },
        "id": "4EZgf_81D26E",
        "outputId": "fd4daa83-fb1d-4195-ad6b-8384a8738122"
      },
      "execution_count": null,
      "outputs": [
        {
          "output_type": "execute_result",
          "data": {
            "text/plain": [
              "dict_keys(['nome', 'idade', 'estado', 'cidade'])"
            ]
          },
          "metadata": {},
          "execution_count": 86
        }
      ]
    },
    {
      "cell_type": "code",
      "source": [
        "type(dados.keys())"
      ],
      "metadata": {
        "colab": {
          "base_uri": "https://localhost:8080/"
        },
        "id": "MA2A5zxQIK0Q",
        "outputId": "915a5afe-7193-4fd0-f077-883992e24ef0"
      },
      "execution_count": null,
      "outputs": [
        {
          "output_type": "execute_result",
          "data": {
            "text/plain": [
              "dict_keys"
            ]
          },
          "metadata": {},
          "execution_count": 87
        }
      ]
    },
    {
      "cell_type": "markdown",
      "source": [
        "## Método `values()`"
      ],
      "metadata": {
        "id": "wMLn1_XnFJoS"
      }
    },
    {
      "cell_type": "code",
      "source": [
        "dados"
      ],
      "metadata": {
        "colab": {
          "base_uri": "https://localhost:8080/"
        },
        "id": "JT9iR8RzFNPQ",
        "outputId": "c8771dc5-3e15-40a0-c171-5a7dfc4f0b1f"
      },
      "execution_count": null,
      "outputs": [
        {
          "output_type": "execute_result",
          "data": {
            "text/plain": [
              "{'cidade': 'Belo Horizonte',\n",
              " 'estado': 'Minas Gerais',\n",
              " 'idade': 27,\n",
              " 'nome': 'Mariana'}"
            ]
          },
          "metadata": {},
          "execution_count": 88
        }
      ]
    },
    {
      "cell_type": "code",
      "source": [
        "dados.values()"
      ],
      "metadata": {
        "colab": {
          "base_uri": "https://localhost:8080/"
        },
        "id": "mBBMlF2OIRE_",
        "outputId": "1c49244e-a2ac-41da-f886-955ab7ac1cc6"
      },
      "execution_count": null,
      "outputs": [
        {
          "output_type": "execute_result",
          "data": {
            "text/plain": [
              "dict_values(['Mariana', 27, 'Minas Gerais', 'Belo Horizonte'])"
            ]
          },
          "metadata": {},
          "execution_count": 89
        }
      ]
    },
    {
      "cell_type": "markdown",
      "source": [
        "## Método `items()`"
      ],
      "metadata": {
        "id": "1wkIluhXFNin"
      }
    },
    {
      "cell_type": "code",
      "source": [
        "dados.items()"
      ],
      "metadata": {
        "colab": {
          "base_uri": "https://localhost:8080/"
        },
        "id": "n3g8b6S3IYjS",
        "outputId": "d05e7afb-4e72-48d5-8fd9-2d6ed7f555e0"
      },
      "execution_count": null,
      "outputs": [
        {
          "output_type": "execute_result",
          "data": {
            "text/plain": [
              "dict_items([('nome', 'Mariana'), ('idade', 27), ('estado', 'Minas Gerais'), ('cidade', 'Belo Horizonte')])"
            ]
          },
          "metadata": {},
          "execution_count": 90
        }
      ]
    },
    {
      "cell_type": "markdown",
      "source": [
        "# Acessando os elementos de um dicionário"
      ],
      "metadata": {
        "id": "I7e9587TJDmq"
      }
    },
    {
      "cell_type": "code",
      "source": [
        "print(dados)"
      ],
      "metadata": {
        "colab": {
          "base_uri": "https://localhost:8080/"
        },
        "id": "5Gvnf3wFJJot",
        "outputId": "744e81c8-4e81-4d61-e655-62a575c203d8"
      },
      "execution_count": null,
      "outputs": [
        {
          "output_type": "stream",
          "name": "stdout",
          "text": [
            "{'nome': 'Mariana', 'idade': 27, 'estado': 'Minas Gerais', 'cidade': 'Belo Horizonte'}\n"
          ]
        }
      ]
    },
    {
      "cell_type": "code",
      "source": [
        "dados['nome']"
      ],
      "metadata": {
        "colab": {
          "base_uri": "https://localhost:8080/",
          "height": 35
        },
        "id": "wmQ0SgG5JnzI",
        "outputId": "ad3c6810-a45e-4245-ce2d-4feb75a05ba2"
      },
      "execution_count": null,
      "outputs": [
        {
          "output_type": "execute_result",
          "data": {
            "application/vnd.google.colaboratory.intrinsic+json": {
              "type": "string"
            },
            "text/plain": [
              "'Mariana'"
            ]
          },
          "metadata": {},
          "execution_count": 92
        }
      ]
    },
    {
      "cell_type": "code",
      "source": [
        "dados['estado']"
      ],
      "metadata": {
        "colab": {
          "base_uri": "https://localhost:8080/",
          "height": 35
        },
        "id": "Xp7L8QnrJ0dI",
        "outputId": "45e34a31-e926-4e7d-fc85-801b3aeabee2"
      },
      "execution_count": null,
      "outputs": [
        {
          "output_type": "execute_result",
          "data": {
            "application/vnd.google.colaboratory.intrinsic+json": {
              "type": "string"
            },
            "text/plain": [
              "'Minas Gerais'"
            ]
          },
          "metadata": {},
          "execution_count": 93
        }
      ]
    },
    {
      "cell_type": "code",
      "source": [
        "dados['idade']"
      ],
      "metadata": {
        "colab": {
          "base_uri": "https://localhost:8080/"
        },
        "id": "eVFy5v6nJ4KC",
        "outputId": "60804467-d9c6-4213-c320-2124100446c2"
      },
      "execution_count": null,
      "outputs": [
        {
          "output_type": "execute_result",
          "data": {
            "text/plain": [
              "27"
            ]
          },
          "metadata": {},
          "execution_count": 94
        }
      ]
    },
    {
      "cell_type": "markdown",
      "source": [
        "# Manipulando elementos de um dicionário"
      ],
      "metadata": {
        "id": "S0J4snUzDFKk"
      }
    },
    {
      "cell_type": "markdown",
      "source": [
        "## Inserindo elementos"
      ],
      "metadata": {
        "id": "6PjH9s1TDTBz"
      }
    },
    {
      "cell_type": "code",
      "source": [
        "dados"
      ],
      "metadata": {
        "colab": {
          "base_uri": "https://localhost:8080/"
        },
        "id": "2u5Yz_DMD8PU",
        "outputId": "6bf60941-5d0c-48ce-ddfe-c9de304730f9"
      },
      "execution_count": null,
      "outputs": [
        {
          "output_type": "execute_result",
          "data": {
            "text/plain": [
              "{'cidade': 'Belo Horizonte',\n",
              " 'estado': 'Minas Gerais',\n",
              " 'idade': 27,\n",
              " 'nome': 'Mariana'}"
            ]
          },
          "metadata": {},
          "execution_count": 95
        }
      ]
    },
    {
      "cell_type": "code",
      "source": [
        "dados['nacionalidade'] = 'brasileira'"
      ],
      "metadata": {
        "id": "gjCVN55EKAfn"
      },
      "execution_count": null,
      "outputs": []
    },
    {
      "cell_type": "code",
      "source": [
        "dados"
      ],
      "metadata": {
        "colab": {
          "base_uri": "https://localhost:8080/"
        },
        "id": "bhrhHyHnKOVR",
        "outputId": "82197db4-3e54-403e-c5e6-2ca73780faae"
      },
      "execution_count": null,
      "outputs": [
        {
          "output_type": "execute_result",
          "data": {
            "text/plain": [
              "{'cidade': 'Belo Horizonte',\n",
              " 'estado': 'Minas Gerais',\n",
              " 'idade': 27,\n",
              " 'nacionalidade': 'brasileira',\n",
              " 'nome': 'Mariana'}"
            ]
          },
          "metadata": {},
          "execution_count": 97
        }
      ]
    },
    {
      "cell_type": "code",
      "source": [
        "dados_numericos"
      ],
      "metadata": {
        "colab": {
          "base_uri": "https://localhost:8080/"
        },
        "id": "_v1x3UkCKRSW",
        "outputId": "31ef8d81-876b-4475-c18d-0b449a258cbb"
      },
      "execution_count": null,
      "outputs": [
        {
          "output_type": "execute_result",
          "data": {
            "text/plain": [
              "{1: 'número um', 2: 'número dois', 3: 'número três'}"
            ]
          },
          "metadata": {},
          "execution_count": 98
        }
      ]
    },
    {
      "cell_type": "code",
      "source": [
        "dados_numericos[4] = 'número 4'"
      ],
      "metadata": {
        "id": "OcOwz6C4KTMy"
      },
      "execution_count": null,
      "outputs": []
    },
    {
      "cell_type": "code",
      "source": [
        "dados_numericos"
      ],
      "metadata": {
        "colab": {
          "base_uri": "https://localhost:8080/"
        },
        "id": "uq_mcUaTKeu-",
        "outputId": "b1ae52f1-9c78-4113-bfc2-ee27627a396a"
      },
      "execution_count": null,
      "outputs": [
        {
          "output_type": "execute_result",
          "data": {
            "text/plain": [
              "{1: 'número um', 2: 'número dois', 3: 'número três', 4: 'número 4'}"
            ]
          },
          "metadata": {},
          "execution_count": 100
        }
      ]
    },
    {
      "cell_type": "markdown",
      "source": [
        "## Atualizando elementos"
      ],
      "metadata": {
        "id": "OMkBh_UVD8sY"
      }
    },
    {
      "cell_type": "code",
      "source": [
        "dados"
      ],
      "metadata": {
        "colab": {
          "base_uri": "https://localhost:8080/"
        },
        "id": "A579gdL2D-mZ",
        "outputId": "6ba1cefc-8fd2-4ebd-eb77-ae5e0be7bd0f"
      },
      "execution_count": null,
      "outputs": [
        {
          "output_type": "execute_result",
          "data": {
            "text/plain": [
              "{'cidade': 'Belo Horizonte',\n",
              " 'estado': 'Minas Gerais',\n",
              " 'idade': 27,\n",
              " 'nacionalidade': 'brasileira',\n",
              " 'nome': 'Mariana'}"
            ]
          },
          "metadata": {},
          "execution_count": 101
        }
      ]
    },
    {
      "cell_type": "code",
      "source": [
        "dados['idade'] = 33"
      ],
      "metadata": {
        "id": "kcivwaw4KtA-"
      },
      "execution_count": null,
      "outputs": []
    },
    {
      "cell_type": "code",
      "source": [
        "dados"
      ],
      "metadata": {
        "colab": {
          "base_uri": "https://localhost:8080/"
        },
        "id": "Q3pEQ4yJK2F_",
        "outputId": "62bdb710-1048-45c0-8d6f-b9fd62393d28"
      },
      "execution_count": null,
      "outputs": [
        {
          "output_type": "execute_result",
          "data": {
            "text/plain": [
              "{'cidade': 'Belo Horizonte',\n",
              " 'estado': 'Minas Gerais',\n",
              " 'idade': 33,\n",
              " 'nacionalidade': 'brasileira',\n",
              " 'nome': 'Mariana'}"
            ]
          },
          "metadata": {},
          "execution_count": 103
        }
      ]
    },
    {
      "cell_type": "code",
      "source": [
        "dados['cidade'] = 'Juiz de Fora'"
      ],
      "metadata": {
        "id": "hg8KyWlTK7hE"
      },
      "execution_count": null,
      "outputs": []
    },
    {
      "cell_type": "code",
      "source": [
        "dados"
      ],
      "metadata": {
        "colab": {
          "base_uri": "https://localhost:8080/"
        },
        "id": "JTxGM6BEK__p",
        "outputId": "c9981ac7-b6c1-46c1-c0b6-2a6bd6e28301"
      },
      "execution_count": null,
      "outputs": [
        {
          "output_type": "execute_result",
          "data": {
            "text/plain": [
              "{'cidade': 'Juiz de Fora',\n",
              " 'estado': 'Minas Gerais',\n",
              " 'idade': 33,\n",
              " 'nacionalidade': 'brasileira',\n",
              " 'nome': 'Mariana'}"
            ]
          },
          "metadata": {},
          "execution_count": 105
        }
      ]
    },
    {
      "cell_type": "markdown",
      "source": [
        "## Deletando elementos"
      ],
      "metadata": {
        "id": "19u7hPNhD-0E"
      }
    },
    {
      "cell_type": "markdown",
      "source": [
        "### Método `pop()`"
      ],
      "metadata": {
        "id": "4Fu1H2-8ECDI"
      }
    },
    {
      "cell_type": "code",
      "source": [
        "dados"
      ],
      "metadata": {
        "colab": {
          "base_uri": "https://localhost:8080/"
        },
        "id": "TTqDiUj-EFtj",
        "outputId": "8124a024-e637-466a-d9fc-08ef38fa63c5"
      },
      "execution_count": null,
      "outputs": [
        {
          "output_type": "execute_result",
          "data": {
            "text/plain": [
              "{'cidade': 'Juiz de Fora',\n",
              " 'estado': 'Minas Gerais',\n",
              " 'idade': 33,\n",
              " 'nacionalidade': 'brasileira',\n",
              " 'nome': 'Mariana'}"
            ]
          },
          "metadata": {},
          "execution_count": 106
        }
      ]
    },
    {
      "cell_type": "code",
      "source": [
        "dados.pop('nacionalidade')"
      ],
      "metadata": {
        "colab": {
          "base_uri": "https://localhost:8080/",
          "height": 35
        },
        "id": "5NTJHtiaLF4Q",
        "outputId": "e3e2e649-bd83-4ba5-b1f4-2f4fd2690cc3"
      },
      "execution_count": null,
      "outputs": [
        {
          "output_type": "execute_result",
          "data": {
            "application/vnd.google.colaboratory.intrinsic+json": {
              "type": "string"
            },
            "text/plain": [
              "'brasileira'"
            ]
          },
          "metadata": {},
          "execution_count": 107
        }
      ]
    },
    {
      "cell_type": "code",
      "source": [
        "dados"
      ],
      "metadata": {
        "colab": {
          "base_uri": "https://localhost:8080/"
        },
        "id": "leRWKG-ALSN7",
        "outputId": "bdc3180b-f957-463e-deaf-eb93af2f81fa"
      },
      "execution_count": null,
      "outputs": [
        {
          "output_type": "execute_result",
          "data": {
            "text/plain": [
              "{'cidade': 'Juiz de Fora',\n",
              " 'estado': 'Minas Gerais',\n",
              " 'idade': 33,\n",
              " 'nome': 'Mariana'}"
            ]
          },
          "metadata": {},
          "execution_count": 115
        }
      ]
    },
    {
      "cell_type": "markdown",
      "source": [
        "### Método `popitem()`"
      ],
      "metadata": {
        "id": "dfhZ7lz7EF9j"
      }
    },
    {
      "cell_type": "code",
      "source": [
        "print(dados)"
      ],
      "metadata": {
        "colab": {
          "base_uri": "https://localhost:8080/"
        },
        "id": "nwFbc5fjEKR5",
        "outputId": "2dab5855-c470-42a1-bc42-87b7fd798402"
      },
      "execution_count": null,
      "outputs": [
        {
          "output_type": "stream",
          "name": "stdout",
          "text": [
            "{'nome': 'Mariana', 'idade': 33, 'estado': 'Minas Gerais', 'cidade': 'Juiz de Fora'}\n"
          ]
        }
      ]
    },
    {
      "cell_type": "code",
      "source": [
        "dados.popitem()"
      ],
      "metadata": {
        "colab": {
          "base_uri": "https://localhost:8080/"
        },
        "id": "Lx6jyV9bNL75",
        "outputId": "aa75b6d4-46ce-4c5b-9793-98b7d9e0804f"
      },
      "execution_count": null,
      "outputs": [
        {
          "output_type": "execute_result",
          "data": {
            "text/plain": [
              "('cidade', 'Juiz de Fora')"
            ]
          },
          "metadata": {},
          "execution_count": 118
        }
      ]
    },
    {
      "cell_type": "code",
      "source": [
        "print(dados)"
      ],
      "metadata": {
        "colab": {
          "base_uri": "https://localhost:8080/"
        },
        "id": "EDH8qVdVNRQO",
        "outputId": "43952b60-d909-40b8-b834-7756959ba949"
      },
      "execution_count": null,
      "outputs": [
        {
          "output_type": "stream",
          "name": "stdout",
          "text": [
            "{'nome': 'Mariana', 'idade': 33, 'estado': 'Minas Gerais'}\n"
          ]
        }
      ]
    },
    {
      "cell_type": "markdown",
      "source": [
        "### Comando `del`"
      ],
      "metadata": {
        "id": "_yp9Doe1EKkf"
      }
    },
    {
      "cell_type": "code",
      "source": [
        "dados"
      ],
      "metadata": {
        "colab": {
          "base_uri": "https://localhost:8080/"
        },
        "id": "cikmcy_cEPgK",
        "outputId": "62bb133f-40dc-4485-9aab-709340755a9f"
      },
      "execution_count": null,
      "outputs": [
        {
          "output_type": "execute_result",
          "data": {
            "text/plain": [
              "{'estado': 'Minas Gerais', 'idade': 33, 'nome': 'Mariana'}"
            ]
          },
          "metadata": {},
          "execution_count": 120
        }
      ]
    },
    {
      "cell_type": "code",
      "source": [
        "del dados['idade']"
      ],
      "metadata": {
        "id": "5DxogFLJNXTa"
      },
      "execution_count": null,
      "outputs": []
    },
    {
      "cell_type": "code",
      "source": [
        "dados"
      ],
      "metadata": {
        "colab": {
          "base_uri": "https://localhost:8080/"
        },
        "id": "JYtvW1nbNa0B",
        "outputId": "18281005-e95b-48dd-d305-cc30d7fef304"
      },
      "execution_count": null,
      "outputs": [
        {
          "output_type": "execute_result",
          "data": {
            "text/plain": [
              "{'estado': 'Minas Gerais', 'nome': 'Mariana'}"
            ]
          },
          "metadata": {},
          "execution_count": 122
        }
      ]
    },
    {
      "cell_type": "markdown",
      "source": [
        "### Método `clear()`"
      ],
      "metadata": {
        "id": "hoUFyc39EP6f"
      }
    },
    {
      "cell_type": "code",
      "source": [
        "dados.clear()"
      ],
      "metadata": {
        "id": "wPHAoXjLIxAj"
      },
      "execution_count": null,
      "outputs": []
    },
    {
      "cell_type": "code",
      "source": [
        "dados"
      ],
      "metadata": {
        "colab": {
          "base_uri": "https://localhost:8080/"
        },
        "id": "99C5KCwHNglT",
        "outputId": "00eea842-abfa-4b62-f939-57e7537cd3e1"
      },
      "execution_count": null,
      "outputs": [
        {
          "output_type": "execute_result",
          "data": {
            "text/plain": [
              "{}"
            ]
          },
          "metadata": {},
          "execution_count": 124
        }
      ]
    },
    {
      "cell_type": "markdown",
      "source": [
        "# Dicionários podem ser heterogêneos"
      ],
      "metadata": {
        "id": "1beFgJ5LNhTL"
      }
    },
    {
      "cell_type": "code",
      "source": [
        "dados = {\n",
        "    'nome' : 'Vinicius',\n",
        "    'status': True,\n",
        "    'notas': [10, 9.8, 7.7, 4.9]\n",
        "}"
      ],
      "metadata": {
        "id": "rune2Z-6THJb"
      },
      "execution_count": null,
      "outputs": []
    },
    {
      "cell_type": "code",
      "source": [
        "print(dados)"
      ],
      "metadata": {
        "colab": {
          "base_uri": "https://localhost:8080/"
        },
        "id": "Aw6Lo0D-VQ9V",
        "outputId": "6b0a4e9a-7dc5-4749-aee0-a86c7f395b6a"
      },
      "execution_count": null,
      "outputs": [
        {
          "output_type": "stream",
          "name": "stdout",
          "text": [
            "{'nome': 'Vinicius', 'status': True, 'notas': [10, 9.8, 7.7, 4.9]}\n"
          ]
        }
      ]
    },
    {
      "cell_type": "code",
      "source": [
        "dados['nome']"
      ],
      "metadata": {
        "colab": {
          "base_uri": "https://localhost:8080/",
          "height": 35
        },
        "id": "G0dR68xCVZUh",
        "outputId": "9274b3f5-49ee-4a58-8d18-635ed34aac37"
      },
      "execution_count": null,
      "outputs": [
        {
          "output_type": "execute_result",
          "data": {
            "application/vnd.google.colaboratory.intrinsic+json": {
              "type": "string"
            },
            "text/plain": [
              "'Vinicius'"
            ]
          },
          "metadata": {},
          "execution_count": 127
        }
      ]
    },
    {
      "cell_type": "code",
      "source": [
        "dados['status']"
      ],
      "metadata": {
        "colab": {
          "base_uri": "https://localhost:8080/"
        },
        "id": "-n0I2ChvVcFX",
        "outputId": "04e31e4e-df7e-4aeb-e221-c2573105807b"
      },
      "execution_count": null,
      "outputs": [
        {
          "output_type": "execute_result",
          "data": {
            "text/plain": [
              "True"
            ]
          },
          "metadata": {},
          "execution_count": 128
        }
      ]
    },
    {
      "cell_type": "code",
      "source": [
        "dados['notas']"
      ],
      "metadata": {
        "colab": {
          "base_uri": "https://localhost:8080/"
        },
        "id": "0SYDE92SVdw8",
        "outputId": "bb0ee37f-e72d-4f31-ffe8-a4760ee42c0f"
      },
      "execution_count": null,
      "outputs": [
        {
          "output_type": "execute_result",
          "data": {
            "text/plain": [
              "[10, 9.8, 7.7, 4.9]"
            ]
          },
          "metadata": {},
          "execution_count": 129
        }
      ]
    },
    {
      "cell_type": "code",
      "source": [
        "dados['notas'][-1]"
      ],
      "metadata": {
        "colab": {
          "base_uri": "https://localhost:8080/"
        },
        "id": "TZK0AhsSVgqh",
        "outputId": "8d9ce460-4d97-4339-8513-2e5fae078255"
      },
      "execution_count": null,
      "outputs": [
        {
          "output_type": "execute_result",
          "data": {
            "text/plain": [
              "4.9"
            ]
          },
          "metadata": {},
          "execution_count": 133
        }
      ]
    },
    {
      "cell_type": "code",
      "source": [
        "dados['notas'][0]"
      ],
      "metadata": {
        "colab": {
          "base_uri": "https://localhost:8080/"
        },
        "id": "LhKjcZjXVmvI",
        "outputId": "d55551b9-12c9-402d-b2c2-203b095237d0"
      },
      "execution_count": null,
      "outputs": [
        {
          "output_type": "execute_result",
          "data": {
            "text/plain": [
              "10"
            ]
          },
          "metadata": {},
          "execution_count": 134
        }
      ]
    },
    {
      "cell_type": "code",
      "source": [
        "dados['notas'][1]"
      ],
      "metadata": {
        "colab": {
          "base_uri": "https://localhost:8080/"
        },
        "id": "K1uOCSa6VxVw",
        "outputId": "697aaf8a-8440-422d-9e83-a70f1b53e754"
      },
      "execution_count": null,
      "outputs": [
        {
          "output_type": "execute_result",
          "data": {
            "text/plain": [
              "9.8"
            ]
          },
          "metadata": {},
          "execution_count": 135
        }
      ]
    }
  ]
}