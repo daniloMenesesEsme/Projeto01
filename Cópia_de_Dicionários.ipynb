{
  "nbformat": 4,
  "nbformat_minor": 0,
  "metadata": {
    "colab": {
      "provenance": [],
      "include_colab_link": true
    },
    "kernelspec": {
      "name": "python3",
      "display_name": "Python 3"
    },
    "language_info": {
      "name": "python"
    }
  },
  "cells": [
    {
      "cell_type": "markdown",
      "metadata": {
        "id": "view-in-github",
        "colab_type": "text"
      },
      "source": [
        "<a href=\"https://colab.research.google.com/github/daniloMenesesEsme/Projeto01/blob/main/C%C3%B3pia_de_Dicion%C3%A1rios.ipynb\" target=\"_parent\"><img src=\"https://colab.research.google.com/assets/colab-badge.svg\" alt=\"Open In Colab\"/></a>"
      ]
    },
    {
      "cell_type": "markdown",
      "source": [
        "# Dicionários\n",
        "\n",
        "O dicionário é uma estrutura de dados do Python utilizada para armazenar várias informações. Os dicionários são organizados em pares de chaves e valores.\n",
        "\n",
        "- Notação: {chave: valor}\n",
        "- são mutáveis\n",
        "- chaves precisam ser únicas."
      ],
      "metadata": {
        "id": "bflhvhjrCQeL"
      }
    },
    {
      "cell_type": "markdown",
      "source": [
        "# Criando um dicionário"
      ],
      "metadata": {
        "id": "8CbKkxEwDBne"
      }
    },
    {
      "cell_type": "code",
      "source": [
        "dados = {\n",
        "    'nome': 'Vinicius',\n",
        "    'estado': 'Rio de Janeiro',\n",
        "    'linguagem': 'Python'\n",
        "}"
      ],
      "metadata": {
        "id": "BT9FHk1-DE5m"
      },
      "execution_count": 2,
      "outputs": []
    },
    {
      "cell_type": "code",
      "source": [
        "print(dados)"
      ],
      "metadata": {
        "colab": {
          "base_uri": "https://localhost:8080/"
        },
        "id": "RUFAtbt6HAKM",
        "outputId": "fe82f43b-5760-4e5e-c7ae-1c7875f0551d"
      },
      "execution_count": 3,
      "outputs": [
        {
          "output_type": "stream",
          "name": "stdout",
          "text": [
            "{'nome': 'Vinicius', 'estado': 'Rio de Janeiro', 'linguagem': 'Python'}\n"
          ]
        }
      ]
    },
    {
      "cell_type": "code",
      "source": [
        "dados = {\n",
        "    'nome': 'Vinicius',\n",
        "    'nome': 'Gabriel',\n",
        "    'estado': 'Rio de Janeiro',\n",
        "    'linguagem': 'Python'\n",
        "}"
      ],
      "metadata": {
        "id": "phjdamcsHD64"
      },
      "execution_count": 4,
      "outputs": []
    },
    {
      "cell_type": "code",
      "source": [
        "print(dados)"
      ],
      "metadata": {
        "colab": {
          "base_uri": "https://localhost:8080/"
        },
        "id": "HcM15tS1HJ_B",
        "outputId": "392e2411-82f1-4154-a4ae-8deaef9692ed"
      },
      "execution_count": 5,
      "outputs": [
        {
          "output_type": "stream",
          "name": "stdout",
          "text": [
            "{'nome': 'Gabriel', 'estado': 'Rio de Janeiro', 'linguagem': 'Python'}\n"
          ]
        }
      ]
    },
    {
      "cell_type": "code",
      "source": [
        "dados = {\n",
        "    'nome': 'Mariana',\n",
        "    'idade': 27,\n",
        "    'estado': 'Minas Gerais',\n",
        "    'cidade': 'Belo Horizonte'\n",
        "}"
      ],
      "metadata": {
        "id": "yHmmxh9jHRc3"
      },
      "execution_count": 6,
      "outputs": []
    },
    {
      "cell_type": "code",
      "source": [
        "print(dados)"
      ],
      "metadata": {
        "colab": {
          "base_uri": "https://localhost:8080/"
        },
        "id": "eOM2UjSOHbos",
        "outputId": "47e53e74-20f7-4558-f963-9e2cc8df9051"
      },
      "execution_count": 7,
      "outputs": [
        {
          "output_type": "stream",
          "name": "stdout",
          "text": [
            "{'nome': 'Mariana', 'idade': 27, 'estado': 'Minas Gerais', 'cidade': 'Belo Horizonte'}\n"
          ]
        }
      ]
    },
    {
      "cell_type": "code",
      "source": [
        "dados_numericos = {\n",
        "    1: 'número um',\n",
        "    2: 'número dois',\n",
        "    3: 'número três'\n",
        "}"
      ],
      "metadata": {
        "id": "HAatGsFVHipt"
      },
      "execution_count": 8,
      "outputs": []
    },
    {
      "cell_type": "code",
      "source": [
        "print(dados_numericos)"
      ],
      "metadata": {
        "colab": {
          "base_uri": "https://localhost:8080/"
        },
        "id": "MYQKolvmHyd7",
        "outputId": "dd9a0ea1-0016-4e45-c295-65ece4d4c5f7"
      },
      "execution_count": 9,
      "outputs": [
        {
          "output_type": "stream",
          "name": "stdout",
          "text": [
            "{1: 'número um', 2: 'número dois', 3: 'número três'}\n"
          ]
        }
      ]
    },
    {
      "cell_type": "code",
      "source": [
        "type(dados)"
      ],
      "metadata": {
        "colab": {
          "base_uri": "https://localhost:8080/"
        },
        "id": "hdEJ2engH1Ei",
        "outputId": "ae6c9c87-9aab-4430-ab9d-41cc4bab04b8"
      },
      "execution_count": 10,
      "outputs": [
        {
          "output_type": "execute_result",
          "data": {
            "text/plain": [
              "dict"
            ]
          },
          "metadata": {},
          "execution_count": 10
        }
      ]
    },
    {
      "cell_type": "code",
      "source": [
        "type(dados_numericos)"
      ],
      "metadata": {
        "colab": {
          "base_uri": "https://localhost:8080/"
        },
        "id": "2w785enUH4mO",
        "outputId": "49a4deaa-83e9-4daa-d421-53153e35131c"
      },
      "execution_count": 11,
      "outputs": [
        {
          "output_type": "execute_result",
          "data": {
            "text/plain": [
              "dict"
            ]
          },
          "metadata": {},
          "execution_count": 11
        }
      ]
    },
    {
      "cell_type": "markdown",
      "source": [
        "# Listando chaves, valores e elementos"
      ],
      "metadata": {
        "id": "E7AKub3iDrWw"
      }
    },
    {
      "cell_type": "markdown",
      "source": [
        "## Método `keys()`"
      ],
      "metadata": {
        "id": "cExb7nw5FEiU"
      }
    },
    {
      "cell_type": "code",
      "source": [
        "dados"
      ],
      "metadata": {
        "colab": {
          "base_uri": "https://localhost:8080/"
        },
        "id": "0blS9_YgIDff",
        "outputId": "e378daeb-b5dc-4856-f3d0-1918d2c90918"
      },
      "execution_count": 12,
      "outputs": [
        {
          "output_type": "execute_result",
          "data": {
            "text/plain": [
              "{'nome': 'Mariana',\n",
              " 'idade': 27,\n",
              " 'estado': 'Minas Gerais',\n",
              " 'cidade': 'Belo Horizonte'}"
            ]
          },
          "metadata": {},
          "execution_count": 12
        }
      ]
    },
    {
      "cell_type": "code",
      "source": [
        "dados.keys()"
      ],
      "metadata": {
        "colab": {
          "base_uri": "https://localhost:8080/"
        },
        "id": "4EZgf_81D26E",
        "outputId": "d094fc4d-54ef-4628-dd5b-e4cdd6325546"
      },
      "execution_count": 13,
      "outputs": [
        {
          "output_type": "execute_result",
          "data": {
            "text/plain": [
              "dict_keys(['nome', 'idade', 'estado', 'cidade'])"
            ]
          },
          "metadata": {},
          "execution_count": 13
        }
      ]
    },
    {
      "cell_type": "code",
      "source": [
        "type(dados.keys())"
      ],
      "metadata": {
        "colab": {
          "base_uri": "https://localhost:8080/"
        },
        "id": "MA2A5zxQIK0Q",
        "outputId": "a3d57ee3-36ac-481c-fba6-9bc82a6e7d8a"
      },
      "execution_count": 14,
      "outputs": [
        {
          "output_type": "execute_result",
          "data": {
            "text/plain": [
              "dict_keys"
            ]
          },
          "metadata": {},
          "execution_count": 14
        }
      ]
    },
    {
      "cell_type": "markdown",
      "source": [
        "## Método `values()`"
      ],
      "metadata": {
        "id": "wMLn1_XnFJoS"
      }
    },
    {
      "cell_type": "code",
      "source": [
        "dados"
      ],
      "metadata": {
        "colab": {
          "base_uri": "https://localhost:8080/"
        },
        "id": "JT9iR8RzFNPQ",
        "outputId": "c49c5a10-691f-44d3-9fb0-4d07ae160781"
      },
      "execution_count": 15,
      "outputs": [
        {
          "output_type": "execute_result",
          "data": {
            "text/plain": [
              "{'nome': 'Mariana',\n",
              " 'idade': 27,\n",
              " 'estado': 'Minas Gerais',\n",
              " 'cidade': 'Belo Horizonte'}"
            ]
          },
          "metadata": {},
          "execution_count": 15
        }
      ]
    },
    {
      "cell_type": "code",
      "source": [
        "dados.values()"
      ],
      "metadata": {
        "colab": {
          "base_uri": "https://localhost:8080/"
        },
        "id": "mBBMlF2OIRE_",
        "outputId": "f1a02799-d21a-41cd-da12-9ebe7d272574"
      },
      "execution_count": 16,
      "outputs": [
        {
          "output_type": "execute_result",
          "data": {
            "text/plain": [
              "dict_values(['Mariana', 27, 'Minas Gerais', 'Belo Horizonte'])"
            ]
          },
          "metadata": {},
          "execution_count": 16
        }
      ]
    },
    {
      "cell_type": "markdown",
      "source": [
        "## Método `items()`"
      ],
      "metadata": {
        "id": "1wkIluhXFNin"
      }
    },
    {
      "cell_type": "code",
      "source": [
        "dados.items()"
      ],
      "metadata": {
        "colab": {
          "base_uri": "https://localhost:8080/"
        },
        "id": "n3g8b6S3IYjS",
        "outputId": "5002be83-7c48-4cb7-9286-fa60187c6864"
      },
      "execution_count": 17,
      "outputs": [
        {
          "output_type": "execute_result",
          "data": {
            "text/plain": [
              "dict_items([('nome', 'Mariana'), ('idade', 27), ('estado', 'Minas Gerais'), ('cidade', 'Belo Horizonte')])"
            ]
          },
          "metadata": {},
          "execution_count": 17
        }
      ]
    },
    {
      "cell_type": "markdown",
      "source": [
        "# Acessando os elementos de um dicionário"
      ],
      "metadata": {
        "id": "I7e9587TJDmq"
      }
    },
    {
      "cell_type": "code",
      "source": [
        "print(dados)"
      ],
      "metadata": {
        "colab": {
          "base_uri": "https://localhost:8080/"
        },
        "id": "5Gvnf3wFJJot",
        "outputId": "1b1d9dc6-da28-4ee3-df81-2da63398ea13"
      },
      "execution_count": 18,
      "outputs": [
        {
          "output_type": "stream",
          "name": "stdout",
          "text": [
            "{'nome': 'Mariana', 'idade': 27, 'estado': 'Minas Gerais', 'cidade': 'Belo Horizonte'}\n"
          ]
        }
      ]
    },
    {
      "cell_type": "code",
      "source": [
        "dados['nome']"
      ],
      "metadata": {
        "colab": {
          "base_uri": "https://localhost:8080/",
          "height": 36
        },
        "id": "wmQ0SgG5JnzI",
        "outputId": "dcbad38e-559f-473d-c0e9-cc093b911a02"
      },
      "execution_count": 19,
      "outputs": [
        {
          "output_type": "execute_result",
          "data": {
            "text/plain": [
              "'Mariana'"
            ],
            "application/vnd.google.colaboratory.intrinsic+json": {
              "type": "string"
            }
          },
          "metadata": {},
          "execution_count": 19
        }
      ]
    },
    {
      "cell_type": "code",
      "source": [
        "dados['estado']"
      ],
      "metadata": {
        "colab": {
          "base_uri": "https://localhost:8080/",
          "height": 36
        },
        "id": "Xp7L8QnrJ0dI",
        "outputId": "b89e41b1-e550-4dfe-80d3-ac85f298b23c"
      },
      "execution_count": 20,
      "outputs": [
        {
          "output_type": "execute_result",
          "data": {
            "text/plain": [
              "'Minas Gerais'"
            ],
            "application/vnd.google.colaboratory.intrinsic+json": {
              "type": "string"
            }
          },
          "metadata": {},
          "execution_count": 20
        }
      ]
    },
    {
      "cell_type": "code",
      "source": [
        "dados['idade']"
      ],
      "metadata": {
        "colab": {
          "base_uri": "https://localhost:8080/"
        },
        "id": "eVFy5v6nJ4KC",
        "outputId": "6fdc5d27-ca44-457e-87b9-d59bb0666c61"
      },
      "execution_count": 21,
      "outputs": [
        {
          "output_type": "execute_result",
          "data": {
            "text/plain": [
              "27"
            ]
          },
          "metadata": {},
          "execution_count": 21
        }
      ]
    },
    {
      "cell_type": "markdown",
      "source": [
        "# Manipulando elementos de um dicionário"
      ],
      "metadata": {
        "id": "S0J4snUzDFKk"
      }
    },
    {
      "cell_type": "markdown",
      "source": [
        "## Inserindo elementos"
      ],
      "metadata": {
        "id": "6PjH9s1TDTBz"
      }
    },
    {
      "cell_type": "code",
      "source": [
        "dados"
      ],
      "metadata": {
        "colab": {
          "base_uri": "https://localhost:8080/"
        },
        "id": "2u5Yz_DMD8PU",
        "outputId": "5a4d3b17-5beb-43f2-9f46-58861b2b9c89"
      },
      "execution_count": 22,
      "outputs": [
        {
          "output_type": "execute_result",
          "data": {
            "text/plain": [
              "{'nome': 'Mariana',\n",
              " 'idade': 27,\n",
              " 'estado': 'Minas Gerais',\n",
              " 'cidade': 'Belo Horizonte'}"
            ]
          },
          "metadata": {},
          "execution_count": 22
        }
      ]
    },
    {
      "cell_type": "code",
      "source": [
        "dados['idade']"
      ],
      "metadata": {
        "colab": {
          "base_uri": "https://localhost:8080/"
        },
        "id": "lUYWyir1yhe3",
        "outputId": "3bef0f4b-8ee3-4c63-aa18-fc22653d3c3f"
      },
      "execution_count": 23,
      "outputs": [
        {
          "output_type": "execute_result",
          "data": {
            "text/plain": [
              "27"
            ]
          },
          "metadata": {},
          "execution_count": 23
        }
      ]
    },
    {
      "cell_type": "code",
      "source": [
        "dados['nacionalidade'] = 'brasileira'"
      ],
      "metadata": {
        "id": "gjCVN55EKAfn"
      },
      "execution_count": 24,
      "outputs": []
    },
    {
      "cell_type": "code",
      "source": [
        "dados"
      ],
      "metadata": {
        "colab": {
          "base_uri": "https://localhost:8080/"
        },
        "id": "bhrhHyHnKOVR",
        "outputId": "e1261330-1b48-4ba0-e1d0-1f556c5272fb"
      },
      "execution_count": 25,
      "outputs": [
        {
          "output_type": "execute_result",
          "data": {
            "text/plain": [
              "{'nome': 'Mariana',\n",
              " 'idade': 27,\n",
              " 'estado': 'Minas Gerais',\n",
              " 'cidade': 'Belo Horizonte',\n",
              " 'nacionalidade': 'brasileira'}"
            ]
          },
          "metadata": {},
          "execution_count": 25
        }
      ]
    },
    {
      "cell_type": "code",
      "source": [
        "dados_numericos"
      ],
      "metadata": {
        "colab": {
          "base_uri": "https://localhost:8080/"
        },
        "id": "_v1x3UkCKRSW",
        "outputId": "e5588317-29f4-4714-b513-11c8f52fd0d7"
      },
      "execution_count": 26,
      "outputs": [
        {
          "output_type": "execute_result",
          "data": {
            "text/plain": [
              "{1: 'número um', 2: 'número dois', 3: 'número três'}"
            ]
          },
          "metadata": {},
          "execution_count": 26
        }
      ]
    },
    {
      "cell_type": "code",
      "source": [
        "dados_numericos[4] = 'número 4'"
      ],
      "metadata": {
        "id": "OcOwz6C4KTMy"
      },
      "execution_count": 27,
      "outputs": []
    },
    {
      "cell_type": "code",
      "source": [
        "dados_numericos"
      ],
      "metadata": {
        "colab": {
          "base_uri": "https://localhost:8080/"
        },
        "id": "uq_mcUaTKeu-",
        "outputId": "155af7ab-37e5-497b-c14f-598723ac168f"
      },
      "execution_count": 28,
      "outputs": [
        {
          "output_type": "execute_result",
          "data": {
            "text/plain": [
              "{1: 'número um', 2: 'número dois', 3: 'número três', 4: 'número 4'}"
            ]
          },
          "metadata": {},
          "execution_count": 28
        }
      ]
    },
    {
      "cell_type": "markdown",
      "source": [
        "## Atualizando elementos"
      ],
      "metadata": {
        "id": "OMkBh_UVD8sY"
      }
    },
    {
      "cell_type": "code",
      "source": [
        "dados"
      ],
      "metadata": {
        "colab": {
          "base_uri": "https://localhost:8080/"
        },
        "id": "A579gdL2D-mZ",
        "outputId": "b7b009f3-3b40-46e4-b670-912f3a94ee2a"
      },
      "execution_count": 29,
      "outputs": [
        {
          "output_type": "execute_result",
          "data": {
            "text/plain": [
              "{'nome': 'Mariana',\n",
              " 'idade': 27,\n",
              " 'estado': 'Minas Gerais',\n",
              " 'cidade': 'Belo Horizonte',\n",
              " 'nacionalidade': 'brasileira'}"
            ]
          },
          "metadata": {},
          "execution_count": 29
        }
      ]
    },
    {
      "cell_type": "code",
      "source": [
        "dados['idade'] = 33"
      ],
      "metadata": {
        "id": "kcivwaw4KtA-"
      },
      "execution_count": 30,
      "outputs": []
    },
    {
      "cell_type": "code",
      "source": [
        "dados"
      ],
      "metadata": {
        "colab": {
          "base_uri": "https://localhost:8080/"
        },
        "id": "Q3pEQ4yJK2F_",
        "outputId": "1f0251d4-95f4-4f07-fd74-a945682c5f63"
      },
      "execution_count": 31,
      "outputs": [
        {
          "output_type": "execute_result",
          "data": {
            "text/plain": [
              "{'nome': 'Mariana',\n",
              " 'idade': 33,\n",
              " 'estado': 'Minas Gerais',\n",
              " 'cidade': 'Belo Horizonte',\n",
              " 'nacionalidade': 'brasileira'}"
            ]
          },
          "metadata": {},
          "execution_count": 31
        }
      ]
    },
    {
      "cell_type": "code",
      "source": [
        "dados['cidade'] = 'Juiz de Fora'"
      ],
      "metadata": {
        "id": "hg8KyWlTK7hE"
      },
      "execution_count": 32,
      "outputs": []
    },
    {
      "cell_type": "code",
      "source": [
        "dados"
      ],
      "metadata": {
        "colab": {
          "base_uri": "https://localhost:8080/"
        },
        "id": "JTxGM6BEK__p",
        "outputId": "5a032508-d610-40bb-8583-97638eabcf19"
      },
      "execution_count": 33,
      "outputs": [
        {
          "output_type": "execute_result",
          "data": {
            "text/plain": [
              "{'nome': 'Mariana',\n",
              " 'idade': 33,\n",
              " 'estado': 'Minas Gerais',\n",
              " 'cidade': 'Juiz de Fora',\n",
              " 'nacionalidade': 'brasileira'}"
            ]
          },
          "metadata": {},
          "execution_count": 33
        }
      ]
    },
    {
      "cell_type": "markdown",
      "source": [
        "## Deletando elementos"
      ],
      "metadata": {
        "id": "19u7hPNhD-0E"
      }
    },
    {
      "cell_type": "markdown",
      "source": [
        "### Método `pop()`"
      ],
      "metadata": {
        "id": "4Fu1H2-8ECDI"
      }
    },
    {
      "cell_type": "code",
      "source": [
        "dados"
      ],
      "metadata": {
        "colab": {
          "base_uri": "https://localhost:8080/"
        },
        "id": "TTqDiUj-EFtj",
        "outputId": "08c84ad1-7964-41a3-b922-6937381b01fe"
      },
      "execution_count": 34,
      "outputs": [
        {
          "output_type": "execute_result",
          "data": {
            "text/plain": [
              "{'nome': 'Mariana',\n",
              " 'idade': 33,\n",
              " 'estado': 'Minas Gerais',\n",
              " 'cidade': 'Juiz de Fora',\n",
              " 'nacionalidade': 'brasileira'}"
            ]
          },
          "metadata": {},
          "execution_count": 34
        }
      ]
    },
    {
      "cell_type": "code",
      "source": [
        "dados.pop('nacionalidade')"
      ],
      "metadata": {
        "colab": {
          "base_uri": "https://localhost:8080/",
          "height": 36
        },
        "id": "5NTJHtiaLF4Q",
        "outputId": "3e0a10e3-4995-4168-899f-4d1e82c8b418"
      },
      "execution_count": 35,
      "outputs": [
        {
          "output_type": "execute_result",
          "data": {
            "text/plain": [
              "'brasileira'"
            ],
            "application/vnd.google.colaboratory.intrinsic+json": {
              "type": "string"
            }
          },
          "metadata": {},
          "execution_count": 35
        }
      ]
    },
    {
      "cell_type": "code",
      "source": [
        "dados"
      ],
      "metadata": {
        "colab": {
          "base_uri": "https://localhost:8080/"
        },
        "id": "leRWKG-ALSN7",
        "outputId": "e5d52fe7-b500-40a2-c5ea-0d7d0baf981e"
      },
      "execution_count": 36,
      "outputs": [
        {
          "output_type": "execute_result",
          "data": {
            "text/plain": [
              "{'nome': 'Mariana',\n",
              " 'idade': 33,\n",
              " 'estado': 'Minas Gerais',\n",
              " 'cidade': 'Juiz de Fora'}"
            ]
          },
          "metadata": {},
          "execution_count": 36
        }
      ]
    },
    {
      "cell_type": "markdown",
      "source": [
        "### Método `popitem()`"
      ],
      "metadata": {
        "id": "dfhZ7lz7EF9j"
      }
    },
    {
      "cell_type": "code",
      "source": [
        "print(dados)"
      ],
      "metadata": {
        "colab": {
          "base_uri": "https://localhost:8080/"
        },
        "id": "nwFbc5fjEKR5",
        "outputId": "0eef80ac-62e4-4e82-e738-7eb10fdd3d1c"
      },
      "execution_count": 37,
      "outputs": [
        {
          "output_type": "stream",
          "name": "stdout",
          "text": [
            "{'nome': 'Mariana', 'idade': 33, 'estado': 'Minas Gerais', 'cidade': 'Juiz de Fora'}\n"
          ]
        }
      ]
    },
    {
      "cell_type": "code",
      "source": [
        "dados.popitem()"
      ],
      "metadata": {
        "colab": {
          "base_uri": "https://localhost:8080/"
        },
        "id": "Lx6jyV9bNL75",
        "outputId": "0a858cb6-b4e1-4d28-cb4a-67b27198ee17"
      },
      "execution_count": 38,
      "outputs": [
        {
          "output_type": "execute_result",
          "data": {
            "text/plain": [
              "('cidade', 'Juiz de Fora')"
            ]
          },
          "metadata": {},
          "execution_count": 38
        }
      ]
    },
    {
      "cell_type": "code",
      "source": [
        "print(dados)"
      ],
      "metadata": {
        "colab": {
          "base_uri": "https://localhost:8080/"
        },
        "id": "EDH8qVdVNRQO",
        "outputId": "ae3d5678-fd51-4252-ad00-e07dc808d328"
      },
      "execution_count": 39,
      "outputs": [
        {
          "output_type": "stream",
          "name": "stdout",
          "text": [
            "{'nome': 'Mariana', 'idade': 33, 'estado': 'Minas Gerais'}\n"
          ]
        }
      ]
    },
    {
      "cell_type": "markdown",
      "source": [
        "### Comando `del`"
      ],
      "metadata": {
        "id": "_yp9Doe1EKkf"
      }
    },
    {
      "cell_type": "code",
      "source": [
        "dados"
      ],
      "metadata": {
        "colab": {
          "base_uri": "https://localhost:8080/"
        },
        "id": "cikmcy_cEPgK",
        "outputId": "45d9fbf7-5d95-4d1a-ee83-21f3e95d6e99"
      },
      "execution_count": 40,
      "outputs": [
        {
          "output_type": "execute_result",
          "data": {
            "text/plain": [
              "{'nome': 'Mariana', 'idade': 33, 'estado': 'Minas Gerais'}"
            ]
          },
          "metadata": {},
          "execution_count": 40
        }
      ]
    },
    {
      "cell_type": "code",
      "source": [
        "del dados['idade']"
      ],
      "metadata": {
        "id": "5DxogFLJNXTa"
      },
      "execution_count": 41,
      "outputs": []
    },
    {
      "cell_type": "code",
      "source": [
        "dados"
      ],
      "metadata": {
        "colab": {
          "base_uri": "https://localhost:8080/"
        },
        "id": "JYtvW1nbNa0B",
        "outputId": "c2505bb3-5107-4306-cb0c-e91df6199616"
      },
      "execution_count": 42,
      "outputs": [
        {
          "output_type": "execute_result",
          "data": {
            "text/plain": [
              "{'nome': 'Mariana', 'estado': 'Minas Gerais'}"
            ]
          },
          "metadata": {},
          "execution_count": 42
        }
      ]
    },
    {
      "cell_type": "markdown",
      "source": [
        "### Método `clear()`"
      ],
      "metadata": {
        "id": "hoUFyc39EP6f"
      }
    },
    {
      "cell_type": "code",
      "source": [
        "dados.clear()"
      ],
      "metadata": {
        "id": "wPHAoXjLIxAj"
      },
      "execution_count": 43,
      "outputs": []
    },
    {
      "cell_type": "code",
      "source": [
        "dados"
      ],
      "metadata": {
        "colab": {
          "base_uri": "https://localhost:8080/"
        },
        "id": "99C5KCwHNglT",
        "outputId": "8366d835-e276-46e7-f84f-13f60775200e"
      },
      "execution_count": 44,
      "outputs": [
        {
          "output_type": "execute_result",
          "data": {
            "text/plain": [
              "{}"
            ]
          },
          "metadata": {},
          "execution_count": 44
        }
      ]
    },
    {
      "cell_type": "markdown",
      "source": [
        "# Dicionários podem ser heterogêneos"
      ],
      "metadata": {
        "id": "1beFgJ5LNhTL"
      }
    },
    {
      "cell_type": "code",
      "source": [
        "dados = {\n",
        "    'nome' : 'Vinicius',\n",
        "    'status': True,\n",
        "    'notas': [10, 9.8, 7.7, 4.9]\n",
        "}"
      ],
      "metadata": {
        "id": "rune2Z-6THJb"
      },
      "execution_count": 45,
      "outputs": []
    },
    {
      "cell_type": "code",
      "source": [
        "print(dados)"
      ],
      "metadata": {
        "colab": {
          "base_uri": "https://localhost:8080/"
        },
        "id": "Aw6Lo0D-VQ9V",
        "outputId": "47cbaf90-4365-4dfa-a2a4-030d3771b185"
      },
      "execution_count": 46,
      "outputs": [
        {
          "output_type": "stream",
          "name": "stdout",
          "text": [
            "{'nome': 'Vinicius', 'status': True, 'notas': [10, 9.8, 7.7, 4.9]}\n"
          ]
        }
      ]
    },
    {
      "cell_type": "code",
      "source": [
        "dados['nome']"
      ],
      "metadata": {
        "colab": {
          "base_uri": "https://localhost:8080/",
          "height": 36
        },
        "id": "G0dR68xCVZUh",
        "outputId": "8727c720-8c33-42a4-fb54-f69f8fad7179"
      },
      "execution_count": 47,
      "outputs": [
        {
          "output_type": "execute_result",
          "data": {
            "text/plain": [
              "'Vinicius'"
            ],
            "application/vnd.google.colaboratory.intrinsic+json": {
              "type": "string"
            }
          },
          "metadata": {},
          "execution_count": 47
        }
      ]
    },
    {
      "cell_type": "code",
      "source": [
        "dados['status']"
      ],
      "metadata": {
        "colab": {
          "base_uri": "https://localhost:8080/"
        },
        "id": "-n0I2ChvVcFX",
        "outputId": "a2a79356-da3b-4352-c903-52f8f071f8b9"
      },
      "execution_count": 48,
      "outputs": [
        {
          "output_type": "execute_result",
          "data": {
            "text/plain": [
              "True"
            ]
          },
          "metadata": {},
          "execution_count": 48
        }
      ]
    },
    {
      "cell_type": "code",
      "source": [
        "dados['notas']"
      ],
      "metadata": {
        "colab": {
          "base_uri": "https://localhost:8080/"
        },
        "id": "0SYDE92SVdw8",
        "outputId": "efd767ee-ca3d-49a1-fa15-85679aaf7e15"
      },
      "execution_count": 49,
      "outputs": [
        {
          "output_type": "execute_result",
          "data": {
            "text/plain": [
              "[10, 9.8, 7.7, 4.9]"
            ]
          },
          "metadata": {},
          "execution_count": 49
        }
      ]
    },
    {
      "cell_type": "code",
      "source": [
        "dados['notas'][-1]"
      ],
      "metadata": {
        "colab": {
          "base_uri": "https://localhost:8080/"
        },
        "id": "TZK0AhsSVgqh",
        "outputId": "8d9ce460-4d97-4339-8513-2e5fae078255"
      },
      "execution_count": null,
      "outputs": [
        {
          "output_type": "execute_result",
          "data": {
            "text/plain": [
              "4.9"
            ]
          },
          "metadata": {},
          "execution_count": 133
        }
      ]
    },
    {
      "cell_type": "code",
      "source": [
        "dados['notas'][0]"
      ],
      "metadata": {
        "colab": {
          "base_uri": "https://localhost:8080/"
        },
        "id": "LhKjcZjXVmvI",
        "outputId": "d55551b9-12c9-402d-b2c2-203b095237d0"
      },
      "execution_count": null,
      "outputs": [
        {
          "output_type": "execute_result",
          "data": {
            "text/plain": [
              "10"
            ]
          },
          "metadata": {},
          "execution_count": 134
        }
      ]
    },
    {
      "cell_type": "code",
      "source": [
        "dados['notas'][1]"
      ],
      "metadata": {
        "colab": {
          "base_uri": "https://localhost:8080/"
        },
        "id": "K1uOCSa6VxVw",
        "outputId": "697aaf8a-8440-422d-9e83-a70f1b53e754"
      },
      "execution_count": null,
      "outputs": [
        {
          "output_type": "execute_result",
          "data": {
            "text/plain": [
              "9.8"
            ]
          },
          "metadata": {},
          "execution_count": 135
        }
      ]
    }
  ]
}