{
  "nbformat": 4,
  "nbformat_minor": 0,
  "metadata": {
    "colab": {
      "provenance": [],
      "include_colab_link": true
    },
    "kernelspec": {
      "name": "python3",
      "display_name": "Python 3"
    },
    "language_info": {
      "name": "python"
    }
  },
  "cells": [
    {
      "cell_type": "markdown",
      "metadata": {
        "id": "view-in-github",
        "colab_type": "text"
      },
      "source": [
        "<a href=\"https://colab.research.google.com/github/daniloMenesesEsme/Projeto01/blob/main/Sets_(conjuntos).ipynb\" target=\"_parent\"><img src=\"https://colab.research.google.com/assets/colab-badge.svg\" alt=\"Open In Colab\"/></a>"
      ]
    },
    {
      "cell_type": "markdown",
      "source": [
        "# Sets (conjuntos)\n",
        "\n",
        "São estruturas de dados destinadas a armazenar um conjunto de dados distintos. Suas principais características são:\n",
        "\n",
        "- set = {elemento1, elemento2, elemento3....}\n",
        "- são mutáveis\n",
        "- elementos são desordenados\n",
        "- elementos não possuem índices\n",
        "- não podem conter elementos repetidos\n",
        "- permitem operações de conjuntos"
      ],
      "metadata": {
        "id": "9a3bNSYVd5xY"
      }
    },
    {
      "cell_type": "markdown",
      "source": [
        "# Criando um conjunto"
      ],
      "metadata": {
        "id": "zd5h2KOfd8qh"
      }
    },
    {
      "cell_type": "code",
      "source": [
        "conjunto1 = {1, 2, 3, 4, 5}"
      ],
      "metadata": {
        "id": "KZr41oLzey-e"
      },
      "execution_count": null,
      "outputs": []
    },
    {
      "cell_type": "code",
      "source": [
        "print(conjunto1)"
      ],
      "metadata": {
        "colab": {
          "base_uri": "https://localhost:8080/"
        },
        "id": "RAWAykWdiNpT",
        "outputId": "f99d2ae3-ceaf-446b-eb14-0b662ef730ad"
      },
      "execution_count": null,
      "outputs": [
        {
          "output_type": "stream",
          "name": "stdout",
          "text": [
            "{1, 2, 3, 4, 5}\n"
          ]
        }
      ]
    },
    {
      "cell_type": "code",
      "source": [
        "type(conjunto1)"
      ],
      "metadata": {
        "colab": {
          "base_uri": "https://localhost:8080/"
        },
        "id": "LBwzdp6IiPsK",
        "outputId": "61c79316-6fc1-4f1c-f5d9-3b9c74822ada"
      },
      "execution_count": null,
      "outputs": [
        {
          "output_type": "execute_result",
          "data": {
            "text/plain": [
              "set"
            ]
          },
          "metadata": {},
          "execution_count": 23
        }
      ]
    },
    {
      "cell_type": "code",
      "source": [
        "conjunto2 = {1, 2, 2, 2, 3, 4, 5, 6}"
      ],
      "metadata": {
        "id": "strfeqpQiTBm"
      },
      "execution_count": null,
      "outputs": []
    },
    {
      "cell_type": "code",
      "source": [
        "print(conjunto2)"
      ],
      "metadata": {
        "colab": {
          "base_uri": "https://localhost:8080/"
        },
        "id": "M4hGbd0wiZb0",
        "outputId": "d525678e-51e7-41ce-bb1b-942ef4be6c2b"
      },
      "execution_count": null,
      "outputs": [
        {
          "output_type": "stream",
          "name": "stdout",
          "text": [
            "{1, 2, 3, 4, 5, 6}\n"
          ]
        }
      ]
    },
    {
      "cell_type": "markdown",
      "source": [
        "# Manipulando elementos de um conjunto"
      ],
      "metadata": {
        "id": "MN63Xis0fXSZ"
      }
    },
    {
      "cell_type": "markdown",
      "source": [
        "## Método `add()`\n",
        "\n",
        "Adiciona um elemento ao conjunto."
      ],
      "metadata": {
        "id": "3RAEAkddfh17"
      }
    },
    {
      "cell_type": "code",
      "source": [
        "conjunto1"
      ],
      "metadata": {
        "colab": {
          "base_uri": "https://localhost:8080/"
        },
        "id": "bLlafjcPfpJE",
        "outputId": "2077af7a-1cd1-42c9-b51e-830fa9c61ebe"
      },
      "execution_count": null,
      "outputs": [
        {
          "output_type": "execute_result",
          "data": {
            "text/plain": [
              "{1, 2, 3, 4, 5}"
            ]
          },
          "metadata": {},
          "execution_count": 26
        }
      ]
    },
    {
      "cell_type": "code",
      "source": [
        "conjunto1.add(10)"
      ],
      "metadata": {
        "id": "W1IFQxHGiwPp"
      },
      "execution_count": null,
      "outputs": []
    },
    {
      "cell_type": "code",
      "source": [
        "conjunto1"
      ],
      "metadata": {
        "colab": {
          "base_uri": "https://localhost:8080/"
        },
        "id": "KTdQgy5Qi0jy",
        "outputId": "8d520d2e-f882-4c55-f89f-5092e0d099d3"
      },
      "execution_count": null,
      "outputs": [
        {
          "output_type": "execute_result",
          "data": {
            "text/plain": [
              "{1, 2, 3, 4, 5, 10}"
            ]
          },
          "metadata": {},
          "execution_count": 28
        }
      ]
    },
    {
      "cell_type": "markdown",
      "source": [
        "## Método `remove()`\n",
        "\n",
        "Remove um elemento de um conjunto."
      ],
      "metadata": {
        "id": "ZFwxqs_EfpdM"
      }
    },
    {
      "cell_type": "code",
      "source": [
        "conjunto2"
      ],
      "metadata": {
        "colab": {
          "base_uri": "https://localhost:8080/"
        },
        "id": "MH5DUoiEfvZ8",
        "outputId": "dcd1b91e-1f97-45fd-e0d7-4adf35084884"
      },
      "execution_count": null,
      "outputs": [
        {
          "output_type": "execute_result",
          "data": {
            "text/plain": [
              "{1, 2, 3, 4, 5, 6}"
            ]
          },
          "metadata": {},
          "execution_count": 29
        }
      ]
    },
    {
      "cell_type": "code",
      "source": [
        "conjunto2.remove(5)"
      ],
      "metadata": {
        "id": "wRqLq5qRi5RT"
      },
      "execution_count": null,
      "outputs": []
    },
    {
      "cell_type": "code",
      "source": [
        "conjunto2"
      ],
      "metadata": {
        "colab": {
          "base_uri": "https://localhost:8080/"
        },
        "id": "gYtpLLxti9DI",
        "outputId": "8874dfff-abff-4211-e01a-bbf37ad17e72"
      },
      "execution_count": null,
      "outputs": [
        {
          "output_type": "execute_result",
          "data": {
            "text/plain": [
              "{1, 2, 3, 4, 6}"
            ]
          },
          "metadata": {},
          "execution_count": 31
        }
      ]
    },
    {
      "cell_type": "markdown",
      "source": [
        "# Conuntos não possuem índices"
      ],
      "metadata": {
        "id": "oLEjjrxIjAHQ"
      }
    },
    {
      "cell_type": "code",
      "source": [
        "conjunto1"
      ],
      "metadata": {
        "colab": {
          "base_uri": "https://localhost:8080/"
        },
        "id": "HsKb4R_bjDPW",
        "outputId": "0a758d83-6e61-49ff-ae3e-6ae076113d79"
      },
      "execution_count": null,
      "outputs": [
        {
          "output_type": "execute_result",
          "data": {
            "text/plain": [
              "{1, 2, 3, 4, 5, 10}"
            ]
          },
          "metadata": {},
          "execution_count": 32
        }
      ]
    },
    {
      "cell_type": "code",
      "source": [
        "conjunto1[0]"
      ],
      "metadata": {
        "colab": {
          "base_uri": "https://localhost:8080/",
          "height": 170
        },
        "id": "MLtHe75djEtE",
        "outputId": "153141a1-dddd-43a4-850f-04436aff35e4"
      },
      "execution_count": null,
      "outputs": [
        {
          "output_type": "error",
          "ename": "TypeError",
          "evalue": "ignored",
          "traceback": [
            "\u001b[0;31m---------------------------------------------------------------------------\u001b[0m",
            "\u001b[0;31mTypeError\u001b[0m                                 Traceback (most recent call last)",
            "\u001b[0;32m<ipython-input-33-18d03ef07241>\u001b[0m in \u001b[0;36m<module>\u001b[0;34m()\u001b[0m\n\u001b[0;32m----> 1\u001b[0;31m \u001b[0mconjunto1\u001b[0m\u001b[0;34m[\u001b[0m\u001b[0;36m0\u001b[0m\u001b[0;34m]\u001b[0m\u001b[0;34m\u001b[0m\u001b[0;34m\u001b[0m\u001b[0m\n\u001b[0m",
            "\u001b[0;31mTypeError\u001b[0m: 'set' object is not subscriptable"
          ]
        }
      ]
    },
    {
      "cell_type": "markdown",
      "source": [
        "# Algumas operações de conjunto"
      ],
      "metadata": {
        "id": "TITj0Dt7fwrK"
      }
    },
    {
      "cell_type": "markdown",
      "source": [
        "## União"
      ],
      "metadata": {
        "id": "Ob-e0THYfzh-"
      }
    },
    {
      "cell_type": "code",
      "source": [
        "conjunto1 = {1, 2, 3}\n",
        "conjunto2 = {4, 2, 5}\n",
        "conjunto3 = {6, 7, 8}\n",
        "conjunto4 = {9, 10, 11}"
      ],
      "metadata": {
        "id": "rPLKFqX8gNvz"
      },
      "execution_count": 7,
      "outputs": []
    },
    {
      "cell_type": "code",
      "source": [
        "conjunto1.union(conjunto2, conjunto3, conjunto4)"
      ],
      "metadata": {
        "colab": {
          "base_uri": "https://localhost:8080/"
        },
        "id": "DMOPO4xUjTey",
        "outputId": "2a80a525-fed3-42b6-c208-a62ebd793394"
      },
      "execution_count": 9,
      "outputs": [
        {
          "output_type": "execute_result",
          "data": {
            "text/plain": [
              "{1, 2, 3, 4, 5, 6, 7, 8, 9, 10, 11}"
            ]
          },
          "metadata": {},
          "execution_count": 9
        }
      ]
    },
    {
      "cell_type": "markdown",
      "source": [
        "## Interseção"
      ],
      "metadata": {
        "id": "XghOXXpSgJeJ"
      }
    },
    {
      "cell_type": "code",
      "source": [
        "conjunto1.intersection(conjunto2)"
      ],
      "metadata": {
        "colab": {
          "base_uri": "https://localhost:8080/"
        },
        "id": "-EDvCTHTjipz",
        "outputId": "f407e6a6-39d1-41a0-85ae-e7c0af39b1a3"
      },
      "execution_count": 11,
      "outputs": [
        {
          "output_type": "execute_result",
          "data": {
            "text/plain": [
              "{2}"
            ]
          },
          "metadata": {},
          "execution_count": 11
        }
      ]
    },
    {
      "cell_type": "code",
      "source": [],
      "metadata": {
        "id": "vVvHxAXYjpMw"
      },
      "execution_count": null,
      "outputs": []
    }
  ]
}