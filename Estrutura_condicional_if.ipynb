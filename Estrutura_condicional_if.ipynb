{
  "nbformat": 4,
  "nbformat_minor": 0,
  "metadata": {
    "colab": {
      "provenance": [],
      "include_colab_link": true
    },
    "kernelspec": {
      "name": "python3",
      "display_name": "Python 3"
    },
    "language_info": {
      "name": "python"
    }
  },
  "cells": [
    {
      "cell_type": "markdown",
      "metadata": {
        "id": "view-in-github",
        "colab_type": "text"
      },
      "source": [
        "<a href=\"https://colab.research.google.com/github/daniloMenesesEsme/Projeto01/blob/main/Estrutura_condicional_if.ipynb\" target=\"_parent\"><img src=\"https://colab.research.google.com/assets/colab-badge.svg\" alt=\"Open In Colab\"/></a>"
      ]
    },
    {
      "cell_type": "markdown",
      "source": [
        "# Estrutura condicional **if**\n",
        "\n",
        "Executa ou não um comando ou um bloco de comandos de acordo com o resultado de um teste condicional.\n",
        "\n",
        "- if significa \"se\"\n",
        "- testes lógicos podem utilizar os operadores lógicos (and, or e not)\n",
        "- estrutura condicional pode ser simples ou composta (else - \"senão\")\n",
        "\n"
      ],
      "metadata": {
        "id": "S9ImDEJSuctO"
      }
    },
    {
      "cell_type": "code",
      "source": [
        "idade = 20"
      ],
      "metadata": {
        "id": "qiWXyHI4vj-r"
      },
      "execution_count": null,
      "outputs": []
    },
    {
      "cell_type": "code",
      "source": [
        "if idade >= 18:\n",
        "  print('É maior de idade.')"
      ],
      "metadata": {
        "id": "ntjjepIbwrcR"
      },
      "execution_count": null,
      "outputs": []
    },
    {
      "cell_type": "code",
      "source": [
        "if idade >= 18:\n",
        "  print('É maior de idade.')\n",
        "else:\n",
        "  print('Não é maior de idade.')"
      ],
      "metadata": {
        "colab": {
          "base_uri": "https://localhost:8080/"
        },
        "id": "YA1bifryw05H",
        "outputId": "f18a8226-e92d-4274-a0d7-300767d25353"
      },
      "execution_count": null,
      "outputs": [
        {
          "output_type": "stream",
          "name": "stdout",
          "text": [
            "É maior de idade.\n"
          ]
        }
      ]
    },
    {
      "cell_type": "code",
      "source": [
        "idade = 20\n",
        "tem_carteira_motorista = False"
      ],
      "metadata": {
        "id": "wXKnfvnMxWVQ"
      },
      "execution_count": null,
      "outputs": []
    },
    {
      "cell_type": "code",
      "source": [
        "if idade >=18 and tem_carteira_motorista == True:\n",
        "  print('Pessoa pode dirigir!')\n",
        "else:\n",
        "  print('Pessoa não pode dirigir!')"
      ],
      "metadata": {
        "colab": {
          "base_uri": "https://localhost:8080/"
        },
        "id": "4jt-QrmVxqz7",
        "outputId": "8ded3849-370d-4434-b607-531f66cf66d2"
      },
      "execution_count": null,
      "outputs": [
        {
          "output_type": "stream",
          "name": "stdout",
          "text": [
            "Pessoa não pode dirigir!\n"
          ]
        }
      ]
    },
    {
      "cell_type": "code",
      "source": [
        "False == True"
      ],
      "metadata": {
        "colab": {
          "base_uri": "https://localhost:8080/"
        },
        "id": "Q4ux0vQAyRKi",
        "outputId": "3601ef84-aedd-44f9-e4b9-b0497ad0e715"
      },
      "execution_count": null,
      "outputs": [
        {
          "output_type": "execute_result",
          "data": {
            "text/plain": [
              "False"
            ]
          },
          "metadata": {},
          "execution_count": 23
        }
      ]
    },
    {
      "cell_type": "code",
      "source": [],
      "metadata": {
        "id": "mqwDk-DI3kzM"
      },
      "execution_count": null,
      "outputs": []
    }
  ]
}