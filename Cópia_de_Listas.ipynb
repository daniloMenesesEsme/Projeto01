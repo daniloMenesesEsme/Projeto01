{
  "nbformat": 4,
  "nbformat_minor": 0,
  "metadata": {
    "colab": {
      "provenance": [],
      "include_colab_link": true
    },
    "kernelspec": {
      "name": "python3",
      "display_name": "Python 3"
    },
    "language_info": {
      "name": "python"
    }
  },
  "cells": [
    {
      "cell_type": "markdown",
      "metadata": {
        "id": "view-in-github",
        "colab_type": "text"
      },
      "source": [
        "<a href=\"https://colab.research.google.com/github/daniloMenesesEsme/Projeto01/blob/main/C%C3%B3pia_de_Listas.ipynb\" target=\"_parent\"><img src=\"https://colab.research.google.com/assets/colab-badge.svg\" alt=\"Open In Colab\"/></a>"
      ]
    },
    {
      "cell_type": "markdown",
      "source": [
        "# Listas\n",
        "\n",
        "Uma lista é uma estrutura de dados composta por itens organizados de forma linear, na qual cada um pode ser acessado a partir de um índice, que representa sua posição na coleção (iniciando em zero).\n",
        "\n",
        "- são mutáveis\n",
        "- podem conter tipos diferentes de objetos\n"
      ],
      "metadata": {
        "id": "q3rDrCegh2qW"
      }
    },
    {
      "cell_type": "code",
      "source": [],
      "metadata": {
        "id": "wouUln_EvHRa"
      },
      "execution_count": null,
      "outputs": []
    },
    {
      "cell_type": "markdown",
      "source": [
        "## Criando uma lista"
      ],
      "metadata": {
        "id": "LPT6FdX7iW4g"
      }
    },
    {
      "cell_type": "code",
      "source": [
        "lista = [ 'Vinicius', 'Gabriel', 'Lucas' ]"
      ],
      "metadata": {
        "id": "K3sbBXK0iZgC"
      },
      "execution_count": null,
      "outputs": []
    },
    {
      "cell_type": "code",
      "source": [
        "type(lista)"
      ],
      "metadata": {
        "colab": {
          "base_uri": "https://localhost:8080/"
        },
        "id": "zPKnIscXmQjt",
        "outputId": "f7edf49d-b553-4f04-95c8-30760590f332"
      },
      "execution_count": null,
      "outputs": [
        {
          "output_type": "execute_result",
          "data": {
            "text/plain": [
              "list"
            ]
          },
          "metadata": {},
          "execution_count": 3
        }
      ]
    },
    {
      "cell_type": "code",
      "source": [
        "print(lista)"
      ],
      "metadata": {
        "colab": {
          "base_uri": "https://localhost:8080/"
        },
        "id": "G5pOt3TjmWFj",
        "outputId": "22084959-f0e8-455c-9f11-6737c74cfe78"
      },
      "execution_count": null,
      "outputs": [
        {
          "output_type": "stream",
          "name": "stdout",
          "text": [
            "['Vinicius', 'Gabriel', 'Lucas']\n"
          ]
        }
      ]
    },
    {
      "cell_type": "markdown",
      "source": [
        "## Lista com tipos de objetos diferentes"
      ],
      "metadata": {
        "id": "mIvi5teJief7"
      }
    },
    {
      "cell_type": "code",
      "source": [
        "lista = [10, True, 'Vinicius', 123.45, 'Python']"
      ],
      "metadata": {
        "id": "j02AxIiKihw4"
      },
      "execution_count": null,
      "outputs": []
    },
    {
      "cell_type": "code",
      "source": [
        "print(lista)"
      ],
      "metadata": {
        "colab": {
          "base_uri": "https://localhost:8080/"
        },
        "id": "9Nk83Eixmjo6",
        "outputId": "e173c047-06cb-42b7-962a-2d45a8ce46ae"
      },
      "execution_count": null,
      "outputs": [
        {
          "output_type": "stream",
          "name": "stdout",
          "text": [
            "[10, True, 'Vinicius', 123.45, 'Python']\n"
          ]
        }
      ]
    },
    {
      "cell_type": "code",
      "source": [
        "type(lista)"
      ],
      "metadata": {
        "colab": {
          "base_uri": "https://localhost:8080/"
        },
        "id": "02iKYIa4mn97",
        "outputId": "d451d7fd-acd5-4bde-bff4-2c5576a9879b"
      },
      "execution_count": null,
      "outputs": [
        {
          "output_type": "execute_result",
          "data": {
            "text/plain": [
              "list"
            ]
          },
          "metadata": {},
          "execution_count": 7
        }
      ]
    },
    {
      "cell_type": "code",
      "source": [
        "lista2 = [ 10, 'Vinicius', [1, 2, 3]   ]"
      ],
      "metadata": {
        "id": "PnC_iGPWmqlu"
      },
      "execution_count": null,
      "outputs": []
    },
    {
      "cell_type": "code",
      "source": [
        "type(lista2)"
      ],
      "metadata": {
        "colab": {
          "base_uri": "https://localhost:8080/"
        },
        "id": "mdQlOOoumxwK",
        "outputId": "4750aaa4-417e-4e14-cc6e-e85c655a9ca8"
      },
      "execution_count": null,
      "outputs": [
        {
          "output_type": "execute_result",
          "data": {
            "text/plain": [
              "list"
            ]
          },
          "metadata": {},
          "execution_count": 9
        }
      ]
    },
    {
      "cell_type": "markdown",
      "source": [
        "## Acessando elementos de uma lista pelo índice"
      ],
      "metadata": {
        "id": "q3tcnctKijT5"
      }
    },
    {
      "cell_type": "code",
      "source": [
        "print(lista)"
      ],
      "metadata": {
        "colab": {
          "base_uri": "https://localhost:8080/"
        },
        "id": "KI2ggl5Tip96",
        "outputId": "2dc53d23-ee0d-4bdb-8847-3c47d6203dd0"
      },
      "execution_count": null,
      "outputs": [
        {
          "output_type": "stream",
          "name": "stdout",
          "text": [
            "[10, True, 'Vinicius', 123.45, 'Python']\n"
          ]
        }
      ]
    },
    {
      "cell_type": "code",
      "source": [
        "lista[0]"
      ],
      "metadata": {
        "colab": {
          "base_uri": "https://localhost:8080/"
        },
        "id": "tyN5Qs0am-nA",
        "outputId": "d1f0906a-7bc5-47c2-8ba6-54cc81157e7b"
      },
      "execution_count": null,
      "outputs": [
        {
          "output_type": "execute_result",
          "data": {
            "text/plain": [
              "10"
            ]
          },
          "metadata": {},
          "execution_count": 11
        }
      ]
    },
    {
      "cell_type": "code",
      "source": [
        "lista[2]"
      ],
      "metadata": {
        "colab": {
          "base_uri": "https://localhost:8080/",
          "height": 35
        },
        "id": "ItM7PwzxnKFe",
        "outputId": "b822acb0-9b61-4613-989e-d858a101e49c"
      },
      "execution_count": null,
      "outputs": [
        {
          "output_type": "execute_result",
          "data": {
            "application/vnd.google.colaboratory.intrinsic+json": {
              "type": "string"
            },
            "text/plain": [
              "'Vinicius'"
            ]
          },
          "metadata": {},
          "execution_count": 12
        }
      ]
    },
    {
      "cell_type": "code",
      "source": [
        "lista[4]"
      ],
      "metadata": {
        "colab": {
          "base_uri": "https://localhost:8080/",
          "height": 35
        },
        "id": "gRhaatpMnOM3",
        "outputId": "58ab76c9-cb4b-41ef-e780-2c5633b9a7e9"
      },
      "execution_count": null,
      "outputs": [
        {
          "output_type": "execute_result",
          "data": {
            "application/vnd.google.colaboratory.intrinsic+json": {
              "type": "string"
            },
            "text/plain": [
              "'Python'"
            ]
          },
          "metadata": {},
          "execution_count": 13
        }
      ]
    },
    {
      "cell_type": "code",
      "source": [
        "lista[-1]"
      ],
      "metadata": {
        "colab": {
          "base_uri": "https://localhost:8080/",
          "height": 35
        },
        "id": "6aFiQYJonRCu",
        "outputId": "5c9ef55f-7e60-4f4a-d464-8c8fc02d83b3"
      },
      "execution_count": null,
      "outputs": [
        {
          "output_type": "execute_result",
          "data": {
            "application/vnd.google.colaboratory.intrinsic+json": {
              "type": "string"
            },
            "text/plain": [
              "'Python'"
            ]
          },
          "metadata": {},
          "execution_count": 14
        }
      ]
    },
    {
      "cell_type": "code",
      "source": [
        "lista[-2]"
      ],
      "metadata": {
        "colab": {
          "base_uri": "https://localhost:8080/"
        },
        "id": "VLRyv64znULs",
        "outputId": "fc99be73-5e05-46da-e4ac-55c9d158d504"
      },
      "execution_count": null,
      "outputs": [
        {
          "output_type": "execute_result",
          "data": {
            "text/plain": [
              "123.45"
            ]
          },
          "metadata": {},
          "execution_count": 15
        }
      ]
    },
    {
      "cell_type": "markdown",
      "source": [
        "### Acessando uma lista dentro de outra lista"
      ],
      "metadata": {
        "id": "o5kQUcrInVys"
      }
    },
    {
      "cell_type": "code",
      "source": [
        "lista2"
      ],
      "metadata": {
        "colab": {
          "base_uri": "https://localhost:8080/"
        },
        "id": "f44DZCQ9nb1V",
        "outputId": "e8a6d2e6-277e-4af7-9417-c95480451a7e"
      },
      "execution_count": null,
      "outputs": [
        {
          "output_type": "execute_result",
          "data": {
            "text/plain": [
              "[10, 'Vinicius', [1, 2, 3]]"
            ]
          },
          "metadata": {},
          "execution_count": 16
        }
      ]
    },
    {
      "cell_type": "code",
      "source": [
        "lista2[2][1]"
      ],
      "metadata": {
        "colab": {
          "base_uri": "https://localhost:8080/"
        },
        "id": "YkIiSu_WneCN",
        "outputId": "c1a6a40e-4938-4ad4-dd68-1fdcba0650e1"
      },
      "execution_count": null,
      "outputs": [
        {
          "output_type": "execute_result",
          "data": {
            "text/plain": [
              "2"
            ]
          },
          "metadata": {},
          "execution_count": 17
        }
      ]
    },
    {
      "cell_type": "code",
      "source": [
        "lista2[2][2]"
      ],
      "metadata": {
        "colab": {
          "base_uri": "https://localhost:8080/"
        },
        "id": "TX0534OioOeJ",
        "outputId": "fd62e51a-8c85-4930-9672-ae6a0056c0d9"
      },
      "execution_count": null,
      "outputs": [
        {
          "output_type": "execute_result",
          "data": {
            "text/plain": [
              "3"
            ]
          },
          "metadata": {},
          "execution_count": 18
        }
      ]
    },
    {
      "cell_type": "markdown",
      "source": [
        "## Utilizando slicing (fatiamento) em uma lista"
      ],
      "metadata": {
        "id": "hsq-IMpAirVQ"
      }
    },
    {
      "cell_type": "code",
      "source": [
        "lista"
      ],
      "metadata": {
        "colab": {
          "base_uri": "https://localhost:8080/"
        },
        "id": "YaCn-dI-iwlb",
        "outputId": "320e55dc-c1ed-4bcb-a441-f78a5a67093e"
      },
      "execution_count": null,
      "outputs": [
        {
          "output_type": "execute_result",
          "data": {
            "text/plain": [
              "[10, True, 'Vinicius', 123.45, 'Python']"
            ]
          },
          "metadata": {},
          "execution_count": 19
        }
      ]
    },
    {
      "cell_type": "code",
      "source": [
        "lista[0:2]"
      ],
      "metadata": {
        "colab": {
          "base_uri": "https://localhost:8080/"
        },
        "id": "yQLqwpXzoclG",
        "outputId": "4f1f1ac5-01c1-4a81-a585-c8c5bb144c30"
      },
      "execution_count": null,
      "outputs": [
        {
          "output_type": "execute_result",
          "data": {
            "text/plain": [
              "[10, True]"
            ]
          },
          "metadata": {},
          "execution_count": 20
        }
      ]
    },
    {
      "cell_type": "code",
      "source": [
        "lista[0:3]"
      ],
      "metadata": {
        "colab": {
          "base_uri": "https://localhost:8080/"
        },
        "id": "xU2riChbom6_",
        "outputId": "fc2ae995-e415-4ea0-e478-a07f9448bd96"
      },
      "execution_count": null,
      "outputs": [
        {
          "output_type": "execute_result",
          "data": {
            "text/plain": [
              "[10, True, 'Vinicius']"
            ]
          },
          "metadata": {},
          "execution_count": 21
        }
      ]
    },
    {
      "cell_type": "code",
      "source": [
        "lista[:]"
      ],
      "metadata": {
        "colab": {
          "base_uri": "https://localhost:8080/"
        },
        "id": "B3h6UR35ot1L",
        "outputId": "381b1cfe-7383-46a7-9ff9-28350c474bb4"
      },
      "execution_count": null,
      "outputs": [
        {
          "output_type": "execute_result",
          "data": {
            "text/plain": [
              "[10, True, 'Vinicius', 123.45, 'Python']"
            ]
          },
          "metadata": {},
          "execution_count": 22
        }
      ]
    },
    {
      "cell_type": "markdown",
      "source": [
        "## Operadores `in` e `not in`"
      ],
      "metadata": {
        "id": "I9vzTF9Wiy9W"
      }
    },
    {
      "cell_type": "code",
      "source": [
        "lista"
      ],
      "metadata": {
        "colab": {
          "base_uri": "https://localhost:8080/"
        },
        "id": "NUqdYBNli4Un",
        "outputId": "fe79e090-51f8-43dd-8055-f57b9addf76f"
      },
      "execution_count": null,
      "outputs": [
        {
          "output_type": "execute_result",
          "data": {
            "text/plain": [
              "[10, True, 'Vinicius', 123.45, 'Python']"
            ]
          },
          "metadata": {},
          "execution_count": 23
        }
      ]
    },
    {
      "cell_type": "code",
      "source": [
        "10 in lista"
      ],
      "metadata": {
        "colab": {
          "base_uri": "https://localhost:8080/"
        },
        "id": "yFRu2ZlSo7Me",
        "outputId": "2e4a3c20-8c4e-42e3-8234-c6733bdfd95b"
      },
      "execution_count": null,
      "outputs": [
        {
          "output_type": "execute_result",
          "data": {
            "text/plain": [
              "True"
            ]
          },
          "metadata": {},
          "execution_count": 24
        }
      ]
    },
    {
      "cell_type": "code",
      "source": [
        "20 in lista"
      ],
      "metadata": {
        "colab": {
          "base_uri": "https://localhost:8080/"
        },
        "id": "eKnsWc3GpCc7",
        "outputId": "b8cfcea3-d497-4662-8e07-421f1debe8e9"
      },
      "execution_count": null,
      "outputs": [
        {
          "output_type": "execute_result",
          "data": {
            "text/plain": [
              "False"
            ]
          },
          "metadata": {},
          "execution_count": 25
        }
      ]
    },
    {
      "cell_type": "code",
      "source": [
        "'Vinicius' not in lista"
      ],
      "metadata": {
        "colab": {
          "base_uri": "https://localhost:8080/"
        },
        "id": "_KaGUpvmpFKo",
        "outputId": "aab51318-30f5-42df-caf8-4a6a05467ecc"
      },
      "execution_count": null,
      "outputs": [
        {
          "output_type": "execute_result",
          "data": {
            "text/plain": [
              "False"
            ]
          },
          "metadata": {},
          "execution_count": 26
        }
      ]
    },
    {
      "cell_type": "code",
      "source": [],
      "metadata": {
        "id": "La-AhfzUpI2z"
      },
      "execution_count": null,
      "outputs": []
    },
    {
      "cell_type": "markdown",
      "source": [
        "## Manipulando elementos de uma lista"
      ],
      "metadata": {
        "id": "yCaXpf2ii6a3"
      }
    },
    {
      "cell_type": "markdown",
      "source": [
        "### Adicionando elementos"
      ],
      "metadata": {
        "id": "UcEDCq-wi9eI"
      }
    },
    {
      "cell_type": "markdown",
      "source": [
        "#### Método `append()`\n",
        "\n",
        "O método `append()` insere um elemento sempre no final da lista."
      ],
      "metadata": {
        "id": "a9HpTzrSjKrc"
      }
    },
    {
      "cell_type": "code",
      "source": [
        "lista"
      ],
      "metadata": {
        "colab": {
          "base_uri": "https://localhost:8080/"
        },
        "id": "3Vj2_D2IjN0B",
        "outputId": "76107d28-4105-446b-ab76-8af1dfe58aad"
      },
      "execution_count": null,
      "outputs": [
        {
          "output_type": "execute_result",
          "data": {
            "text/plain": [
              "[10, True, 'Vinicius', 123.45, 'Python']"
            ]
          },
          "metadata": {},
          "execution_count": 27
        }
      ]
    },
    {
      "cell_type": "code",
      "source": [
        "lista.append('Formação Expert Python')"
      ],
      "metadata": {
        "id": "_IQ60lk3pQhx"
      },
      "execution_count": null,
      "outputs": []
    },
    {
      "cell_type": "code",
      "source": [
        "lista"
      ],
      "metadata": {
        "colab": {
          "base_uri": "https://localhost:8080/"
        },
        "id": "lMNH8hlppeGg",
        "outputId": "ab8ea484-02e1-4344-dd8b-4554f7c93833"
      },
      "execution_count": null,
      "outputs": [
        {
          "output_type": "execute_result",
          "data": {
            "text/plain": [
              "[10, True, 'Vinicius', 123.45, 'Python', 'Formação Expert Python']"
            ]
          },
          "metadata": {},
          "execution_count": 29
        }
      ]
    },
    {
      "cell_type": "markdown",
      "source": [
        "#### Método `insert()`\n",
        "\n",
        "O método `insert()`recebe dois argumentos: o índice onde vamos inserir o elemento e o valor do elemento."
      ],
      "metadata": {
        "id": "JcJsUPAfjZQo"
      }
    },
    {
      "cell_type": "code",
      "source": [
        "lista.insert(1, 'maça')"
      ],
      "metadata": {
        "id": "rOPkA5IQjSHz"
      },
      "execution_count": null,
      "outputs": []
    },
    {
      "cell_type": "code",
      "source": [
        "lista"
      ],
      "metadata": {
        "colab": {
          "base_uri": "https://localhost:8080/"
        },
        "id": "DTRA6ksgpy43",
        "outputId": "1d6c449f-2e2b-41aa-a6f5-9e62770a598b"
      },
      "execution_count": null,
      "outputs": [
        {
          "output_type": "execute_result",
          "data": {
            "text/plain": [
              "[10, 'maça', True, 'Vinicius', 123.45, 'Python', 'Formação Expert Python']"
            ]
          },
          "metadata": {},
          "execution_count": 31
        }
      ]
    },
    {
      "cell_type": "markdown",
      "source": [
        "### Excluindo elementos"
      ],
      "metadata": {
        "id": "xacIhSOHkAbW"
      }
    },
    {
      "cell_type": "markdown",
      "source": [
        "#### Método `pop()`\n",
        "\n",
        "O método `pop()` exclui o último elemento de uma lista.\n",
        "\n"
      ],
      "metadata": {
        "id": "Gl3psNU5kDsr"
      }
    },
    {
      "cell_type": "code",
      "source": [
        "lista"
      ],
      "metadata": {
        "colab": {
          "base_uri": "https://localhost:8080/"
        },
        "id": "zwgvYgPlkHfU",
        "outputId": "3aa25705-8508-45c4-d2c7-0168793fe4b3"
      },
      "execution_count": null,
      "outputs": [
        {
          "output_type": "execute_result",
          "data": {
            "text/plain": [
              "[10, 'maça', True, 'Vinicius', 123.45, 'Python', 'Formação Expert Python']"
            ]
          },
          "metadata": {},
          "execution_count": 32
        }
      ]
    },
    {
      "cell_type": "code",
      "source": [
        "lista.pop()"
      ],
      "metadata": {
        "colab": {
          "base_uri": "https://localhost:8080/",
          "height": 35
        },
        "id": "iXHSPSoHp-0E",
        "outputId": "9c29271d-ad70-4358-a253-d8a6d5878f55"
      },
      "execution_count": null,
      "outputs": [
        {
          "output_type": "execute_result",
          "data": {
            "application/vnd.google.colaboratory.intrinsic+json": {
              "type": "string"
            },
            "text/plain": [
              "'Formação Expert Python'"
            ]
          },
          "metadata": {},
          "execution_count": 33
        }
      ]
    },
    {
      "cell_type": "code",
      "source": [
        "lista"
      ],
      "metadata": {
        "colab": {
          "base_uri": "https://localhost:8080/"
        },
        "id": "GfzTN1_9qGdh",
        "outputId": "3e69c899-92be-4b47-a848-fae1e5b2e8d6"
      },
      "execution_count": null,
      "outputs": [
        {
          "output_type": "execute_result",
          "data": {
            "text/plain": [
              "[10, 'maça', True, 'Vinicius', 123.45, 'Python']"
            ]
          },
          "metadata": {},
          "execution_count": 34
        }
      ]
    },
    {
      "cell_type": "markdown",
      "source": [
        "#### Método `remove()`\n",
        "\n",
        "O método `remove()` permite especificar qual elemento deverá ser removido."
      ],
      "metadata": {
        "id": "LrIiOOr4kN3x"
      }
    },
    {
      "cell_type": "code",
      "source": [
        "lista"
      ],
      "metadata": {
        "colab": {
          "base_uri": "https://localhost:8080/"
        },
        "id": "oeZeDWgWrEdw",
        "outputId": "48f9cb37-c832-46f5-b4ac-d976ce67ed2a"
      },
      "execution_count": null,
      "outputs": [
        {
          "output_type": "execute_result",
          "data": {
            "text/plain": [
              "[10, 'maça', True, 'Vinicius', 123.45, 'Python']"
            ]
          },
          "metadata": {},
          "execution_count": 36
        }
      ]
    },
    {
      "cell_type": "code",
      "source": [
        "lista.remove(True)"
      ],
      "metadata": {
        "id": "p6u6nxcYsNRT"
      },
      "execution_count": null,
      "outputs": []
    },
    {
      "cell_type": "code",
      "source": [
        "lista"
      ],
      "metadata": {
        "colab": {
          "base_uri": "https://localhost:8080/"
        },
        "id": "9HLbZVidsSsk",
        "outputId": "3dc8d5e0-d9ad-4dda-99d1-3b2e0c5dbedb"
      },
      "execution_count": null,
      "outputs": [
        {
          "output_type": "execute_result",
          "data": {
            "text/plain": [
              "[10, 'maça', 'Vinicius', 123.45, 'Python']"
            ]
          },
          "metadata": {},
          "execution_count": 38
        }
      ]
    },
    {
      "cell_type": "code",
      "source": [
        "lista.remove('maça')"
      ],
      "metadata": {
        "id": "IEnGMcnFsT8Z"
      },
      "execution_count": null,
      "outputs": []
    },
    {
      "cell_type": "code",
      "source": [
        "lista"
      ],
      "metadata": {
        "colab": {
          "base_uri": "https://localhost:8080/"
        },
        "id": "YucR8Po9sX-6",
        "outputId": "fce85c42-6060-4907-eb03-453e248aecef"
      },
      "execution_count": null,
      "outputs": [
        {
          "output_type": "execute_result",
          "data": {
            "text/plain": [
              "[10, 'Vinicius', 123.45, 'Python']"
            ]
          },
          "metadata": {},
          "execution_count": 40
        }
      ]
    },
    {
      "cell_type": "markdown",
      "source": [
        "#### Comando `del`\n",
        "\n",
        "Podemos excluir um elemento de uma lista utilizando o comando `del` seguido do nome da lista e o índice do elemento que deverá ser excluído."
      ],
      "metadata": {
        "id": "B1cqbNaOkxA3"
      }
    },
    {
      "cell_type": "code",
      "source": [
        "lista"
      ],
      "metadata": {
        "colab": {
          "base_uri": "https://localhost:8080/"
        },
        "id": "LciAu9swsaNK",
        "outputId": "451f1029-22ea-4d6f-87cf-223f094036b6"
      },
      "execution_count": null,
      "outputs": [
        {
          "output_type": "execute_result",
          "data": {
            "text/plain": [
              "[10, 'Vinicius', 123.45, 'Python']"
            ]
          },
          "metadata": {},
          "execution_count": 41
        }
      ]
    },
    {
      "cell_type": "code",
      "source": [
        "del lista[2]"
      ],
      "metadata": {
        "id": "B_AgEm6Usdob"
      },
      "execution_count": null,
      "outputs": []
    },
    {
      "cell_type": "code",
      "source": [
        "lista"
      ],
      "metadata": {
        "colab": {
          "base_uri": "https://localhost:8080/"
        },
        "id": "WV7MMT96sk_A",
        "outputId": "23b45ddd-e7a5-469f-ef07-7b8ce9e1c827"
      },
      "execution_count": null,
      "outputs": [
        {
          "output_type": "execute_result",
          "data": {
            "text/plain": [
              "[10, 'Vinicius', 'Python']"
            ]
          },
          "metadata": {},
          "execution_count": 43
        }
      ]
    },
    {
      "cell_type": "markdown",
      "source": [
        "### Alterando elementos"
      ],
      "metadata": {
        "id": "KEJQ8oXHlGwf"
      }
    },
    {
      "cell_type": "code",
      "source": [
        "lista"
      ],
      "metadata": {
        "colab": {
          "base_uri": "https://localhost:8080/"
        },
        "id": "Fs-RwjdMlKFY",
        "outputId": "9ce2611c-e5c4-4d82-a93f-12e38f9bda5d"
      },
      "execution_count": null,
      "outputs": [
        {
          "output_type": "execute_result",
          "data": {
            "text/plain": [
              "[10, 'Vinicius', 'Python']"
            ]
          },
          "metadata": {},
          "execution_count": 44
        }
      ]
    },
    {
      "cell_type": "code",
      "source": [
        "lista[0] = 'Computador'"
      ],
      "metadata": {
        "id": "yAMUP3BwsqEX"
      },
      "execution_count": null,
      "outputs": []
    },
    {
      "cell_type": "code",
      "source": [
        "lista"
      ],
      "metadata": {
        "colab": {
          "base_uri": "https://localhost:8080/"
        },
        "id": "cESn8Vqesyns",
        "outputId": "3ccc34b4-9721-4508-9aa9-5736db83c895"
      },
      "execution_count": null,
      "outputs": [
        {
          "output_type": "execute_result",
          "data": {
            "text/plain": [
              "['Computador', 'Vinicius', 'Python']"
            ]
          },
          "metadata": {},
          "execution_count": 46
        }
      ]
    },
    {
      "cell_type": "code",
      "source": [
        "lista[2] = 'Pandas'"
      ],
      "metadata": {
        "id": "wFa56c8KszMc"
      },
      "execution_count": null,
      "outputs": []
    },
    {
      "cell_type": "code",
      "source": [
        "lista"
      ],
      "metadata": {
        "colab": {
          "base_uri": "https://localhost:8080/"
        },
        "id": "SZsbURtjs4x1",
        "outputId": "be72b26d-9044-4d1f-b38b-aed171d27e13"
      },
      "execution_count": null,
      "outputs": [
        {
          "output_type": "execute_result",
          "data": {
            "text/plain": [
              "['Computador', 'Vinicius', 'Pandas']"
            ]
          },
          "metadata": {},
          "execution_count": 48
        }
      ]
    }
  ]
}