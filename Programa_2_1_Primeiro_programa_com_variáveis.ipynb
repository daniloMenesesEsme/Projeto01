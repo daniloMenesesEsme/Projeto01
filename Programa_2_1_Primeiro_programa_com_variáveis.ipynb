{
  "nbformat": 4,
  "nbformat_minor": 0,
  "metadata": {
    "colab": {
      "provenance": [],
      "authorship_tag": "ABX9TyO2r2L6bQSZpywTdECde1RY",
      "include_colab_link": true
    },
    "kernelspec": {
      "name": "python3",
      "display_name": "Python 3"
    },
    "language_info": {
      "name": "python"
    }
  },
  "cells": [
    {
      "cell_type": "markdown",
      "metadata": {
        "id": "view-in-github",
        "colab_type": "text"
      },
      "source": [
        "<a href=\"https://colab.research.google.com/github/daniloMenesesEsme/Projeto01/blob/main/Programa_2_1_Primeiro_programa_com_vari%C3%A1veis.ipynb\" target=\"_parent\"><img src=\"https://colab.research.google.com/assets/colab-badge.svg\" alt=\"Open In Colab\"/></a>"
      ]
    },
    {
      "cell_type": "markdown",
      "source": [
        "Vejamos o que ca linha significa. A primeira linha inicia com #. O # é o símbolo usado para indicar que estamos comentando ou fazendo um comentário.\n",
        "Comentários são ignorados pelo interpretador Python e podemos escrever o quisermos."
      ],
      "metadata": {
        "id": "yevonvYeqPdE"
      }
    },
    {
      "cell_type": "code",
      "source": [
        "# Programa 2.1 - Primeiro programa com variáveis\n",
        "a = 2\n",
        "b = 3\n",
        "print(a + b)"
      ],
      "metadata": {
        "id": "bqIYB7y3rDEI",
        "colab": {
          "base_uri": "https://localhost:8080/"
        },
        "outputId": "5c987683-8dcf-408a-938a-82622254b92e"
      },
      "execution_count": 2,
      "outputs": [
        {
          "output_type": "stream",
          "name": "stdout",
          "text": [
            "5\n"
          ]
        }
      ]
    },
    {
      "cell_type": "code",
      "source": [
        "# Programa 2.2 - Cálculo de aumento de salário\n",
        "salário = 1500\n",
        "aumento = 5\n",
        "print(salário + (salário * aumento / 100))"
      ],
      "metadata": {
        "colab": {
          "base_uri": "https://localhost:8080/"
        },
        "id": "8XDNWwXpswHQ",
        "outputId": "accf2094-918a-421b-e8df-ed6c01b7fb0a"
      },
      "execution_count": 3,
      "outputs": [
        {
          "output_type": "stream",
          "name": "stdout",
          "text": [
            "1575.0\n"
          ]
        }
      ]
    },
    {
      "cell_type": "code",
      "source": [
        "# programa 2.3 - Alternativa para o cálculo de aumento de salário\n",
        "print(1500 + (1500 * 5 / 100))"
      ],
      "metadata": {
        "colab": {
          "base_uri": "https://localhost:8080/"
        },
        "id": "umqNXa1StaIU",
        "outputId": "e7544d1a-f1bc-46c0-c922-6ccde49efa18"
      },
      "execution_count": 4,
      "outputs": [
        {
          "output_type": "stream",
          "name": "stdout",
          "text": [
            "1575.0\n"
          ]
        }
      ]
    },
    {
      "cell_type": "markdown",
      "source": [
        "## Hora de exercitar"
      ],
      "metadata": {
        "id": "-Z2uetFvtykA"
      }
    },
    {
      "cell_type": "code",
      "source": [
        "# Exercício 2.3 - Faça um programa que exiba seu nome na tela.\n",
        "nome = 'Danilo'\n"
      ],
      "metadata": {
        "id": "FFM76V9tuyMu"
      },
      "execution_count": 7,
      "outputs": []
    },
    {
      "cell_type": "code",
      "source": [
        "print(nome)"
      ],
      "metadata": {
        "colab": {
          "base_uri": "https://localhost:8080/"
        },
        "id": "x0IKnH1tvO0A",
        "outputId": "a4531424-9cac-4fdb-f23d-f62e654c3e33"
      },
      "execution_count": 8,
      "outputs": [
        {
          "output_type": "stream",
          "name": "stdout",
          "text": [
            "Danilo\n"
          ]
        }
      ]
    },
    {
      "cell_type": "code",
      "source": [
        "# Exercício 2.4 - Escreva um programa que exiba o resultado de 2a x 3b, em que 'a' vale 3 e 'b' vale 5\n",
        "a = 3\n",
        "b = 5\n",
        "print(a * b)\n"
      ],
      "metadata": {
        "colab": {
          "base_uri": "https://localhost:8080/"
        },
        "id": "TkI8Tlb9vRQf",
        "outputId": "5d92df38-a7bb-4ded-8b1b-3f8b3db25968"
      },
      "execution_count": 13,
      "outputs": [
        {
          "output_type": "stream",
          "name": "stdout",
          "text": [
            "15\n"
          ]
        }
      ]
    },
    {
      "cell_type": "code",
      "source": [
        "# Exercício 2.5 - Escreva um programa que calcule a soma de três variáveis e imprima o resultado na tela.\n",
        "a = 2\n",
        "b = 3\n",
        "c = 4\n",
        "print(a+b+c)\n"
      ],
      "metadata": {
        "colab": {
          "base_uri": "https://localhost:8080/"
        },
        "id": "65WPdRSMwOUX",
        "outputId": "2cb52ef6-f86f-4877-9d3b-c1f7a7ea79b2"
      },
      "execution_count": 14,
      "outputs": [
        {
          "output_type": "stream",
          "name": "stdout",
          "text": [
            "9\n"
          ]
        }
      ]
    },
    {
      "cell_type": "code",
      "source": [
        "# Exercício 2.6 - Modifique o Programa 2.2, de forma que ele calcule um aumento de 15% para um salário de R$ 750\n",
        "salário = 750\n",
        "aumento = 15\n",
        "print(salário + (salário * aumento / 100))\n"
      ],
      "metadata": {
        "colab": {
          "base_uri": "https://localhost:8080/"
        },
        "id": "4Vp9V4RFExN-",
        "outputId": "65b4fa71-f0c1-4f6f-d47e-b5068b162db7"
      },
      "execution_count": 15,
      "outputs": [
        {
          "output_type": "stream",
          "name": "stdout",
          "text": [
            "862.5\n"
          ]
        }
      ]
    },
    {
      "cell_type": "markdown",
      "source": [
        "## CAPÍTULO 3 - Variáveis e entrada de dados"
      ],
      "metadata": {
        "id": "Q-9iFbayFSUv"
      }
    },
    {
      "cell_type": "markdown",
      "source": [
        "Em Python, nome de variáveis devem inicir obrigatoriamente com uma letra ou com o símbolo sublinha (_). Após a primeira caractere, podem conter letras, números e o sublinha. Vejamos exemplo de nomes válidos e inválidos em Python na Tabela 3.1.\n",
        "\n",
        "\n",
        "\n"
      ],
      "metadata": {
        "id": "AuqYdDXHFhVP"
      }
    }
  ]
}