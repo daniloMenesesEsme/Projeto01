{
  "nbformat": 4,
  "nbformat_minor": 0,
  "metadata": {
    "colab": {
      "provenance": [],
      "include_colab_link": true
    },
    "kernelspec": {
      "name": "python3",
      "display_name": "Python 3"
    },
    "language_info": {
      "name": "python"
    }
  },
  "cells": [
    {
      "cell_type": "markdown",
      "metadata": {
        "id": "view-in-github",
        "colab_type": "text"
      },
      "source": [
        "<a href=\"https://colab.research.google.com/github/daniloMenesesEsme/Projeto01/blob/main/Programa_2_1_Primeiro_programa_com_vari%C3%A1veis.ipynb\" target=\"_parent\"><img src=\"https://colab.research.google.com/assets/colab-badge.svg\" alt=\"Open In Colab\"/></a>"
      ]
    },
    {
      "cell_type": "markdown",
      "source": [
        "Vejamos o que cada linha significa. A primeira linha inicia com #. O # é o símbolo usado para indicar que estamos comentando ou fazendo um comentário.\n",
        "Comentários são ignorados pelo interpretador Python e podemos escrever o quisermos."
      ],
      "metadata": {
        "id": "yevonvYeqPdE"
      }
    },
    {
      "cell_type": "code",
      "source": [
        "# Programa 2.1 - Primeiro programa com variáveis\n",
        "a = 2\n",
        "b = 3\n",
        "print(a + b)"
      ],
      "metadata": {
        "id": "bqIYB7y3rDEI",
        "colab": {
          "base_uri": "https://localhost:8080/"
        },
        "outputId": "5c987683-8dcf-408a-938a-82622254b92e"
      },
      "execution_count": null,
      "outputs": [
        {
          "output_type": "stream",
          "name": "stdout",
          "text": [
            "5\n"
          ]
        }
      ]
    },
    {
      "cell_type": "code",
      "source": [
        "# Programa 2.2 - Cálculo de aumento de salário\n",
        "salário = 1500\n",
        "aumento = 5\n",
        "print(salário + (salário * aumento / 100))"
      ],
      "metadata": {
        "colab": {
          "base_uri": "https://localhost:8080/"
        },
        "id": "8XDNWwXpswHQ",
        "outputId": "accf2094-918a-421b-e8df-ed6c01b7fb0a"
      },
      "execution_count": null,
      "outputs": [
        {
          "output_type": "stream",
          "name": "stdout",
          "text": [
            "1575.0\n"
          ]
        }
      ]
    },
    {
      "cell_type": "code",
      "source": [
        "# programa 2.3 - Alternativa para o cálculo de aumento de salário\n",
        "print(1500 + (1500 * 5 / 100))"
      ],
      "metadata": {
        "colab": {
          "base_uri": "https://localhost:8080/"
        },
        "id": "umqNXa1StaIU",
        "outputId": "e7544d1a-f1bc-46c0-c922-6ccde49efa18"
      },
      "execution_count": null,
      "outputs": [
        {
          "output_type": "stream",
          "name": "stdout",
          "text": [
            "1575.0\n"
          ]
        }
      ]
    },
    {
      "cell_type": "markdown",
      "source": [
        "## Hora de exercitar"
      ],
      "metadata": {
        "id": "-Z2uetFvtykA"
      }
    },
    {
      "cell_type": "code",
      "source": [
        "# Exercício 2.3 - Faça um programa que exiba seu nome na tela.\n",
        "nome = 'Danilo'\n"
      ],
      "metadata": {
        "id": "FFM76V9tuyMu"
      },
      "execution_count": null,
      "outputs": []
    },
    {
      "cell_type": "code",
      "source": [
        "print(nome)"
      ],
      "metadata": {
        "colab": {
          "base_uri": "https://localhost:8080/"
        },
        "id": "x0IKnH1tvO0A",
        "outputId": "a4531424-9cac-4fdb-f23d-f62e654c3e33"
      },
      "execution_count": null,
      "outputs": [
        {
          "output_type": "stream",
          "name": "stdout",
          "text": [
            "Danilo\n"
          ]
        }
      ]
    },
    {
      "cell_type": "code",
      "source": [
        "# Exercício 2.4 - Escreva um programa que exiba o resultado de 2a x 3b, em que 'a' vale 3 e 'b' vale 5\n",
        "a = 3\n",
        "b = 5\n",
        "print(a * b)\n"
      ],
      "metadata": {
        "colab": {
          "base_uri": "https://localhost:8080/"
        },
        "id": "TkI8Tlb9vRQf",
        "outputId": "5d92df38-a7bb-4ded-8b1b-3f8b3db25968"
      },
      "execution_count": null,
      "outputs": [
        {
          "output_type": "stream",
          "name": "stdout",
          "text": [
            "15\n"
          ]
        }
      ]
    },
    {
      "cell_type": "code",
      "source": [
        "# Exercício 2.5 - Escreva um programa que calcule a soma de três variáveis e imprima o resultado na tela.\n",
        "a = 2\n",
        "b = 3\n",
        "c = 4\n",
        "print(a+b+c)\n"
      ],
      "metadata": {
        "colab": {
          "base_uri": "https://localhost:8080/"
        },
        "id": "65WPdRSMwOUX",
        "outputId": "2cb52ef6-f86f-4877-9d3b-c1f7a7ea79b2"
      },
      "execution_count": null,
      "outputs": [
        {
          "output_type": "stream",
          "name": "stdout",
          "text": [
            "9\n"
          ]
        }
      ]
    },
    {
      "cell_type": "code",
      "source": [
        "# Exercício 2.6 - Modifique o Programa 2.2, de forma que ele calcule um aumento de 15% para um salário de R$ 750\n",
        "salário = 750\n",
        "aumento = 15\n",
        "print(salário + (salário * aumento / 100))\n"
      ],
      "metadata": {
        "colab": {
          "base_uri": "https://localhost:8080/"
        },
        "id": "4Vp9V4RFExN-",
        "outputId": "65b4fa71-f0c1-4f6f-d47e-b5068b162db7"
      },
      "execution_count": null,
      "outputs": [
        {
          "output_type": "stream",
          "name": "stdout",
          "text": [
            "862.5\n"
          ]
        }
      ]
    },
    {
      "cell_type": "markdown",
      "source": [
        "## CAPÍTULO 3 - Variáveis e entrada de dados"
      ],
      "metadata": {
        "id": "Q-9iFbayFSUv"
      }
    },
    {
      "cell_type": "markdown",
      "source": [
        "Em Python, nome de variáveis devem inicir obrigatoriamente com uma letra ou com o símbolo sublinha (_). Após a primeira caractere, podem conter letras, números e o sublinha. Vejamos exemplo de nomes válidos e inválidos em Python na Tabela 3.1.\n",
        "\n",
        "\n",
        "\n"
      ],
      "metadata": {
        "id": "AuqYdDXHFhVP"
      }
    },
    {
      "cell_type": "code",
      "source": [
        "import pandas as pd"
      ],
      "metadata": {
        "id": "avF0ksNAoFeH"
      },
      "execution_count": 1,
      "outputs": []
    },
    {
      "cell_type": "code",
      "source": [
        "data = {'Nome': ['a1', 'velocidade', 'velocidade90', 'salário_médio', 'salário médio', '_b', '1a'],\n",
        "        'Válido': ['sim', 'sim', 'sim', 'sim', 'Não', 'sim', 'Não'],\n",
        "        'Comentário': ['Embora contenha um número, o nome a1 inicia com letra.', 'Nome formado por letras.',\n",
        "                       'Nome formado por letras e números, mas iniciado por letra.', 'O símbolo sublinha (_) é permitido e facilita a leitura de nomes grandes.',\n",
        "                       'Nomes de variáveis não podem conter espeços em branco.', 'O sublinha (_) é aceito em nomes de variáveis, mesmo no início.',\n",
        "                       'Nomes de variáveis não podem começar com números.']}\n",
        "df = pd.DataFrame(data)"
      ],
      "metadata": {
        "id": "TkFS0vIyoKND"
      },
      "execution_count": 11,
      "outputs": []
    },
    {
      "cell_type": "code",
      "source": [
        "df"
      ],
      "metadata": {
        "colab": {
          "base_uri": "https://localhost:8080/",
          "height": 287
        },
        "id": "p6G_owt_pWO2",
        "outputId": "ad5ccdec-d1bd-441a-b065-b342550c7032"
      },
      "execution_count": 12,
      "outputs": [
        {
          "output_type": "execute_result",
          "data": {
            "text/plain": [
              "            Nome Válido                                         Comentário\n",
              "0             a1    sim  Embora contenha um número, o nome a1 inicia co...\n",
              "1     velocidade    sim                           Nome formado por letras.\n",
              "2   velocidade90    sim  Nome formado por letras e números, mas iniciad...\n",
              "3  salário_médio    sim  O símbolo sublinha (_) é permitido e facilita ...\n",
              "4  salário médio    Não  Nomes de variáveis não podem conter espeços em...\n",
              "5             _b    sim  O sublinha (_) é aceito em nomes de variáveis,...\n",
              "6             1a    Não  Nomes de variáveis não podem começar com números."
            ],
            "text/html": [
              "\n",
              "  <div id=\"df-46408940-f860-4850-b67f-daa07adf0dcd\" class=\"colab-df-container\">\n",
              "    <div>\n",
              "<style scoped>\n",
              "    .dataframe tbody tr th:only-of-type {\n",
              "        vertical-align: middle;\n",
              "    }\n",
              "\n",
              "    .dataframe tbody tr th {\n",
              "        vertical-align: top;\n",
              "    }\n",
              "\n",
              "    .dataframe thead th {\n",
              "        text-align: right;\n",
              "    }\n",
              "</style>\n",
              "<table border=\"1\" class=\"dataframe\">\n",
              "  <thead>\n",
              "    <tr style=\"text-align: right;\">\n",
              "      <th></th>\n",
              "      <th>Nome</th>\n",
              "      <th>Válido</th>\n",
              "      <th>Comentário</th>\n",
              "    </tr>\n",
              "  </thead>\n",
              "  <tbody>\n",
              "    <tr>\n",
              "      <th>0</th>\n",
              "      <td>a1</td>\n",
              "      <td>sim</td>\n",
              "      <td>Embora contenha um número, o nome a1 inicia co...</td>\n",
              "    </tr>\n",
              "    <tr>\n",
              "      <th>1</th>\n",
              "      <td>velocidade</td>\n",
              "      <td>sim</td>\n",
              "      <td>Nome formado por letras.</td>\n",
              "    </tr>\n",
              "    <tr>\n",
              "      <th>2</th>\n",
              "      <td>velocidade90</td>\n",
              "      <td>sim</td>\n",
              "      <td>Nome formado por letras e números, mas iniciad...</td>\n",
              "    </tr>\n",
              "    <tr>\n",
              "      <th>3</th>\n",
              "      <td>salário_médio</td>\n",
              "      <td>sim</td>\n",
              "      <td>O símbolo sublinha (_) é permitido e facilita ...</td>\n",
              "    </tr>\n",
              "    <tr>\n",
              "      <th>4</th>\n",
              "      <td>salário médio</td>\n",
              "      <td>Não</td>\n",
              "      <td>Nomes de variáveis não podem conter espeços em...</td>\n",
              "    </tr>\n",
              "    <tr>\n",
              "      <th>5</th>\n",
              "      <td>_b</td>\n",
              "      <td>sim</td>\n",
              "      <td>O sublinha (_) é aceito em nomes de variáveis,...</td>\n",
              "    </tr>\n",
              "    <tr>\n",
              "      <th>6</th>\n",
              "      <td>1a</td>\n",
              "      <td>Não</td>\n",
              "      <td>Nomes de variáveis não podem começar com números.</td>\n",
              "    </tr>\n",
              "  </tbody>\n",
              "</table>\n",
              "</div>\n",
              "    <div class=\"colab-df-buttons\">\n",
              "\n",
              "  <div class=\"colab-df-container\">\n",
              "    <button class=\"colab-df-convert\" onclick=\"convertToInteractive('df-46408940-f860-4850-b67f-daa07adf0dcd')\"\n",
              "            title=\"Convert this dataframe to an interactive table.\"\n",
              "            style=\"display:none;\">\n",
              "\n",
              "  <svg xmlns=\"http://www.w3.org/2000/svg\" height=\"24px\" viewBox=\"0 -960 960 960\">\n",
              "    <path d=\"M120-120v-720h720v720H120Zm60-500h600v-160H180v160Zm220 220h160v-160H400v160Zm0 220h160v-160H400v160ZM180-400h160v-160H180v160Zm440 0h160v-160H620v160ZM180-180h160v-160H180v160Zm440 0h160v-160H620v160Z\"/>\n",
              "  </svg>\n",
              "    </button>\n",
              "\n",
              "  <style>\n",
              "    .colab-df-container {\n",
              "      display:flex;\n",
              "      gap: 12px;\n",
              "    }\n",
              "\n",
              "    .colab-df-convert {\n",
              "      background-color: #E8F0FE;\n",
              "      border: none;\n",
              "      border-radius: 50%;\n",
              "      cursor: pointer;\n",
              "      display: none;\n",
              "      fill: #1967D2;\n",
              "      height: 32px;\n",
              "      padding: 0 0 0 0;\n",
              "      width: 32px;\n",
              "    }\n",
              "\n",
              "    .colab-df-convert:hover {\n",
              "      background-color: #E2EBFA;\n",
              "      box-shadow: 0px 1px 2px rgba(60, 64, 67, 0.3), 0px 1px 3px 1px rgba(60, 64, 67, 0.15);\n",
              "      fill: #174EA6;\n",
              "    }\n",
              "\n",
              "    .colab-df-buttons div {\n",
              "      margin-bottom: 4px;\n",
              "    }\n",
              "\n",
              "    [theme=dark] .colab-df-convert {\n",
              "      background-color: #3B4455;\n",
              "      fill: #D2E3FC;\n",
              "    }\n",
              "\n",
              "    [theme=dark] .colab-df-convert:hover {\n",
              "      background-color: #434B5C;\n",
              "      box-shadow: 0px 1px 3px 1px rgba(0, 0, 0, 0.15);\n",
              "      filter: drop-shadow(0px 1px 2px rgba(0, 0, 0, 0.3));\n",
              "      fill: #FFFFFF;\n",
              "    }\n",
              "  </style>\n",
              "\n",
              "    <script>\n",
              "      const buttonEl =\n",
              "        document.querySelector('#df-46408940-f860-4850-b67f-daa07adf0dcd button.colab-df-convert');\n",
              "      buttonEl.style.display =\n",
              "        google.colab.kernel.accessAllowed ? 'block' : 'none';\n",
              "\n",
              "      async function convertToInteractive(key) {\n",
              "        const element = document.querySelector('#df-46408940-f860-4850-b67f-daa07adf0dcd');\n",
              "        const dataTable =\n",
              "          await google.colab.kernel.invokeFunction('convertToInteractive',\n",
              "                                                    [key], {});\n",
              "        if (!dataTable) return;\n",
              "\n",
              "        const docLinkHtml = 'Like what you see? Visit the ' +\n",
              "          '<a target=\"_blank\" href=https://colab.research.google.com/notebooks/data_table.ipynb>data table notebook</a>'\n",
              "          + ' to learn more about interactive tables.';\n",
              "        element.innerHTML = '';\n",
              "        dataTable['output_type'] = 'display_data';\n",
              "        await google.colab.output.renderOutput(dataTable, element);\n",
              "        const docLink = document.createElement('div');\n",
              "        docLink.innerHTML = docLinkHtml;\n",
              "        element.appendChild(docLink);\n",
              "      }\n",
              "    </script>\n",
              "  </div>\n",
              "\n",
              "\n",
              "<div id=\"df-3b9de1e1-4520-4ad1-b255-9594aabd39ba\">\n",
              "  <button class=\"colab-df-quickchart\" onclick=\"quickchart('df-3b9de1e1-4520-4ad1-b255-9594aabd39ba')\"\n",
              "            title=\"Suggest charts.\"\n",
              "            style=\"display:none;\">\n",
              "\n",
              "<svg xmlns=\"http://www.w3.org/2000/svg\" height=\"24px\"viewBox=\"0 0 24 24\"\n",
              "     width=\"24px\">\n",
              "    <g>\n",
              "        <path d=\"M19 3H5c-1.1 0-2 .9-2 2v14c0 1.1.9 2 2 2h14c1.1 0 2-.9 2-2V5c0-1.1-.9-2-2-2zM9 17H7v-7h2v7zm4 0h-2V7h2v10zm4 0h-2v-4h2v4z\"/>\n",
              "    </g>\n",
              "</svg>\n",
              "  </button>\n",
              "\n",
              "<style>\n",
              "  .colab-df-quickchart {\n",
              "    background-color: #E8F0FE;\n",
              "    border: none;\n",
              "    border-radius: 50%;\n",
              "    cursor: pointer;\n",
              "    display: none;\n",
              "    fill: #1967D2;\n",
              "    height: 32px;\n",
              "    padding: 0 0 0 0;\n",
              "    width: 32px;\n",
              "  }\n",
              "\n",
              "  .colab-df-quickchart:hover {\n",
              "    background-color: #E2EBFA;\n",
              "    box-shadow: 0px 1px 2px rgba(60, 64, 67, 0.3), 0px 1px 3px 1px rgba(60, 64, 67, 0.15);\n",
              "    fill: #174EA6;\n",
              "  }\n",
              "\n",
              "  [theme=dark] .colab-df-quickchart {\n",
              "    background-color: #3B4455;\n",
              "    fill: #D2E3FC;\n",
              "  }\n",
              "\n",
              "  [theme=dark] .colab-df-quickchart:hover {\n",
              "    background-color: #434B5C;\n",
              "    box-shadow: 0px 1px 3px 1px rgba(0, 0, 0, 0.15);\n",
              "    filter: drop-shadow(0px 1px 2px rgba(0, 0, 0, 0.3));\n",
              "    fill: #FFFFFF;\n",
              "  }\n",
              "</style>\n",
              "\n",
              "  <script>\n",
              "    async function quickchart(key) {\n",
              "      const charts = await google.colab.kernel.invokeFunction(\n",
              "          'suggestCharts', [key], {});\n",
              "    }\n",
              "    (() => {\n",
              "      let quickchartButtonEl =\n",
              "        document.querySelector('#df-3b9de1e1-4520-4ad1-b255-9594aabd39ba button');\n",
              "      quickchartButtonEl.style.display =\n",
              "        google.colab.kernel.accessAllowed ? 'block' : 'none';\n",
              "    })();\n",
              "  </script>\n",
              "</div>\n",
              "    </div>\n",
              "  </div>\n"
            ]
          },
          "metadata": {},
          "execution_count": 12
        }
      ]
    },
    {
      "cell_type": "markdown",
      "source": [
        "## 3.2 Variáveis numéricas\n",
        "### Dizemos que uma variável é número quando armazena números interios ou de pontos flutuante.\n",
        "### Os números interios são aqueles sem parte decimal, como 1, 0, -5, 550, -47, 30000.\n",
        "### Núemros de ponto flutuante ou decimais são aqueles com parte decimal, como 1.0, 5.478, 10.478, 30000.4. Observe que 1.0, mesmo tento zero na parte decimal, é um número de ponto flutuante.\n",
        "### Em Python, e na maioria das linguagens de programação, utulizamos o ponto, e não a vírgula, como separador entre a parte inteira e fracionária de um número. Essa é outra herança da língua inglesa. Observe também que não utilizamos nada como separador de milhar. Exemplo: 1.000.000 (um milhão) é escrito 1000000. Uma forma alternativa de separar números grandes é utilizar o sublinhado entre os dígitos (a partir do Python 3.6)."
      ],
      "metadata": {
        "id": "ozFPpZ4DsgVo"
      }
    },
    {
      "cell_type": "code",
      "source": [
        "print(1_000)"
      ],
      "metadata": {
        "id": "lYbq01I50xx3",
        "outputId": "03ac8fdd-f349-4562-f580-eb9d11e7e244",
        "colab": {
          "base_uri": "https://localhost:8080/"
        }
      },
      "execution_count": 13,
      "outputs": [
        {
          "output_type": "stream",
          "name": "stdout",
          "text": [
            "1000\n"
          ]
        }
      ]
    },
    {
      "cell_type": "code",
      "source": [
        "print(1_000_000)"
      ],
      "metadata": {
        "id": "IevBx93L07a_",
        "outputId": "9e9ad736-fffb-40d8-9270-8c9bb0608067",
        "colab": {
          "base_uri": "https://localhost:8080/"
        }
      },
      "execution_count": 14,
      "outputs": [
        {
          "output_type": "stream",
          "name": "stdout",
          "text": [
            "1000000\n"
          ]
        }
      ]
    },
    {
      "cell_type": "code",
      "source": [
        "print(1_0_0)"
      ],
      "metadata": {
        "id": "XowoHcjO1Fr2",
        "outputId": "df50f40b-8ac0-48f2-f4a7-313596993a36",
        "colab": {
          "base_uri": "https://localhost:8080/"
        }
      },
      "execution_count": 15,
      "outputs": [
        {
          "output_type": "stream",
          "name": "stdout",
          "text": [
            "100\n"
          ]
        }
      ]
    },
    {
      "cell_type": "code",
      "source": [
        "print(1_980.10)"
      ],
      "metadata": {
        "id": "kMYLzytA1LTe",
        "outputId": "2099ff07-69b5-43f0-cbcf-24db58986cd0",
        "colab": {
          "base_uri": "https://localhost:8080/"
        }
      },
      "execution_count": 16,
      "outputs": [
        {
          "output_type": "stream",
          "name": "stdout",
          "text": [
            "1980.1\n"
          ]
        }
      ]
    },
    {
      "cell_type": "markdown",
      "source": [
        "### Exercício 3.1 Complete a tabela a seguir, marcando inteiro ou ponto flutuante depedendo do número apresentado."
      ],
      "metadata": {
        "id": "-512jGr01QNO"
      }
    },
    {
      "cell_type": "code",
      "source": [
        "dados2 = {'Número': ['5', '5.0', '4.3', '-2', '100', '1.333'],\n",
        "          'Tipo numérico': ['(x)inteiro ( )ponto flutuante', '( )inteiro (x)ponto flutuante', '( )inteiro (x)ponto flutuante',\n",
        "                            '(x)inteiro ( )ponto flutuante', '(x)inteiro ( )ponto flutuante', '( )inteiro (x)ponto flutuante']}\n",
        "df = pd.DataFrame(dados2)"
      ],
      "metadata": {
        "id": "k-YyHRLX1kVt"
      },
      "execution_count": 19,
      "outputs": []
    },
    {
      "cell_type": "code",
      "source": [
        "df"
      ],
      "metadata": {
        "id": "8cLTVPCL6wiT",
        "outputId": "ac4db7fc-de24-4604-d178-d93d0dcc7cc4",
        "colab": {
          "base_uri": "https://localhost:8080/",
          "height": 266
        }
      },
      "execution_count": 20,
      "outputs": [
        {
          "output_type": "execute_result",
          "data": {
            "text/plain": [
              "  Número                  Tipo numérico\n",
              "0      5  (x)inteiro ( )ponto flutuante\n",
              "1    5.0  ( )inteiro (x)ponto flutuante\n",
              "2    4.3  ( )inteiro (x)ponto flutuante\n",
              "3     -2  (x)inteiro ( )ponto flutuante\n",
              "4    100  (x)inteiro ( )ponto flutuante\n",
              "5  1.333  ( )inteiro (x)ponto flutuante"
            ],
            "text/html": [
              "\n",
              "  <div id=\"df-ce8bd9b5-230d-4d1e-905e-c2a87c20a086\" class=\"colab-df-container\">\n",
              "    <div>\n",
              "<style scoped>\n",
              "    .dataframe tbody tr th:only-of-type {\n",
              "        vertical-align: middle;\n",
              "    }\n",
              "\n",
              "    .dataframe tbody tr th {\n",
              "        vertical-align: top;\n",
              "    }\n",
              "\n",
              "    .dataframe thead th {\n",
              "        text-align: right;\n",
              "    }\n",
              "</style>\n",
              "<table border=\"1\" class=\"dataframe\">\n",
              "  <thead>\n",
              "    <tr style=\"text-align: right;\">\n",
              "      <th></th>\n",
              "      <th>Número</th>\n",
              "      <th>Tipo numérico</th>\n",
              "    </tr>\n",
              "  </thead>\n",
              "  <tbody>\n",
              "    <tr>\n",
              "      <th>0</th>\n",
              "      <td>5</td>\n",
              "      <td>(x)inteiro ( )ponto flutuante</td>\n",
              "    </tr>\n",
              "    <tr>\n",
              "      <th>1</th>\n",
              "      <td>5.0</td>\n",
              "      <td>( )inteiro (x)ponto flutuante</td>\n",
              "    </tr>\n",
              "    <tr>\n",
              "      <th>2</th>\n",
              "      <td>4.3</td>\n",
              "      <td>( )inteiro (x)ponto flutuante</td>\n",
              "    </tr>\n",
              "    <tr>\n",
              "      <th>3</th>\n",
              "      <td>-2</td>\n",
              "      <td>(x)inteiro ( )ponto flutuante</td>\n",
              "    </tr>\n",
              "    <tr>\n",
              "      <th>4</th>\n",
              "      <td>100</td>\n",
              "      <td>(x)inteiro ( )ponto flutuante</td>\n",
              "    </tr>\n",
              "    <tr>\n",
              "      <th>5</th>\n",
              "      <td>1.333</td>\n",
              "      <td>( )inteiro (x)ponto flutuante</td>\n",
              "    </tr>\n",
              "  </tbody>\n",
              "</table>\n",
              "</div>\n",
              "    <div class=\"colab-df-buttons\">\n",
              "\n",
              "  <div class=\"colab-df-container\">\n",
              "    <button class=\"colab-df-convert\" onclick=\"convertToInteractive('df-ce8bd9b5-230d-4d1e-905e-c2a87c20a086')\"\n",
              "            title=\"Convert this dataframe to an interactive table.\"\n",
              "            style=\"display:none;\">\n",
              "\n",
              "  <svg xmlns=\"http://www.w3.org/2000/svg\" height=\"24px\" viewBox=\"0 -960 960 960\">\n",
              "    <path d=\"M120-120v-720h720v720H120Zm60-500h600v-160H180v160Zm220 220h160v-160H400v160Zm0 220h160v-160H400v160ZM180-400h160v-160H180v160Zm440 0h160v-160H620v160ZM180-180h160v-160H180v160Zm440 0h160v-160H620v160Z\"/>\n",
              "  </svg>\n",
              "    </button>\n",
              "\n",
              "  <style>\n",
              "    .colab-df-container {\n",
              "      display:flex;\n",
              "      gap: 12px;\n",
              "    }\n",
              "\n",
              "    .colab-df-convert {\n",
              "      background-color: #E8F0FE;\n",
              "      border: none;\n",
              "      border-radius: 50%;\n",
              "      cursor: pointer;\n",
              "      display: none;\n",
              "      fill: #1967D2;\n",
              "      height: 32px;\n",
              "      padding: 0 0 0 0;\n",
              "      width: 32px;\n",
              "    }\n",
              "\n",
              "    .colab-df-convert:hover {\n",
              "      background-color: #E2EBFA;\n",
              "      box-shadow: 0px 1px 2px rgba(60, 64, 67, 0.3), 0px 1px 3px 1px rgba(60, 64, 67, 0.15);\n",
              "      fill: #174EA6;\n",
              "    }\n",
              "\n",
              "    .colab-df-buttons div {\n",
              "      margin-bottom: 4px;\n",
              "    }\n",
              "\n",
              "    [theme=dark] .colab-df-convert {\n",
              "      background-color: #3B4455;\n",
              "      fill: #D2E3FC;\n",
              "    }\n",
              "\n",
              "    [theme=dark] .colab-df-convert:hover {\n",
              "      background-color: #434B5C;\n",
              "      box-shadow: 0px 1px 3px 1px rgba(0, 0, 0, 0.15);\n",
              "      filter: drop-shadow(0px 1px 2px rgba(0, 0, 0, 0.3));\n",
              "      fill: #FFFFFF;\n",
              "    }\n",
              "  </style>\n",
              "\n",
              "    <script>\n",
              "      const buttonEl =\n",
              "        document.querySelector('#df-ce8bd9b5-230d-4d1e-905e-c2a87c20a086 button.colab-df-convert');\n",
              "      buttonEl.style.display =\n",
              "        google.colab.kernel.accessAllowed ? 'block' : 'none';\n",
              "\n",
              "      async function convertToInteractive(key) {\n",
              "        const element = document.querySelector('#df-ce8bd9b5-230d-4d1e-905e-c2a87c20a086');\n",
              "        const dataTable =\n",
              "          await google.colab.kernel.invokeFunction('convertToInteractive',\n",
              "                                                    [key], {});\n",
              "        if (!dataTable) return;\n",
              "\n",
              "        const docLinkHtml = 'Like what you see? Visit the ' +\n",
              "          '<a target=\"_blank\" href=https://colab.research.google.com/notebooks/data_table.ipynb>data table notebook</a>'\n",
              "          + ' to learn more about interactive tables.';\n",
              "        element.innerHTML = '';\n",
              "        dataTable['output_type'] = 'display_data';\n",
              "        await google.colab.output.renderOutput(dataTable, element);\n",
              "        const docLink = document.createElement('div');\n",
              "        docLink.innerHTML = docLinkHtml;\n",
              "        element.appendChild(docLink);\n",
              "      }\n",
              "    </script>\n",
              "  </div>\n",
              "\n",
              "\n",
              "<div id=\"df-422662e2-e866-4220-8e7a-4f225eaf7eb4\">\n",
              "  <button class=\"colab-df-quickchart\" onclick=\"quickchart('df-422662e2-e866-4220-8e7a-4f225eaf7eb4')\"\n",
              "            title=\"Suggest charts.\"\n",
              "            style=\"display:none;\">\n",
              "\n",
              "<svg xmlns=\"http://www.w3.org/2000/svg\" height=\"24px\"viewBox=\"0 0 24 24\"\n",
              "     width=\"24px\">\n",
              "    <g>\n",
              "        <path d=\"M19 3H5c-1.1 0-2 .9-2 2v14c0 1.1.9 2 2 2h14c1.1 0 2-.9 2-2V5c0-1.1-.9-2-2-2zM9 17H7v-7h2v7zm4 0h-2V7h2v10zm4 0h-2v-4h2v4z\"/>\n",
              "    </g>\n",
              "</svg>\n",
              "  </button>\n",
              "\n",
              "<style>\n",
              "  .colab-df-quickchart {\n",
              "    background-color: #E8F0FE;\n",
              "    border: none;\n",
              "    border-radius: 50%;\n",
              "    cursor: pointer;\n",
              "    display: none;\n",
              "    fill: #1967D2;\n",
              "    height: 32px;\n",
              "    padding: 0 0 0 0;\n",
              "    width: 32px;\n",
              "  }\n",
              "\n",
              "  .colab-df-quickchart:hover {\n",
              "    background-color: #E2EBFA;\n",
              "    box-shadow: 0px 1px 2px rgba(60, 64, 67, 0.3), 0px 1px 3px 1px rgba(60, 64, 67, 0.15);\n",
              "    fill: #174EA6;\n",
              "  }\n",
              "\n",
              "  [theme=dark] .colab-df-quickchart {\n",
              "    background-color: #3B4455;\n",
              "    fill: #D2E3FC;\n",
              "  }\n",
              "\n",
              "  [theme=dark] .colab-df-quickchart:hover {\n",
              "    background-color: #434B5C;\n",
              "    box-shadow: 0px 1px 3px 1px rgba(0, 0, 0, 0.15);\n",
              "    filter: drop-shadow(0px 1px 2px rgba(0, 0, 0, 0.3));\n",
              "    fill: #FFFFFF;\n",
              "  }\n",
              "</style>\n",
              "\n",
              "  <script>\n",
              "    async function quickchart(key) {\n",
              "      const charts = await google.colab.kernel.invokeFunction(\n",
              "          'suggestCharts', [key], {});\n",
              "    }\n",
              "    (() => {\n",
              "      let quickchartButtonEl =\n",
              "        document.querySelector('#df-422662e2-e866-4220-8e7a-4f225eaf7eb4 button');\n",
              "      quickchartButtonEl.style.display =\n",
              "        google.colab.kernel.accessAllowed ? 'block' : 'none';\n",
              "    })();\n",
              "  </script>\n",
              "</div>\n",
              "    </div>\n",
              "  </div>\n"
            ]
          },
          "metadata": {},
          "execution_count": 20
        }
      ]
    },
    {
      "cell_type": "markdown",
      "source": [
        "## Representação de valores numéricos\n",
        "### Internamente, todos os números são representados utilizando o sistema binários, ou seja, de base 2. Esses sistema permite apenas os dígitos 0 e 1. Para representar números maiores, combinamos vários dígitos, exatamente como fazemos com o sistema decimal, ou de base 10, que utilizamos.\n",
        "### Vejamos primeiro como isso funciona na base 10:\n",
        "### 532 = 5 x 10² + 10¹ + 1 x 10°\n",
        "   ###  = 5 x 100 + 3 x 10 + 1 x 1\n",
        "   ###  = 500 + 30 + 1\n",
        "   ###  = 531"
      ],
      "metadata": {
        "id": "fCe_fPTk6ynK"
      }
    },
    {
      "cell_type": "code",
      "source": [
        "a = 5\n",
        "b = 100\n",
        "c = 3\n",
        "d = 10\n",
        "e = 1\n",
        "soma = a * b + c * d + e * e\n"
      ],
      "metadata": {
        "id": "jsYAEQ3-7fhI"
      },
      "execution_count": 25,
      "outputs": []
    },
    {
      "cell_type": "code",
      "source": [
        "print(soma)"
      ],
      "metadata": {
        "id": "dg7iEOMxGj7b",
        "outputId": "aa7d0b47-a0c0-4421-9cf3-87488b976472",
        "colab": {
          "base_uri": "https://localhost:8080/"
        }
      },
      "execution_count": 26,
      "outputs": [
        {
          "output_type": "stream",
          "name": "stdout",
          "text": [
            "531\n"
          ]
        }
      ]
    },
    {
      "cell_type": "code",
      "source": [
        "5 * 100 + 3 * 10 + 1 * 1"
      ],
      "metadata": {
        "id": "ysjr3969Hx83",
        "outputId": "fd874e7c-cdca-4a73-e44b-049abeb1303c",
        "colab": {
          "base_uri": "https://localhost:8080/"
        }
      },
      "execution_count": 27,
      "outputs": [
        {
          "output_type": "execute_result",
          "data": {
            "text/plain": [
              "531"
            ]
          },
          "metadata": {},
          "execution_count": 27
        }
      ]
    },
    {
      "cell_type": "code",
      "source": [
        "(5 * 10**2)+(3 * 10**1)+(1 * 10**0)"
      ],
      "metadata": {
        "id": "-FvXYX0xH-yf",
        "outputId": "8a143f5a-f3b9-47aa-e40d-bbc72a281185",
        "colab": {
          "base_uri": "https://localhost:8080/"
        }
      },
      "execution_count": 28,
      "outputs": [
        {
          "output_type": "execute_result",
          "data": {
            "text/plain": [
              "531"
            ]
          },
          "metadata": {},
          "execution_count": 28
        }
      ]
    },
    {
      "cell_type": "code",
      "source": [
        "(1 * 2**3)+(0 * 2**2)+(1 * 2**1)+(0 * 2**0)"
      ],
      "metadata": {
        "id": "qFJRGdwgIN3-",
        "outputId": "50af0853-f5f3-4628-f2eb-c3d77ea2a7ed",
        "colab": {
          "base_uri": "https://localhost:8080/"
        }
      },
      "execution_count": 29,
      "outputs": [
        {
          "output_type": "execute_result",
          "data": {
            "text/plain": [
              "10"
            ]
          },
          "metadata": {},
          "execution_count": 29
        }
      ]
    },
    {
      "cell_type": "code",
      "source": [
        "3 * 0.1"
      ],
      "metadata": {
        "id": "MmbYZZcdJimb",
        "outputId": "e51827f5-90ae-4f3e-dc14-3ddbbd934522",
        "colab": {
          "base_uri": "https://localhost:8080/"
        }
      },
      "execution_count": 32,
      "outputs": [
        {
          "output_type": "execute_result",
          "data": {
            "text/plain": [
              "0.30000000000000004"
            ]
          },
          "metadata": {},
          "execution_count": 32
        }
      ]
    },
    {
      "cell_type": "code",
      "source": [
        "a = 0b10 # Base 2 - binário"
      ],
      "metadata": {
        "id": "Z-umbyCxKhd5"
      },
      "execution_count": 33,
      "outputs": []
    },
    {
      "cell_type": "code",
      "source": [
        "a"
      ],
      "metadata": {
        "id": "nJ7RSNWnLQSY",
        "outputId": "871a1061-3ee0-4b45-de2b-de30a7e1d317",
        "colab": {
          "base_uri": "https://localhost:8080/"
        }
      },
      "execution_count": 34,
      "outputs": [
        {
          "output_type": "execute_result",
          "data": {
            "text/plain": [
              "2"
            ]
          },
          "metadata": {},
          "execution_count": 34
        }
      ]
    },
    {
      "cell_type": "code",
      "source": [
        "b = 0x10 # Base 16 - hexadecimal"
      ],
      "metadata": {
        "id": "-ziRnTTpLSjH"
      },
      "execution_count": 35,
      "outputs": []
    },
    {
      "cell_type": "code",
      "source": [
        "b"
      ],
      "metadata": {
        "id": "ixSpJlstLaE4",
        "outputId": "7d90f768-3504-4094-8885-c3d8a478f0e7",
        "colab": {
          "base_uri": "https://localhost:8080/"
        }
      },
      "execution_count": 36,
      "outputs": [
        {
          "output_type": "execute_result",
          "data": {
            "text/plain": [
              "16"
            ]
          },
          "metadata": {},
          "execution_count": 36
        }
      ]
    },
    {
      "cell_type": "code",
      "source": [
        "c = 0o10 # Base 8 - Octal"
      ],
      "metadata": {
        "id": "Ch7EN-6ILamR"
      },
      "execution_count": 37,
      "outputs": []
    },
    {
      "cell_type": "code",
      "source": [
        "c"
      ],
      "metadata": {
        "id": "ZHKCzUscLhgv",
        "outputId": "ba07cb6a-5b85-4d7f-8654-95e4a56c0081",
        "colab": {
          "base_uri": "https://localhost:8080/"
        }
      },
      "execution_count": 38,
      "outputs": [
        {
          "output_type": "execute_result",
          "data": {
            "text/plain": [
              "8"
            ]
          },
          "metadata": {},
          "execution_count": 38
        }
      ]
    },
    {
      "cell_type": "markdown",
      "source": [
        "## 3.3 Variável do tipo Lógico\n",
        "#### Muitas vezes, queremos armazenar um conteúdo simples: verdadeiro ou falso em uma variável. Nesse caso, utilizamos um tipo de variável tipo lógico ou booleano. Em Python, escrevemos **True** para verdadeiro e **False** para falso. Observe que o T e o F são escritos com letras maiúsculas:\n",
        "\n",
        "#### resultado = **True**\n",
        "#### aprovado = **False**"
      ],
      "metadata": {
        "id": "7oGsNY0pLiNn"
      }
    },
    {
      "cell_type": "markdown",
      "source": [
        "## 3.3.1 Operadores relacionais\n",
        "#### Para realizarmos comparações lógicos, utilizaremos operadores realcionais. A lista de operadores relazionais suportados em Python é apresentada na Tabela 3.2"
      ],
      "metadata": {
        "id": "zjTpouB_LyMm"
      }
    },
    {
      "cell_type": "code",
      "source": [
        "# Tabela 3.2 - Operadores relacionais\n",
        "dados3 = {'Operador': ['==', '>', '<', '!=', '>=', '<='],\n",
        "          'Operador': ['igualdade', 'maior que', 'menor que', 'diferente', 'maior ou igual', 'menor ou igual'],\n",
        "          'Símbolo matemático': ['=', '>', '<', '≠', '≥', '≤']}\n",
        "df = pd.DataFrame(dados3)"
      ],
      "metadata": {
        "id": "XEbfo5m3L--G"
      },
      "execution_count": 42,
      "outputs": []
    },
    {
      "cell_type": "code",
      "source": [
        "df"
      ],
      "metadata": {
        "id": "SzpiS5qQT26I",
        "outputId": "617e2b75-ea03-49d4-88d7-df68be5eedac",
        "colab": {
          "base_uri": "https://localhost:8080/",
          "height": 266
        }
      },
      "execution_count": 43,
      "outputs": [
        {
          "output_type": "execute_result",
          "data": {
            "text/plain": [
              "         Operador Símbolo matemático\n",
              "0       igualdade                  =\n",
              "1       maior que                  >\n",
              "2       menor que                  <\n",
              "3       diferente                  ≠\n",
              "4  maior ou igual                  ≥\n",
              "5  menor ou igual                  ≤"
            ],
            "text/html": [
              "\n",
              "  <div id=\"df-cf02453f-cb3e-4f01-b46a-a58cb4042050\" class=\"colab-df-container\">\n",
              "    <div>\n",
              "<style scoped>\n",
              "    .dataframe tbody tr th:only-of-type {\n",
              "        vertical-align: middle;\n",
              "    }\n",
              "\n",
              "    .dataframe tbody tr th {\n",
              "        vertical-align: top;\n",
              "    }\n",
              "\n",
              "    .dataframe thead th {\n",
              "        text-align: right;\n",
              "    }\n",
              "</style>\n",
              "<table border=\"1\" class=\"dataframe\">\n",
              "  <thead>\n",
              "    <tr style=\"text-align: right;\">\n",
              "      <th></th>\n",
              "      <th>Operador</th>\n",
              "      <th>Símbolo matemático</th>\n",
              "    </tr>\n",
              "  </thead>\n",
              "  <tbody>\n",
              "    <tr>\n",
              "      <th>0</th>\n",
              "      <td>igualdade</td>\n",
              "      <td>=</td>\n",
              "    </tr>\n",
              "    <tr>\n",
              "      <th>1</th>\n",
              "      <td>maior que</td>\n",
              "      <td>&gt;</td>\n",
              "    </tr>\n",
              "    <tr>\n",
              "      <th>2</th>\n",
              "      <td>menor que</td>\n",
              "      <td>&lt;</td>\n",
              "    </tr>\n",
              "    <tr>\n",
              "      <th>3</th>\n",
              "      <td>diferente</td>\n",
              "      <td>≠</td>\n",
              "    </tr>\n",
              "    <tr>\n",
              "      <th>4</th>\n",
              "      <td>maior ou igual</td>\n",
              "      <td>≥</td>\n",
              "    </tr>\n",
              "    <tr>\n",
              "      <th>5</th>\n",
              "      <td>menor ou igual</td>\n",
              "      <td>≤</td>\n",
              "    </tr>\n",
              "  </tbody>\n",
              "</table>\n",
              "</div>\n",
              "    <div class=\"colab-df-buttons\">\n",
              "\n",
              "  <div class=\"colab-df-container\">\n",
              "    <button class=\"colab-df-convert\" onclick=\"convertToInteractive('df-cf02453f-cb3e-4f01-b46a-a58cb4042050')\"\n",
              "            title=\"Convert this dataframe to an interactive table.\"\n",
              "            style=\"display:none;\">\n",
              "\n",
              "  <svg xmlns=\"http://www.w3.org/2000/svg\" height=\"24px\" viewBox=\"0 -960 960 960\">\n",
              "    <path d=\"M120-120v-720h720v720H120Zm60-500h600v-160H180v160Zm220 220h160v-160H400v160Zm0 220h160v-160H400v160ZM180-400h160v-160H180v160Zm440 0h160v-160H620v160ZM180-180h160v-160H180v160Zm440 0h160v-160H620v160Z\"/>\n",
              "  </svg>\n",
              "    </button>\n",
              "\n",
              "  <style>\n",
              "    .colab-df-container {\n",
              "      display:flex;\n",
              "      gap: 12px;\n",
              "    }\n",
              "\n",
              "    .colab-df-convert {\n",
              "      background-color: #E8F0FE;\n",
              "      border: none;\n",
              "      border-radius: 50%;\n",
              "      cursor: pointer;\n",
              "      display: none;\n",
              "      fill: #1967D2;\n",
              "      height: 32px;\n",
              "      padding: 0 0 0 0;\n",
              "      width: 32px;\n",
              "    }\n",
              "\n",
              "    .colab-df-convert:hover {\n",
              "      background-color: #E2EBFA;\n",
              "      box-shadow: 0px 1px 2px rgba(60, 64, 67, 0.3), 0px 1px 3px 1px rgba(60, 64, 67, 0.15);\n",
              "      fill: #174EA6;\n",
              "    }\n",
              "\n",
              "    .colab-df-buttons div {\n",
              "      margin-bottom: 4px;\n",
              "    }\n",
              "\n",
              "    [theme=dark] .colab-df-convert {\n",
              "      background-color: #3B4455;\n",
              "      fill: #D2E3FC;\n",
              "    }\n",
              "\n",
              "    [theme=dark] .colab-df-convert:hover {\n",
              "      background-color: #434B5C;\n",
              "      box-shadow: 0px 1px 3px 1px rgba(0, 0, 0, 0.15);\n",
              "      filter: drop-shadow(0px 1px 2px rgba(0, 0, 0, 0.3));\n",
              "      fill: #FFFFFF;\n",
              "    }\n",
              "  </style>\n",
              "\n",
              "    <script>\n",
              "      const buttonEl =\n",
              "        document.querySelector('#df-cf02453f-cb3e-4f01-b46a-a58cb4042050 button.colab-df-convert');\n",
              "      buttonEl.style.display =\n",
              "        google.colab.kernel.accessAllowed ? 'block' : 'none';\n",
              "\n",
              "      async function convertToInteractive(key) {\n",
              "        const element = document.querySelector('#df-cf02453f-cb3e-4f01-b46a-a58cb4042050');\n",
              "        const dataTable =\n",
              "          await google.colab.kernel.invokeFunction('convertToInteractive',\n",
              "                                                    [key], {});\n",
              "        if (!dataTable) return;\n",
              "\n",
              "        const docLinkHtml = 'Like what you see? Visit the ' +\n",
              "          '<a target=\"_blank\" href=https://colab.research.google.com/notebooks/data_table.ipynb>data table notebook</a>'\n",
              "          + ' to learn more about interactive tables.';\n",
              "        element.innerHTML = '';\n",
              "        dataTable['output_type'] = 'display_data';\n",
              "        await google.colab.output.renderOutput(dataTable, element);\n",
              "        const docLink = document.createElement('div');\n",
              "        docLink.innerHTML = docLinkHtml;\n",
              "        element.appendChild(docLink);\n",
              "      }\n",
              "    </script>\n",
              "  </div>\n",
              "\n",
              "\n",
              "<div id=\"df-b4f7f142-6a44-46e1-b472-93eefb4c9511\">\n",
              "  <button class=\"colab-df-quickchart\" onclick=\"quickchart('df-b4f7f142-6a44-46e1-b472-93eefb4c9511')\"\n",
              "            title=\"Suggest charts.\"\n",
              "            style=\"display:none;\">\n",
              "\n",
              "<svg xmlns=\"http://www.w3.org/2000/svg\" height=\"24px\"viewBox=\"0 0 24 24\"\n",
              "     width=\"24px\">\n",
              "    <g>\n",
              "        <path d=\"M19 3H5c-1.1 0-2 .9-2 2v14c0 1.1.9 2 2 2h14c1.1 0 2-.9 2-2V5c0-1.1-.9-2-2-2zM9 17H7v-7h2v7zm4 0h-2V7h2v10zm4 0h-2v-4h2v4z\"/>\n",
              "    </g>\n",
              "</svg>\n",
              "  </button>\n",
              "\n",
              "<style>\n",
              "  .colab-df-quickchart {\n",
              "    background-color: #E8F0FE;\n",
              "    border: none;\n",
              "    border-radius: 50%;\n",
              "    cursor: pointer;\n",
              "    display: none;\n",
              "    fill: #1967D2;\n",
              "    height: 32px;\n",
              "    padding: 0 0 0 0;\n",
              "    width: 32px;\n",
              "  }\n",
              "\n",
              "  .colab-df-quickchart:hover {\n",
              "    background-color: #E2EBFA;\n",
              "    box-shadow: 0px 1px 2px rgba(60, 64, 67, 0.3), 0px 1px 3px 1px rgba(60, 64, 67, 0.15);\n",
              "    fill: #174EA6;\n",
              "  }\n",
              "\n",
              "  [theme=dark] .colab-df-quickchart {\n",
              "    background-color: #3B4455;\n",
              "    fill: #D2E3FC;\n",
              "  }\n",
              "\n",
              "  [theme=dark] .colab-df-quickchart:hover {\n",
              "    background-color: #434B5C;\n",
              "    box-shadow: 0px 1px 3px 1px rgba(0, 0, 0, 0.15);\n",
              "    filter: drop-shadow(0px 1px 2px rgba(0, 0, 0, 0.3));\n",
              "    fill: #FFFFFF;\n",
              "  }\n",
              "</style>\n",
              "\n",
              "  <script>\n",
              "    async function quickchart(key) {\n",
              "      const charts = await google.colab.kernel.invokeFunction(\n",
              "          'suggestCharts', [key], {});\n",
              "    }\n",
              "    (() => {\n",
              "      let quickchartButtonEl =\n",
              "        document.querySelector('#df-b4f7f142-6a44-46e1-b472-93eefb4c9511 button');\n",
              "      quickchartButtonEl.style.display =\n",
              "        google.colab.kernel.accessAllowed ? 'block' : 'none';\n",
              "    })();\n",
              "  </script>\n",
              "</div>\n",
              "    </div>\n",
              "  </div>\n"
            ]
          },
          "metadata": {},
          "execution_count": 43
        }
      ]
    },
    {
      "cell_type": "markdown",
      "source": [
        "Exercitando:"
      ],
      "metadata": {
        "id": "Ka2Ngeu9T30m"
      }
    },
    {
      "cell_type": "code",
      "source": [
        "a = 1 # a recebe 1\n",
        "b = 5 # a recebe 5\n",
        "c = 2 # a recebe 2\n",
        "d = 1 # a recebe 1\n",
        "a == b  # a é igual a b ?\n"
      ],
      "metadata": {
        "id": "9D6Z0kORUMRN",
        "outputId": "df47be0a-d155-4b74-ae6a-6208470eef2a",
        "colab": {
          "base_uri": "https://localhost:8080/"
        }
      },
      "execution_count": 44,
      "outputs": [
        {
          "output_type": "execute_result",
          "data": {
            "text/plain": [
              "False"
            ]
          },
          "metadata": {},
          "execution_count": 44
        }
      ]
    },
    {
      "cell_type": "code",
      "source": [
        "b > a"
      ],
      "metadata": {
        "id": "-LFr9BvxUou8",
        "outputId": "9a67e820-d651-4007-fcba-ff0ebfa35725",
        "colab": {
          "base_uri": "https://localhost:8080/"
        }
      },
      "execution_count": 45,
      "outputs": [
        {
          "output_type": "execute_result",
          "data": {
            "text/plain": [
              "True"
            ]
          },
          "metadata": {},
          "execution_count": 45
        }
      ]
    },
    {
      "cell_type": "code",
      "source": [
        "a < b"
      ],
      "metadata": {
        "id": "4rPRH-mgUsGk",
        "outputId": "b59fc0b4-a8ac-459b-804b-696374ded3d6",
        "colab": {
          "base_uri": "https://localhost:8080/"
        }
      },
      "execution_count": 46,
      "outputs": [
        {
          "output_type": "execute_result",
          "data": {
            "text/plain": [
              "True"
            ]
          },
          "metadata": {},
          "execution_count": 46
        }
      ]
    },
    {
      "cell_type": "code",
      "source": [
        "a == d"
      ],
      "metadata": {
        "id": "OBxbWLgqUvH8",
        "outputId": "e7eaaa40-68ba-42a1-9a7f-8cc317fab2ea",
        "colab": {
          "base_uri": "https://localhost:8080/"
        }
      },
      "execution_count": 47,
      "outputs": [
        {
          "output_type": "execute_result",
          "data": {
            "text/plain": [
              "True"
            ]
          },
          "metadata": {},
          "execution_count": 47
        }
      ]
    },
    {
      "cell_type": "code",
      "source": [
        "b >= a"
      ],
      "metadata": {
        "id": "UAaRb-YjUxya",
        "outputId": "73222843-d9db-46fe-aa39-df9e1ef5b47f",
        "colab": {
          "base_uri": "https://localhost:8080/"
        }
      },
      "execution_count": 48,
      "outputs": [
        {
          "output_type": "execute_result",
          "data": {
            "text/plain": [
              "True"
            ]
          },
          "metadata": {},
          "execution_count": 48
        }
      ]
    },
    {
      "cell_type": "code",
      "source": [
        "c <= b"
      ],
      "metadata": {
        "id": "xwdHix0jU1g0",
        "outputId": "04f6db16-17f9-4612-a91c-146827e47a3a",
        "colab": {
          "base_uri": "https://localhost:8080/"
        }
      },
      "execution_count": 49,
      "outputs": [
        {
          "output_type": "execute_result",
          "data": {
            "text/plain": [
              "True"
            ]
          },
          "metadata": {},
          "execution_count": 49
        }
      ]
    },
    {
      "cell_type": "code",
      "source": [
        "d != a"
      ],
      "metadata": {
        "id": "ol4ByaBtU5TX",
        "outputId": "cbeb6beb-5c36-4458-bc68-093da278c1ae",
        "colab": {
          "base_uri": "https://localhost:8080/"
        }
      },
      "execution_count": 50,
      "outputs": [
        {
          "output_type": "execute_result",
          "data": {
            "text/plain": [
              "False"
            ]
          },
          "metadata": {},
          "execution_count": 50
        }
      ]
    },
    {
      "cell_type": "code",
      "source": [
        "d != b"
      ],
      "metadata": {
        "id": "fKjToVy7U-JT",
        "outputId": "ced7b364-3161-46d2-e760-b2caa46236c0",
        "colab": {
          "base_uri": "https://localhost:8080/"
        }
      },
      "execution_count": 51,
      "outputs": [
        {
          "output_type": "execute_result",
          "data": {
            "text/plain": [
              "True"
            ]
          },
          "metadata": {},
          "execution_count": 51
        }
      ]
    },
    {
      "cell_type": "code",
      "source": [],
      "metadata": {
        "id": "t1_aABUhVA2p"
      },
      "execution_count": null,
      "outputs": []
    }
  ]
}