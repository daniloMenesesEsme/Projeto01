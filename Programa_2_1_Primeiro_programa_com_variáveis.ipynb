{
  "nbformat": 4,
  "nbformat_minor": 0,
  "metadata": {
    "colab": {
      "provenance": [],
      "include_colab_link": true
    },
    "kernelspec": {
      "name": "python3",
      "display_name": "Python 3"
    },
    "language_info": {
      "name": "python"
    }
  },
  "cells": [
    {
      "cell_type": "markdown",
      "metadata": {
        "id": "view-in-github",
        "colab_type": "text"
      },
      "source": [
        "<a href=\"https://colab.research.google.com/github/daniloMenesesEsme/Projeto01/blob/main/Programa_2_1_Primeiro_programa_com_vari%C3%A1veis.ipynb\" target=\"_parent\"><img src=\"https://colab.research.google.com/assets/colab-badge.svg\" alt=\"Open In Colab\"/></a>"
      ]
    },
    {
      "cell_type": "markdown",
      "source": [
        "Vejamos o que cada linha significa. A primeira linha inicia com #. O # é o símbolo usado para indicar que estamos comentando ou fazendo um comentário.\n",
        "Comentários são ignorados pelo interpretador Python e podemos escrever o quisermos."
      ],
      "metadata": {
        "id": "yevonvYeqPdE"
      }
    },
    {
      "cell_type": "code",
      "source": [
        "# Programa 2.1 - Primeiro programa com variáveis\n",
        "a = 2\n",
        "b = 3\n",
        "print(a + b)"
      ],
      "metadata": {
        "id": "bqIYB7y3rDEI",
        "colab": {
          "base_uri": "https://localhost:8080/"
        },
        "outputId": "5c987683-8dcf-408a-938a-82622254b92e"
      },
      "execution_count": null,
      "outputs": [
        {
          "output_type": "stream",
          "name": "stdout",
          "text": [
            "5\n"
          ]
        }
      ]
    },
    {
      "cell_type": "code",
      "source": [
        "# Programa 2.2 - Cálculo de aumento de salário\n",
        "salário = 1500\n",
        "aumento = 5\n",
        "print(salário + (salário * aumento / 100))"
      ],
      "metadata": {
        "colab": {
          "base_uri": "https://localhost:8080/"
        },
        "id": "8XDNWwXpswHQ",
        "outputId": "accf2094-918a-421b-e8df-ed6c01b7fb0a"
      },
      "execution_count": null,
      "outputs": [
        {
          "output_type": "stream",
          "name": "stdout",
          "text": [
            "1575.0\n"
          ]
        }
      ]
    },
    {
      "cell_type": "code",
      "source": [
        "# programa 2.3 - Alternativa para o cálculo de aumento de salário\n",
        "print(1500 + (1500 * 5 / 100))"
      ],
      "metadata": {
        "colab": {
          "base_uri": "https://localhost:8080/"
        },
        "id": "umqNXa1StaIU",
        "outputId": "e7544d1a-f1bc-46c0-c922-6ccde49efa18"
      },
      "execution_count": null,
      "outputs": [
        {
          "output_type": "stream",
          "name": "stdout",
          "text": [
            "1575.0\n"
          ]
        }
      ]
    },
    {
      "cell_type": "markdown",
      "source": [
        "## Hora de exercitar"
      ],
      "metadata": {
        "id": "-Z2uetFvtykA"
      }
    },
    {
      "cell_type": "code",
      "source": [
        "# Exercício 2.3 - Faça um programa que exiba seu nome na tela.\n",
        "nome = 'Danilo'\n"
      ],
      "metadata": {
        "id": "FFM76V9tuyMu"
      },
      "execution_count": null,
      "outputs": []
    },
    {
      "cell_type": "code",
      "source": [
        "print(nome)"
      ],
      "metadata": {
        "colab": {
          "base_uri": "https://localhost:8080/"
        },
        "id": "x0IKnH1tvO0A",
        "outputId": "a4531424-9cac-4fdb-f23d-f62e654c3e33"
      },
      "execution_count": null,
      "outputs": [
        {
          "output_type": "stream",
          "name": "stdout",
          "text": [
            "Danilo\n"
          ]
        }
      ]
    },
    {
      "cell_type": "code",
      "source": [
        "# Exercício 2.4 - Escreva um programa que exiba o resultado de 2a x 3b, em que 'a' vale 3 e 'b' vale 5\n",
        "a = 3\n",
        "b = 5\n",
        "print(a * b)\n"
      ],
      "metadata": {
        "colab": {
          "base_uri": "https://localhost:8080/"
        },
        "id": "TkI8Tlb9vRQf",
        "outputId": "5d92df38-a7bb-4ded-8b1b-3f8b3db25968"
      },
      "execution_count": null,
      "outputs": [
        {
          "output_type": "stream",
          "name": "stdout",
          "text": [
            "15\n"
          ]
        }
      ]
    },
    {
      "cell_type": "code",
      "source": [
        "# Exercício 2.5 - Escreva um programa que calcule a soma de três variáveis e imprima o resultado na tela.\n",
        "a = 2\n",
        "b = 3\n",
        "c = 4\n",
        "print(a+b+c)\n"
      ],
      "metadata": {
        "colab": {
          "base_uri": "https://localhost:8080/"
        },
        "id": "65WPdRSMwOUX",
        "outputId": "2cb52ef6-f86f-4877-9d3b-c1f7a7ea79b2"
      },
      "execution_count": null,
      "outputs": [
        {
          "output_type": "stream",
          "name": "stdout",
          "text": [
            "9\n"
          ]
        }
      ]
    },
    {
      "cell_type": "code",
      "source": [
        "# Exercício 2.6 - Modifique o Programa 2.2, de forma que ele calcule um aumento de 15% para um salário de R$ 750\n",
        "salário = 750\n",
        "aumento = 15\n",
        "print(salário + (salário * aumento / 100))\n"
      ],
      "metadata": {
        "colab": {
          "base_uri": "https://localhost:8080/"
        },
        "id": "4Vp9V4RFExN-",
        "outputId": "65b4fa71-f0c1-4f6f-d47e-b5068b162db7"
      },
      "execution_count": null,
      "outputs": [
        {
          "output_type": "stream",
          "name": "stdout",
          "text": [
            "862.5\n"
          ]
        }
      ]
    },
    {
      "cell_type": "markdown",
      "source": [
        "## CAPÍTULO 3 - Variáveis e entrada de dados"
      ],
      "metadata": {
        "id": "Q-9iFbayFSUv"
      }
    },
    {
      "cell_type": "markdown",
      "source": [
        "Em Python, nome de variáveis devem inicir obrigatoriamente com uma letra ou com o símbolo sublinha (_). Após a primeira caractere, podem conter letras, números e o sublinha. Vejamos exemplo de nomes válidos e inválidos em Python na Tabela 3.1.\n",
        "\n",
        "\n",
        "\n"
      ],
      "metadata": {
        "id": "AuqYdDXHFhVP"
      }
    },
    {
      "cell_type": "code",
      "source": [
        "import pandas as pd"
      ],
      "metadata": {
        "id": "avF0ksNAoFeH"
      },
      "execution_count": 1,
      "outputs": []
    },
    {
      "cell_type": "code",
      "source": [
        "data = {'Nome': ['a1', 'velocidade', 'velocidade90', 'salário_médio', 'salário médio', '_b', '1a'],\n",
        "        'Válido': ['sim', 'sim', 'sim', 'sim', 'Não', 'sim', 'Não'],\n",
        "        'Comentário': ['Embora contenha um número, o nome a1 inicia com letra.', 'Nome formado por letras.',\n",
        "                       'Nome formado por letras e números, mas iniciado por letra.', 'O símbolo sublinha (_) é permitido e facilita a leitura de nomes grandes.',\n",
        "                       'Nomes de variáveis não podem conter espeços em branco.', 'O sublinha (_) é aceito em nomes de variáveis, mesmo no início.',\n",
        "                       'Nomes de variáveis não podem começar com números.']}\n",
        "df = pd.DataFrame(data)"
      ],
      "metadata": {
        "id": "TkFS0vIyoKND"
      },
      "execution_count": 11,
      "outputs": []
    },
    {
      "cell_type": "code",
      "source": [
        "df"
      ],
      "metadata": {
        "colab": {
          "base_uri": "https://localhost:8080/",
          "height": 290
        },
        "id": "p6G_owt_pWO2",
        "outputId": "ad5ccdec-d1bd-441a-b065-b342550c7032"
      },
      "execution_count": 12,
      "outputs": [
        {
          "output_type": "execute_result",
          "data": {
            "text/plain": [
              "            Nome Válido                                         Comentário\n",
              "0             a1    sim  Embora contenha um número, o nome a1 inicia co...\n",
              "1     velocidade    sim                           Nome formado por letras.\n",
              "2   velocidade90    sim  Nome formado por letras e números, mas iniciad...\n",
              "3  salário_médio    sim  O símbolo sublinha (_) é permitido e facilita ...\n",
              "4  salário médio    Não  Nomes de variáveis não podem conter espeços em...\n",
              "5             _b    sim  O sublinha (_) é aceito em nomes de variáveis,...\n",
              "6             1a    Não  Nomes de variáveis não podem começar com números."
            ],
            "text/html": [
              "\n",
              "  <div id=\"df-46408940-f860-4850-b67f-daa07adf0dcd\" class=\"colab-df-container\">\n",
              "    <div>\n",
              "<style scoped>\n",
              "    .dataframe tbody tr th:only-of-type {\n",
              "        vertical-align: middle;\n",
              "    }\n",
              "\n",
              "    .dataframe tbody tr th {\n",
              "        vertical-align: top;\n",
              "    }\n",
              "\n",
              "    .dataframe thead th {\n",
              "        text-align: right;\n",
              "    }\n",
              "</style>\n",
              "<table border=\"1\" class=\"dataframe\">\n",
              "  <thead>\n",
              "    <tr style=\"text-align: right;\">\n",
              "      <th></th>\n",
              "      <th>Nome</th>\n",
              "      <th>Válido</th>\n",
              "      <th>Comentário</th>\n",
              "    </tr>\n",
              "  </thead>\n",
              "  <tbody>\n",
              "    <tr>\n",
              "      <th>0</th>\n",
              "      <td>a1</td>\n",
              "      <td>sim</td>\n",
              "      <td>Embora contenha um número, o nome a1 inicia co...</td>\n",
              "    </tr>\n",
              "    <tr>\n",
              "      <th>1</th>\n",
              "      <td>velocidade</td>\n",
              "      <td>sim</td>\n",
              "      <td>Nome formado por letras.</td>\n",
              "    </tr>\n",
              "    <tr>\n",
              "      <th>2</th>\n",
              "      <td>velocidade90</td>\n",
              "      <td>sim</td>\n",
              "      <td>Nome formado por letras e números, mas iniciad...</td>\n",
              "    </tr>\n",
              "    <tr>\n",
              "      <th>3</th>\n",
              "      <td>salário_médio</td>\n",
              "      <td>sim</td>\n",
              "      <td>O símbolo sublinha (_) é permitido e facilita ...</td>\n",
              "    </tr>\n",
              "    <tr>\n",
              "      <th>4</th>\n",
              "      <td>salário médio</td>\n",
              "      <td>Não</td>\n",
              "      <td>Nomes de variáveis não podem conter espeços em...</td>\n",
              "    </tr>\n",
              "    <tr>\n",
              "      <th>5</th>\n",
              "      <td>_b</td>\n",
              "      <td>sim</td>\n",
              "      <td>O sublinha (_) é aceito em nomes de variáveis,...</td>\n",
              "    </tr>\n",
              "    <tr>\n",
              "      <th>6</th>\n",
              "      <td>1a</td>\n",
              "      <td>Não</td>\n",
              "      <td>Nomes de variáveis não podem começar com números.</td>\n",
              "    </tr>\n",
              "  </tbody>\n",
              "</table>\n",
              "</div>\n",
              "    <div class=\"colab-df-buttons\">\n",
              "\n",
              "  <div class=\"colab-df-container\">\n",
              "    <button class=\"colab-df-convert\" onclick=\"convertToInteractive('df-46408940-f860-4850-b67f-daa07adf0dcd')\"\n",
              "            title=\"Convert this dataframe to an interactive table.\"\n",
              "            style=\"display:none;\">\n",
              "\n",
              "  <svg xmlns=\"http://www.w3.org/2000/svg\" height=\"24px\" viewBox=\"0 -960 960 960\">\n",
              "    <path d=\"M120-120v-720h720v720H120Zm60-500h600v-160H180v160Zm220 220h160v-160H400v160Zm0 220h160v-160H400v160ZM180-400h160v-160H180v160Zm440 0h160v-160H620v160ZM180-180h160v-160H180v160Zm440 0h160v-160H620v160Z\"/>\n",
              "  </svg>\n",
              "    </button>\n",
              "\n",
              "  <style>\n",
              "    .colab-df-container {\n",
              "      display:flex;\n",
              "      gap: 12px;\n",
              "    }\n",
              "\n",
              "    .colab-df-convert {\n",
              "      background-color: #E8F0FE;\n",
              "      border: none;\n",
              "      border-radius: 50%;\n",
              "      cursor: pointer;\n",
              "      display: none;\n",
              "      fill: #1967D2;\n",
              "      height: 32px;\n",
              "      padding: 0 0 0 0;\n",
              "      width: 32px;\n",
              "    }\n",
              "\n",
              "    .colab-df-convert:hover {\n",
              "      background-color: #E2EBFA;\n",
              "      box-shadow: 0px 1px 2px rgba(60, 64, 67, 0.3), 0px 1px 3px 1px rgba(60, 64, 67, 0.15);\n",
              "      fill: #174EA6;\n",
              "    }\n",
              "\n",
              "    .colab-df-buttons div {\n",
              "      margin-bottom: 4px;\n",
              "    }\n",
              "\n",
              "    [theme=dark] .colab-df-convert {\n",
              "      background-color: #3B4455;\n",
              "      fill: #D2E3FC;\n",
              "    }\n",
              "\n",
              "    [theme=dark] .colab-df-convert:hover {\n",
              "      background-color: #434B5C;\n",
              "      box-shadow: 0px 1px 3px 1px rgba(0, 0, 0, 0.15);\n",
              "      filter: drop-shadow(0px 1px 2px rgba(0, 0, 0, 0.3));\n",
              "      fill: #FFFFFF;\n",
              "    }\n",
              "  </style>\n",
              "\n",
              "    <script>\n",
              "      const buttonEl =\n",
              "        document.querySelector('#df-46408940-f860-4850-b67f-daa07adf0dcd button.colab-df-convert');\n",
              "      buttonEl.style.display =\n",
              "        google.colab.kernel.accessAllowed ? 'block' : 'none';\n",
              "\n",
              "      async function convertToInteractive(key) {\n",
              "        const element = document.querySelector('#df-46408940-f860-4850-b67f-daa07adf0dcd');\n",
              "        const dataTable =\n",
              "          await google.colab.kernel.invokeFunction('convertToInteractive',\n",
              "                                                    [key], {});\n",
              "        if (!dataTable) return;\n",
              "\n",
              "        const docLinkHtml = 'Like what you see? Visit the ' +\n",
              "          '<a target=\"_blank\" href=https://colab.research.google.com/notebooks/data_table.ipynb>data table notebook</a>'\n",
              "          + ' to learn more about interactive tables.';\n",
              "        element.innerHTML = '';\n",
              "        dataTable['output_type'] = 'display_data';\n",
              "        await google.colab.output.renderOutput(dataTable, element);\n",
              "        const docLink = document.createElement('div');\n",
              "        docLink.innerHTML = docLinkHtml;\n",
              "        element.appendChild(docLink);\n",
              "      }\n",
              "    </script>\n",
              "  </div>\n",
              "\n",
              "\n",
              "<div id=\"df-3b9de1e1-4520-4ad1-b255-9594aabd39ba\">\n",
              "  <button class=\"colab-df-quickchart\" onclick=\"quickchart('df-3b9de1e1-4520-4ad1-b255-9594aabd39ba')\"\n",
              "            title=\"Suggest charts.\"\n",
              "            style=\"display:none;\">\n",
              "\n",
              "<svg xmlns=\"http://www.w3.org/2000/svg\" height=\"24px\"viewBox=\"0 0 24 24\"\n",
              "     width=\"24px\">\n",
              "    <g>\n",
              "        <path d=\"M19 3H5c-1.1 0-2 .9-2 2v14c0 1.1.9 2 2 2h14c1.1 0 2-.9 2-2V5c0-1.1-.9-2-2-2zM9 17H7v-7h2v7zm4 0h-2V7h2v10zm4 0h-2v-4h2v4z\"/>\n",
              "    </g>\n",
              "</svg>\n",
              "  </button>\n",
              "\n",
              "<style>\n",
              "  .colab-df-quickchart {\n",
              "    background-color: #E8F0FE;\n",
              "    border: none;\n",
              "    border-radius: 50%;\n",
              "    cursor: pointer;\n",
              "    display: none;\n",
              "    fill: #1967D2;\n",
              "    height: 32px;\n",
              "    padding: 0 0 0 0;\n",
              "    width: 32px;\n",
              "  }\n",
              "\n",
              "  .colab-df-quickchart:hover {\n",
              "    background-color: #E2EBFA;\n",
              "    box-shadow: 0px 1px 2px rgba(60, 64, 67, 0.3), 0px 1px 3px 1px rgba(60, 64, 67, 0.15);\n",
              "    fill: #174EA6;\n",
              "  }\n",
              "\n",
              "  [theme=dark] .colab-df-quickchart {\n",
              "    background-color: #3B4455;\n",
              "    fill: #D2E3FC;\n",
              "  }\n",
              "\n",
              "  [theme=dark] .colab-df-quickchart:hover {\n",
              "    background-color: #434B5C;\n",
              "    box-shadow: 0px 1px 3px 1px rgba(0, 0, 0, 0.15);\n",
              "    filter: drop-shadow(0px 1px 2px rgba(0, 0, 0, 0.3));\n",
              "    fill: #FFFFFF;\n",
              "  }\n",
              "</style>\n",
              "\n",
              "  <script>\n",
              "    async function quickchart(key) {\n",
              "      const charts = await google.colab.kernel.invokeFunction(\n",
              "          'suggestCharts', [key], {});\n",
              "    }\n",
              "    (() => {\n",
              "      let quickchartButtonEl =\n",
              "        document.querySelector('#df-3b9de1e1-4520-4ad1-b255-9594aabd39ba button');\n",
              "      quickchartButtonEl.style.display =\n",
              "        google.colab.kernel.accessAllowed ? 'block' : 'none';\n",
              "    })();\n",
              "  </script>\n",
              "</div>\n",
              "    </div>\n",
              "  </div>\n"
            ]
          },
          "metadata": {},
          "execution_count": 12
        }
      ]
    },
    {
      "cell_type": "code",
      "source": [],
      "metadata": {
        "id": "ozFPpZ4DsgVo"
      },
      "execution_count": null,
      "outputs": []
    }
  ]
}